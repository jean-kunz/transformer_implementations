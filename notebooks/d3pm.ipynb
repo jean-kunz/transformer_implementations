{
 "cells": [
  {
   "cell_type": "code",
   "execution_count": 1,
   "id": "95e60c56",
   "metadata": {},
   "outputs": [
    {
     "name": "stdout",
     "output_type": "stream",
     "text": [
      "env: TOKENIZERS_PARALLELISM=false\n"
     ]
    }
   ],
   "source": [
    "# | default_exp attention\n",
    "\n",
    "%load_ext autoreload\n",
    "%autoreload 2\n",
    "\n",
    "%env TOKENIZERS_PARALLELISM=false"
   ]
  },
  {
   "cell_type": "code",
   "execution_count": 85,
   "id": "b4404c3b",
   "metadata": {},
   "outputs": [],
   "source": [
    "import torch\n",
    "import torch.nn as nn\n",
    "import torch.nn.functional as F\n",
    "import numpy as np\n",
    "from torch.utils.data import Dataset, DataLoader\n",
    "import uuid\n",
    "import pandas as pd\n",
    "from tqdm.notebook import tqdm\n",
    "from torch.utils.tensorboard import SummaryWriter\n",
    "import datetime\n",
    "from icecream import ic\n",
    "import math\n",
    "\n",
    "from transformers import AutoTokenizer"
   ]
  },
  {
   "cell_type": "code",
   "execution_count": 3,
   "id": "7edbbc8d",
   "metadata": {},
   "outputs": [],
   "source": [
    "df = pd.read_csv(\"../dataset/bob_dylan_lyrics.csv\")\n",
    "lines = []\n",
    "nb_rows = 100\n",
    "row_id = 0\n",
    "for r in df.iterrows():\n",
    "    # todo: one line is one sentence.\n",
    "    lines.append(r[1][\"title\"])\n",
    "    # sentences.append(r[1][\"title\"] + \"\\n\" + r[1][\"lyrics\"])\n",
    "    lyrics = r[1][\"lyrics\"].split(\"\\n\")\n",
    "    for line in lyrics:\n",
    "        if len(line.strip()) > 0:\n",
    "            lines.append(line.strip())\n",
    "        row_id += 1\n",
    "        if len(lines) >= nb_rows:\n",
    "            break\n",
    "    if len(lines) >= nb_rows:\n",
    "        break\n"
   ]
  },
  {
   "cell_type": "code",
   "execution_count": 68,
   "id": "15285b8c",
   "metadata": {},
   "outputs": [],
   "source": [
    "class LyricsDataset(Dataset):\n",
    "    def __init__(self, texts, tokenizer, seq_len=128):\n",
    "        self.tokenizer = tokenizer\n",
    "        self.seq_len = seq_len\n",
    "        self.examples = []\n",
    "        for line in texts:\n",
    "            tokens = tokenizer.convert_tokens_to_ids(tokenizer.tokenize(line))\n",
    "            self.examples.append(tokens)\n",
    "\n",
    "    def __len__(self):\n",
    "        return len(self.examples)\n",
    "\n",
    "    def __getitem__(self, idx):\n",
    "        inp = self.examples[idx]\n",
    "        pad_id = self.tokenizer.pad_token_id\n",
    "        inp = inp + [pad_id] * (self.seq_len - len(inp))\n",
    "        return torch.tensor(inp)\n"
   ]
  },
  {
   "cell_type": "code",
   "execution_count": 69,
   "id": "4da5c133",
   "metadata": {},
   "outputs": [],
   "source": [
    "tokenizer = AutoTokenizer.from_pretrained(\"bert-base-uncased\")\n",
    "tokenizer.add_special_tokens({\"pad_token\": \"[PAD]\"})\n",
    "dataset = LyricsDataset(lines, tokenizer, seq_len=32)\n",
    "dataloader = DataLoader(dataset, batch_size=32, shuffle=True)\n",
    "if torch.backends.mps.is_available():\n",
    "    device = torch.device(\"mps\")\n",
    "elif torch.cuda.is_available():\n",
    "    device = torch.device(\"cuda\")\n",
    "else:\n",
    "    device = torch.device(\"cpu\")"
   ]
  },
  {
   "cell_type": "code",
   "execution_count": 70,
   "id": "f119720a",
   "metadata": {},
   "outputs": [
    {
     "data": {
      "text/plain": [
       "30522"
      ]
     },
     "execution_count": 70,
     "metadata": {},
     "output_type": "execute_result"
    }
   ],
   "source": [
    "next(iter(dataloader))\n",
    "len(tokenizer)"
   ]
  },
  {
   "cell_type": "code",
   "execution_count": 71,
   "id": "3c0b8839",
   "metadata": {},
   "outputs": [],
   "source": [
    "class DiscreteDiffusion:\n",
    "    def __init__(self, num_tokens, timesteps, beta_start=0.0001, beta_end=0.02):\n",
    "        self.num_tokens = num_tokens\n",
    "        self.timesteps = timesteps\n",
    "        self.betas = torch.linspace(beta_start, beta_end, timesteps)\n",
    "        self.alphas = 1.0 - self.betas\n",
    "        self.alpha_bars = torch.cumprod(self.alphas, dim=0)\n",
    "\n",
    "    def q_sample(self, x0, t):\n",
    "        B, L = x0.shape\n",
    "        out = torch.zeros_like(x0)\n",
    "        for i in range(B):\n",
    "            a_bar = self.alpha_bars[t[i]].item()\n",
    "            mask = torch.rand((L,), device=x0.device) >= a_bar\n",
    "            out[i] = x0[i].clone()\n",
    "            noise = torch.randint(0, self.num_tokens, (L,), device=x0.device)\n",
    "            out[i][mask] = noise[mask]\n",
    "        return out"
   ]
  },
  {
   "cell_type": "code",
   "execution_count": 72,
   "id": "70eaf511",
   "metadata": {},
   "outputs": [],
   "source": [
    "diffusion = DiscreteDiffusion(num_tokens=len(tokenizer), timesteps=100)"
   ]
  },
  {
   "cell_type": "code",
   "execution_count": 73,
   "id": "1e48f1b5",
   "metadata": {},
   "outputs": [
    {
     "data": {
      "text/plain": [
       "tensor([[ 2000, 16696,  8232,  ...,     0,     0,     0],\n",
       "        [ 2129,  2002,  2351,  ...,     0,     0,     0],\n",
       "        [ 2092,  1010,  1996,  ...,     0,     0,     0],\n",
       "        ...,\n",
       "        [ 2027,  2179,  2032,  ...,     0,     0,     0],\n",
       "        [ 2092,  1010,  2057,  ...,     0,     0,     0],\n",
       "        [ 2416,  4595,  2111,  ...,     0,     0,     0]], device='mps:0')"
      ]
     },
     "execution_count": 73,
     "metadata": {},
     "output_type": "execute_result"
    }
   ],
   "source": [
    "inp = next(iter(dataloader)).to(device)\n",
    "inp"
   ]
  },
  {
   "cell_type": "code",
   "execution_count": 79,
   "id": "361dcfa9",
   "metadata": {},
   "outputs": [
    {
     "name": "stderr",
     "output_type": "stream",
     "text": [
      "ic| show_noise(sent_nb, 0)[1]: ('there on the sidewalk he did lay [PAD] [PAD] [PAD] [PAD] [PAD] [PAD] [PAD] '\n",
      "                                '[PAD] [PAD] [PAD] [PAD] [PAD] [PAD] [PAD] [PAD] [PAD] [PAD] [PAD] [PAD] '\n",
      "                                '[PAD] [PAD] [PAD] [PAD] [PAD] [PAD]')\n",
      "ic| show_noise(sent_nb, 12)[1]: ('there on the sidewalk he did lay [PAD] [PAD] [PAD] [PAD] [PAD] [PAD] [PAD] '\n",
      "                                 'mountains [PAD] [PAD] [PAD] [PAD] [PAD] [PAD] [PAD] [PAD] [PAD] [PAD] [PAD] '\n",
      "                                 '[PAD] [PAD] [PAD] [PAD] [PAD] [PAD]')\n",
      "ic| show_noise(sent_nb, 50)[1]: ('there on the sidewalk he did lay rhythms [PAD] [PAD] [PAD]ɣ [PAD] [PAD] '\n",
      "                                 '[PAD] [PAD] [PAD] [PAD] makers [PAD] [PAD]feit [PAD] everyday [PAD] [PAD] ᴬ '\n",
      "                                 '[PAD] [PAD] ridley pause [PAD]')\n",
      "ic| show_noise(sent_nb, 99)[1]: ('allies eliminating the 184 facility did knox determines [PAD] announced '\n",
      "                                 'capable [PAD] [PAD] overshadowed illustrious communicate [PAD] malaya sinn '\n",
      "                                 'facilitating ridley edges [PAD]ת [PAD] [PAD] [PAD] detroit [PAD]iste mammal '\n",
      "                                 '[PAD]')\n"
     ]
    }
   ],
   "source": [
    "def show_noise(line_nb, step):\n",
    "    src_line = tokenizer.decode(inp[line_nb].cpu().numpy())\n",
    "    noisy_inp = diffusion.q_sample(inp[line_nb : line_nb + 1], torch.tensor([step]).to(device))\n",
    "    noisy_line = tokenizer.decode(noisy_inp[0].cpu().numpy())\n",
    "    return src_line, noisy_line\n",
    "\n",
    "\n",
    "sent_nb = 4\n",
    "ic(show_noise(sent_nb, 0)[1])\n",
    "ic(show_noise(sent_nb, 12)[1])\n",
    "ic(show_noise(sent_nb, 50)[1])\n",
    "ic(show_noise(sent_nb, 99)[1]);\n"
   ]
  },
  {
   "cell_type": "code",
   "execution_count": 83,
   "id": "13a12987",
   "metadata": {},
   "outputs": [],
   "source": [
    "class TimeEmbedding(nn.Module):\n",
    "    def __init__(self, dim):\n",
    "        super().__init__()\n",
    "        self.lin = nn.Linear(dim, dim)\n",
    "\n",
    "    def forward(self, t):\n",
    "        half = self.lin.in_features // 2\n",
    "        freqs = torch.exp(-math.log(10000) * torch.arange(half, dtype=torch.float32) / half).to(t.device)\n",
    "        args = t[:, None].float() * freqs[None]\n",
    "        emb = torch.cat([torch.sin(args), torch.cos(args)], dim=-1)\n",
    "        return self.lin(emb)\n",
    "\n",
    "\n",
    "class DiffusionTransformer(nn.Module):\n",
    "    def __init__(self, vocab_size, seq_len, dim=512, heads=8, layers=6):\n",
    "        super().__init__()\n",
    "        self.token_emb = nn.Embedding(vocab_size, dim)\n",
    "        self.pos_emb = nn.Embedding(seq_len, dim)\n",
    "        self.time_emb = TimeEmbedding(dim)\n",
    "        enc_layer = nn.TransformerEncoderLayer(dim, heads, dim * 4)\n",
    "        self.transformer = nn.TransformerEncoder(enc_layer, layers)\n",
    "        self.to_logits = nn.Linear(dim, vocab_size)\n",
    "        self.seq_len = seq_len\n",
    "\n",
    "    def forward(self, x, t):\n",
    "        B, L = x.shape\n",
    "        tok = self.token_emb(x)\n",
    "        pos = self.pos_emb(torch.arange(L, device=x.device))\n",
    "        temb = self.time_emb(t).unsqueeze(1)\n",
    "        h = tok + pos + temb\n",
    "        h = self.transformer(h.transpose(0, 1)).transpose(0, 1)\n",
    "        return self.to_logits(h)"
   ]
  },
  {
   "cell_type": "code",
   "execution_count": 92,
   "id": "be6d4a6c",
   "metadata": {},
   "outputs": [
    {
     "name": "stderr",
     "output_type": "stream",
     "text": [
      "/Users/jkunz/Projects/transformer_implementations/.venv/lib/python3.12/site-packages/torch/nn/modules/transformer.py:382: UserWarning: enable_nested_tensor is True, but self.use_nested_tensor is False because encoder_layer.self_attn.batch_first was not True(use batch_first for better inference performance)\n",
      "  warnings.warn(\n"
     ]
    },
    {
     "name": "stdout",
     "output_type": "stream",
     "text": [
      "Epoch 1/100 | Loss: 7.3190\n",
      "Epoch 2/100 | Loss: 3.8459\n",
      "Epoch 2/100 | Loss: 3.8459\n",
      "Epoch 3/100 | Loss: 3.6677\n",
      "Epoch 3/100 | Loss: 3.6677\n",
      "Epoch 4/100 | Loss: 3.5243\n",
      "Epoch 4/100 | Loss: 3.5243\n",
      "Epoch 5/100 | Loss: 3.3978\n",
      "Epoch 5/100 | Loss: 3.3978\n",
      "Epoch 6/100 | Loss: 3.2776\n",
      "Epoch 6/100 | Loss: 3.2776\n",
      "Epoch 7/100 | Loss: 3.1534\n",
      "Epoch 7/100 | Loss: 3.1534\n",
      "Epoch 8/100 | Loss: 2.9913\n",
      "Epoch 8/100 | Loss: 2.9913\n",
      "Epoch 9/100 | Loss: 2.8114\n",
      "Epoch 9/100 | Loss: 2.8114\n",
      "Epoch 10/100 | Loss: 2.6487\n",
      "Epoch 10/100 | Loss: 2.6487\n",
      "Epoch 11/100 | Loss: 2.5297\n",
      "Epoch 11/100 | Loss: 2.5297\n",
      "Epoch 12/100 | Loss: 2.3970\n",
      "Epoch 12/100 | Loss: 2.3970\n",
      "Epoch 13/100 | Loss: 2.3057\n",
      "Epoch 13/100 | Loss: 2.3057\n",
      "Epoch 14/100 | Loss: 2.1907\n",
      "Epoch 14/100 | Loss: 2.1907\n",
      "Epoch 15/100 | Loss: 2.1217\n",
      "Epoch 15/100 | Loss: 2.1217\n",
      "Epoch 16/100 | Loss: 2.0426\n",
      "Epoch 16/100 | Loss: 2.0426\n",
      "Epoch 17/100 | Loss: 1.9895\n",
      "Epoch 17/100 | Loss: 1.9895\n",
      "Epoch 18/100 | Loss: 1.9133\n",
      "Epoch 18/100 | Loss: 1.9133\n",
      "Epoch 19/100 | Loss: 1.8548\n",
      "Epoch 19/100 | Loss: 1.8548\n",
      "Epoch 20/100 | Loss: 1.7806\n",
      "Epoch 20/100 | Loss: 1.7806\n",
      "Epoch 21/100 | Loss: 1.6996\n",
      "Epoch 21/100 | Loss: 1.6996\n",
      "Epoch 22/100 | Loss: 1.6472\n",
      "Epoch 22/100 | Loss: 1.6472\n",
      "Epoch 23/100 | Loss: 1.5938\n",
      "Epoch 23/100 | Loss: 1.5938\n",
      "Epoch 24/100 | Loss: 1.5571\n",
      "Epoch 24/100 | Loss: 1.5571\n",
      "Epoch 25/100 | Loss: 1.4997\n",
      "Epoch 25/100 | Loss: 1.4997\n",
      "Epoch 26/100 | Loss: 1.4572\n",
      "Epoch 26/100 | Loss: 1.4572\n",
      "Epoch 27/100 | Loss: 1.3761\n",
      "Epoch 27/100 | Loss: 1.3761\n",
      "Epoch 28/100 | Loss: 1.3922\n",
      "Epoch 28/100 | Loss: 1.3922\n",
      "Epoch 29/100 | Loss: 1.2989\n",
      "Epoch 29/100 | Loss: 1.2989\n",
      "Epoch 30/100 | Loss: 1.2622\n",
      "Epoch 30/100 | Loss: 1.2622\n",
      "Epoch 31/100 | Loss: 1.2472\n",
      "Epoch 31/100 | Loss: 1.2472\n",
      "Epoch 32/100 | Loss: 1.1726\n",
      "Epoch 32/100 | Loss: 1.1726\n",
      "Epoch 33/100 | Loss: 1.1375\n",
      "Epoch 33/100 | Loss: 1.1375\n",
      "Epoch 34/100 | Loss: 1.1190\n",
      "Epoch 34/100 | Loss: 1.1190\n",
      "Epoch 35/100 | Loss: 1.0456\n",
      "Epoch 35/100 | Loss: 1.0456\n",
      "Epoch 36/100 | Loss: 1.0497\n",
      "Epoch 36/100 | Loss: 1.0497\n",
      "Epoch 37/100 | Loss: 1.0608\n",
      "Epoch 37/100 | Loss: 1.0608\n",
      "Epoch 38/100 | Loss: 1.0495\n",
      "Epoch 38/100 | Loss: 1.0495\n",
      "Epoch 39/100 | Loss: 0.9989\n",
      "Epoch 39/100 | Loss: 0.9989\n",
      "Epoch 40/100 | Loss: 0.9838\n",
      "Epoch 40/100 | Loss: 0.9838\n",
      "Epoch 41/100 | Loss: 0.9473\n",
      "Epoch 41/100 | Loss: 0.9473\n",
      "Epoch 42/100 | Loss: 0.9016\n",
      "Epoch 42/100 | Loss: 0.9016\n",
      "Epoch 43/100 | Loss: 0.9254\n",
      "Epoch 43/100 | Loss: 0.9254\n",
      "Epoch 44/100 | Loss: 0.9461\n",
      "Epoch 44/100 | Loss: 0.9461\n",
      "Epoch 45/100 | Loss: 0.8706\n",
      "Epoch 45/100 | Loss: 0.8706\n",
      "Epoch 46/100 | Loss: 0.9293\n",
      "Epoch 46/100 | Loss: 0.9293\n",
      "Epoch 47/100 | Loss: 0.8485\n",
      "Epoch 47/100 | Loss: 0.8485\n",
      "Epoch 48/100 | Loss: 0.7967\n",
      "Epoch 48/100 | Loss: 0.7967\n",
      "Epoch 49/100 | Loss: 0.8312\n",
      "Epoch 49/100 | Loss: 0.8312\n",
      "Epoch 50/100 | Loss: 0.8140\n",
      "Epoch 50/100 | Loss: 0.8140\n",
      "Epoch 51/100 | Loss: 0.8167\n",
      "Epoch 51/100 | Loss: 0.8167\n",
      "Epoch 52/100 | Loss: 0.7914\n",
      "Epoch 52/100 | Loss: 0.7914\n",
      "Epoch 53/100 | Loss: 0.7732\n",
      "Epoch 53/100 | Loss: 0.7732\n",
      "Epoch 54/100 | Loss: 0.6872\n",
      "Epoch 54/100 | Loss: 0.6872\n",
      "Epoch 55/100 | Loss: 0.6854\n",
      "Epoch 55/100 | Loss: 0.6854\n",
      "Epoch 56/100 | Loss: 0.6986\n",
      "Epoch 56/100 | Loss: 0.6986\n",
      "Epoch 57/100 | Loss: 0.7548\n",
      "Epoch 57/100 | Loss: 0.7548\n",
      "Epoch 58/100 | Loss: 0.6866\n",
      "Epoch 58/100 | Loss: 0.6866\n",
      "Epoch 59/100 | Loss: 0.7599\n",
      "Epoch 59/100 | Loss: 0.7599\n",
      "Epoch 60/100 | Loss: 0.6378\n",
      "Epoch 60/100 | Loss: 0.6378\n",
      "Epoch 61/100 | Loss: 0.6399\n",
      "Epoch 61/100 | Loss: 0.6399\n",
      "Epoch 62/100 | Loss: 0.6307\n",
      "Epoch 62/100 | Loss: 0.6307\n",
      "Epoch 63/100 | Loss: 0.5898\n",
      "Epoch 63/100 | Loss: 0.5898\n",
      "Epoch 64/100 | Loss: 0.5806\n",
      "Epoch 64/100 | Loss: 0.5806\n",
      "Epoch 65/100 | Loss: 0.6281\n",
      "Epoch 65/100 | Loss: 0.6281\n",
      "Epoch 66/100 | Loss: 0.5785\n",
      "Epoch 66/100 | Loss: 0.5785\n",
      "Epoch 67/100 | Loss: 0.5765\n",
      "Epoch 67/100 | Loss: 0.5765\n",
      "Epoch 68/100 | Loss: 0.5854\n",
      "Epoch 68/100 | Loss: 0.5854\n",
      "Epoch 69/100 | Loss: 0.5619\n",
      "Epoch 69/100 | Loss: 0.5619\n",
      "Epoch 70/100 | Loss: 0.5722\n",
      "Epoch 70/100 | Loss: 0.5722\n",
      "Epoch 71/100 | Loss: 0.4808\n",
      "Epoch 71/100 | Loss: 0.4808\n",
      "Epoch 72/100 | Loss: 0.5510\n",
      "Epoch 72/100 | Loss: 0.5510\n",
      "Epoch 73/100 | Loss: 0.5448\n",
      "Epoch 73/100 | Loss: 0.5448\n",
      "Epoch 74/100 | Loss: 0.5273\n",
      "Epoch 74/100 | Loss: 0.5273\n",
      "Epoch 75/100 | Loss: 0.5007\n",
      "Epoch 75/100 | Loss: 0.5007\n",
      "Epoch 76/100 | Loss: 0.5528\n",
      "Epoch 76/100 | Loss: 0.5528\n",
      "Epoch 77/100 | Loss: 0.4584\n",
      "Epoch 77/100 | Loss: 0.4584\n",
      "Epoch 78/100 | Loss: 0.5005\n",
      "Epoch 78/100 | Loss: 0.5005\n",
      "Epoch 79/100 | Loss: 0.5590\n",
      "Epoch 79/100 | Loss: 0.5590\n",
      "Epoch 80/100 | Loss: 0.5203\n",
      "Epoch 80/100 | Loss: 0.5203\n",
      "Epoch 81/100 | Loss: 0.5054\n",
      "Epoch 81/100 | Loss: 0.5054\n",
      "Epoch 82/100 | Loss: 0.4920\n",
      "Epoch 82/100 | Loss: 0.4920\n",
      "Epoch 83/100 | Loss: 0.4677\n",
      "Epoch 83/100 | Loss: 0.4677\n",
      "Epoch 84/100 | Loss: 0.4721\n",
      "Epoch 84/100 | Loss: 0.4721\n",
      "Epoch 85/100 | Loss: 0.4936\n",
      "Epoch 85/100 | Loss: 0.4936\n",
      "Epoch 86/100 | Loss: 0.4854\n",
      "Epoch 86/100 | Loss: 0.4854\n",
      "Epoch 87/100 | Loss: 0.5128\n",
      "Epoch 87/100 | Loss: 0.5128\n",
      "Epoch 88/100 | Loss: 0.4778\n",
      "Epoch 88/100 | Loss: 0.4778\n",
      "Epoch 89/100 | Loss: 0.4580\n",
      "Epoch 89/100 | Loss: 0.4580\n",
      "Epoch 90/100 | Loss: 0.4063\n",
      "Epoch 90/100 | Loss: 0.4063\n",
      "Epoch 91/100 | Loss: 0.4779\n",
      "Epoch 91/100 | Loss: 0.4779\n",
      "Epoch 92/100 | Loss: 0.3992\n",
      "Epoch 92/100 | Loss: 0.3992\n",
      "Epoch 93/100 | Loss: 0.4885\n",
      "Epoch 93/100 | Loss: 0.4885\n",
      "Epoch 94/100 | Loss: 0.4716\n",
      "Epoch 94/100 | Loss: 0.4716\n",
      "Epoch 95/100 | Loss: 0.3869\n",
      "Epoch 95/100 | Loss: 0.3869\n",
      "Epoch 96/100 | Loss: 0.4278\n",
      "Epoch 96/100 | Loss: 0.4278\n",
      "Epoch 97/100 | Loss: 0.3510\n",
      "Epoch 97/100 | Loss: 0.3510\n",
      "Epoch 98/100 | Loss: 0.3669\n",
      "Epoch 98/100 | Loss: 0.3669\n",
      "Epoch 99/100 | Loss: 0.3875\n",
      "Epoch 99/100 | Loss: 0.3875\n",
      "Epoch 100/100 | Loss: 0.4173\n",
      "Epoch 100/100 | Loss: 0.4173\n"
     ]
    }
   ],
   "source": [
    "seq_len = 32\n",
    "batch_size = 32\n",
    "dataset = LyricsDataset(lines, tokenizer, seq_len=seq_len)\n",
    "dataloader = DataLoader(dataset, batch_size=batch_size, shuffle=True)\n",
    "\n",
    "diffusion = DiscreteDiffusion(num_tokens=len(tokenizer), timesteps=100)\n",
    "model = DiffusionTransformer(vocab_size=len(tokenizer), seq_len=seq_len)\n",
    "model.to(device)\n",
    "epochs = 100\n",
    "lr = 1e-4\n",
    "\n",
    "optimizer = torch.optim.Adam(model.parameters(), lr=lr)\n",
    "for epoch in range(1, epochs + 1):\n",
    "    model.train()\n",
    "    total_loss = 0.0\n",
    "    for inp in dataloader:\n",
    "        inp = inp.to(device)\n",
    "        B = inp.size(0)\n",
    "        t = torch.randint(0, diffusion.timesteps, (B,), device=device)\n",
    "        noised = diffusion.q_sample(inp, t)\n",
    "        logits = model(noised, t)\n",
    "        loss = F.cross_entropy(\n",
    "            logits.view(-1, logits.size(-1)),\n",
    "            inp.view(-1),\n",
    "            ignore_index=model.token_emb.padding_idx\n",
    "            if (hasattr(model.token_emb, \"padding_idx\") and model.token_emb.padding_idx is not None)\n",
    "            else -100,\n",
    "        )\n",
    "        optimizer.zero_grad()\n",
    "        loss.backward()\n",
    "        optimizer.step()\n",
    "        total_loss += loss.item() * B\n",
    "    print(f\"Epoch {epoch}/{epochs} | Loss: {total_loss / len(dataloader.dataset):.4f}\")"
   ]
  },
  {
   "cell_type": "code",
   "execution_count": 97,
   "id": "667d4733",
   "metadata": {},
   "outputs": [
    {
     "name": "stderr",
     "output_type": "stream",
     "text": [
      "ic| start_len: 3\n",
      "| start_len: 3\n"
     ]
    },
    {
     "name": "stdout",
     "output_type": "stream",
     "text": [
      "You will be down [PAD] [PAD] [PAD] the from [PAD] [PAD] [PAD] [PAD] [PAD] [PAD] [PAD] [PAD] [PAD] [PAD] [PAD] [PAD] [PAD] [PAD] [PAD] [PAD] [PAD] [PAD] [PAD] [PAD] [PAD] [PAD] [PAD]\n"
     ]
    }
   ],
   "source": [
    "def generate(model, diffusion, tokenizer, prompt, length=50, device=\"cpu\"):\n",
    "    model.to(device).eval()\n",
    "    # tokenize prompt\n",
    "    p_tok = tokenizer.convert_tokens_to_ids(tokenizer.tokenize(prompt))\n",
    "    seq_len = model.seq_len\n",
    "    # ensure prompt + generation fits\n",
    "    assert len(p_tok) + length <= seq_len, f\"prompt+length ({len(p_tok) + length}) exceeds model.seq_len ({seq_len})\"\n",
    "    # initialize full sequence: prompt + random tokens\n",
    "    x = torch.randint(0, diffusion.num_tokens, (1, seq_len), device=device)\n",
    "    x[0, : len(p_tok)] = torch.tensor(p_tok, device=device)\n",
    "    fixed = torch.zeros(seq_len, dtype=torch.bool, device=device)\n",
    "    fixed[: len(p_tok)] = True\n",
    "\n",
    "    with torch.no_grad():\n",
    "        for t in reversed(range(diffusion.timesteps)):\n",
    "            t_batch = torch.tensor([t], device=device)\n",
    "            logits = model(x, t_batch)\n",
    "            probs = F.softmax(logits, dim=-1)\n",
    "            x = torch.multinomial(probs.view(-1, diffusion.num_tokens), num_samples=1).view(1, seq_len)\n",
    "            # restore prompt positions\n",
    "            x[0, fixed] = torch.tensor(p_tok, device=device)\n",
    "\n",
    "    generated = x[0, len(p_tok) :].tolist()\n",
    "    return prompt + tokenizer.decode(generated)\n",
    "\n",
    "\n",
    "start_text = \"You will be \"\n",
    "start_toks = tokenizer.tokenize(start_text)\n",
    "start_len = len(start_toks)\n",
    "ic(start_len)\n",
    "print(generate(model, diffusion, tokenizer, start_text, length=seq_len - start_len, device=device))"
   ]
  },
  {
   "cell_type": "code",
   "execution_count": 91,
   "id": "5bae1d27",
   "metadata": {},
   "outputs": [
    {
     "data": {
      "text/plain": [
       "30522"
      ]
     },
     "execution_count": 91,
     "metadata": {},
     "output_type": "execute_result"
    }
   ],
   "source": [
    "len(tokenizer)"
   ]
  },
  {
   "cell_type": "code",
   "execution_count": 32,
   "id": "acdcf678",
   "metadata": {},
   "outputs": [],
   "source": [
    "# Toy dataset: simple sentences\n",
    "# sentences = [\"the cat sits\", \"a dog runs\", \"birds fly high\", \"fish swim fast\", \"the sun shines\"]\n",
    "\n",
    "# Build a simple vocabulary\n",
    "words = set(\" \".join(lines).split())\n",
    "word_to_idx = {word: idx + 1 for idx, word in enumerate(words)}  # +1 for padding\n",
    "word_to_idx[\"<pad>\"] = 0\n",
    "idx_to_word = {idx: word for word, idx in word_to_idx.items()}\n",
    "vocab_size = len(word_to_idx)\n",
    "max_len = max(len(s.split()) for s in lines)\n",
    "\n",
    "\n",
    "# Convert sentences to token sequences\n",
    "def tokenize_sentence(sentence):\n",
    "    tokens = [word_to_idx[word] for word in sentence.split()]\n",
    "    return tokens + [0] * (max_len - len(tokens))  # Pad to max_len\n",
    "\n",
    "\n",
    "tokenized_data = [tokenize_sentence(s) for s in lines]\n"
   ]
  },
  {
   "cell_type": "code",
   "execution_count": 33,
   "id": "bca56734",
   "metadata": {},
   "outputs": [
    {
     "data": {
      "text/plain": [
       "(100, 13)"
      ]
     },
     "execution_count": 33,
     "metadata": {},
     "output_type": "execute_result"
    }
   ],
   "source": [
    "np.array(tokenized_data).shape\n"
   ]
  },
  {
   "cell_type": "code",
   "execution_count": 34,
   "id": "ad7c147d",
   "metadata": {},
   "outputs": [],
   "source": [
    "# Custom Dataset\n",
    "class TextDataset(Dataset):\n",
    "    def __init__(self, data):\n",
    "        self.data = torch.tensor(data, dtype=torch.long)\n",
    "\n",
    "    def __len__(self):\n",
    "        return len(self.data)\n",
    "\n",
    "    def __getitem__(self, idx):\n",
    "        return self.data[idx]\n",
    "\n",
    "\n",
    "# lets overfit on the first 100 sentences\n",
    "dataset = TextDataset(tokenized_data)\n",
    "dataloader = DataLoader(dataset, batch_size=64, shuffle=True)\n"
   ]
  },
  {
   "cell_type": "code",
   "execution_count": 35,
   "id": "b9865a1d",
   "metadata": {},
   "outputs": [
    {
     "data": {
      "text/plain": [
       "torch.Size([64, 13])"
      ]
     },
     "execution_count": 35,
     "metadata": {},
     "output_type": "execute_result"
    }
   ],
   "source": [
    "next(iter(dataloader)).shape\n"
   ]
  },
  {
   "cell_type": "code",
   "execution_count": 49,
   "id": "664987b9",
   "metadata": {},
   "outputs": [
    {
     "name": "stderr",
     "output_type": "stream",
     "text": [
      "ic| tokenized_data[:2]: [[216, 106, 50, 263, 306, 66, 0, 0, 0, 0, 0, 0, 0],\n",
      "                         [100, 349, 236, 292, 349, 258, 108, 92, 310, 53, 0, 0, 0]]\n"
     ]
    },
    {
     "data": {
      "text/plain": [
       "tensor([[216, 106,  50, 263, 306,  66,   0,   0,   0,   0,   0,   0,   0],\n",
       "        [ 67, 311, 236,  24, 349, 258, 273,  92, 310,  53,   0, 340,   0]])"
      ]
     },
     "execution_count": 49,
     "metadata": {},
     "output_type": "execute_result"
    }
   ],
   "source": [
    "# D3PM (Discrete Denoising Diffusion Probabilistic Model)\n",
    "class D3PM:\n",
    "    def __init__(self, num_steps=50, vocab_size=vocab_size):\n",
    "        self.num_steps = num_steps\n",
    "        self.vocab_size = vocab_size\n",
    "\n",
    "        self.betas = torch.linspace(0.0001, 0.02, num_steps)\n",
    "        self.alphas = 1.0 - self.betas\n",
    "        self.alpha_bars = torch.cumprod(self.alphas, dim=0)\n",
    "        self.alphas_cumprod = torch.cumprod(self.alphas, dim=0)\n",
    "\n",
    "    def q_sample(self, x0, t):\n",
    "        # Get batch size and shape\n",
    "        device = x0.device\n",
    "        b = x0.shape[0]\n",
    "        x0_flat = x0.view(b, -1)\n",
    "        # At t=0, no noise: x_t = x0\n",
    "        xt = x0_flat.clone()\n",
    "        for i in range(b):\n",
    "            step = t[i].item()\n",
    "            if step == 0:\n",
    "                continue\n",
    "            # For step > 0, corrupt x0\n",
    "            mask = torch.rand_like(x0_flat[i].float()) < (1 - self.alphas_cumprod[step])\n",
    "            noise = torch.randint(0, self.vocab_size, x0_flat[i].shape, device=device)\n",
    "            xt[i][mask] = noise[mask]\n",
    "        return xt.view_as(x0)\n",
    "\n",
    "    def sample(self, model, batch_size, device, context=None, guidance_scale=1.0):\n",
    "        x_t = torch.randint(0, self.vocab_size, (batch_size, max_len), device=device)\n",
    "        if context is not None:\n",
    "            # Repeat context to match batch size\n",
    "            context = context.repeat(batch_size, 1)  # Shape: [batch_size, context_len]\n",
    "            x_t[:, : context.shape[1]] = context  # Fix context tokens\n",
    "        for t in reversed(range(self.num_steps)):\n",
    "            t_tensor = torch.full((batch_size,), t, device=device, dtype=torch.long)\n",
    "            logits_uncond = model(x_t, t_tensor, context=None)\n",
    "            logits_cond = model(x_t, t_tensor, context=context)\n",
    "            logits = logits_uncond + guidance_scale * (logits_cond - logits_uncond)\n",
    "            probs = F.softmax(logits, dim=-1)\n",
    "            x_t = torch.multinomial(probs.view(-1, self.vocab_size), 1).view(batch_size, max_len)\n",
    "            if context is not None:\n",
    "                x_t[:, : context.shape[1]] = context  # Preserve context\n",
    "        return x_t\n",
    "\n",
    "\n",
    "diffusion = D3PM(num_steps=50, vocab_size=vocab_size)\n",
    "ic(tokenized_data[:2])\n",
    "diffusion.q_sample(torch.tensor(tokenized_data[:2], dtype=torch.long), torch.tensor([0, 49], dtype=torch.long))\n"
   ]
  },
  {
   "cell_type": "code",
   "execution_count": 45,
   "id": "e2ccfc46",
   "metadata": {},
   "outputs": [
    {
     "data": {
      "text/plain": [
       "torch.Size([50, 356, 356])"
      ]
     },
     "execution_count": 45,
     "metadata": {},
     "output_type": "execute_result"
    }
   ],
   "source": []
  },
  {
   "cell_type": "code",
   "execution_count": null,
   "id": "8b14bb3e",
   "metadata": {},
   "outputs": [],
   "source": []
  },
  {
   "cell_type": "code",
   "execution_count": 50,
   "id": "529463f5",
   "metadata": {},
   "outputs": [
    {
     "name": "stdout",
     "output_type": "stream",
     "text": [
      "Using device: mps\n"
     ]
    }
   ],
   "source": [
    "# NanoGPT-like Model with Context\n",
    "class NanoGPT(nn.Module):\n",
    "    def __init__(self, vocab_size, n_embd=64, n_head=4, n_layer=2, max_len=max_len, num_steps=50):\n",
    "        super().__init__()\n",
    "        self.token_embedding = nn.Embedding(vocab_size, n_embd)\n",
    "        self.position_embedding = nn.Embedding(max_len, n_embd)\n",
    "        self.context_embedding = nn.Embedding(vocab_size, n_embd)\n",
    "        self.blocks = nn.ModuleList(\n",
    "            [\n",
    "                nn.TransformerEncoderLayer(d_model=n_embd, nhead=n_head, dim_feedforward=n_embd * 4)\n",
    "                for _ in range(n_layer)\n",
    "            ]\n",
    "        )\n",
    "        self.ln_f = nn.LayerNorm(n_embd)\n",
    "        self.head = nn.Linear(n_embd, vocab_size)\n",
    "        self.max_len = max_len\n",
    "        self.time_embedding = nn.Embedding(num_steps, n_embd)\n",
    "\n",
    "    def forward(self, x, t, context=None):\n",
    "        B, T = x.shape\n",
    "        device = x.device\n",
    "        tok_emb = self.token_embedding(x)\n",
    "        pos_emb = self.position_embedding(torch.arange(T, device=device))\n",
    "        t_emb = self.time_embedding(t).unsqueeze(1)\n",
    "        x = tok_emb + pos_emb + t_emb\n",
    "        if context is not None:\n",
    "            ctx_emb = self.context_embedding(context)\n",
    "            ctx_pos_emb = self.position_embedding(torch.arange(context.shape[1], device=device))\n",
    "            ctx = ctx_emb + ctx_pos_emb\n",
    "            x = torch.cat([ctx, x], dim=1)\n",
    "            x = x[:, :T] + pos_emb\n",
    "        for block in self.blocks:\n",
    "            x = block(x)\n",
    "        x = self.ln_f(x)\n",
    "        logits = self.head(x)\n",
    "        return logits\n",
    "\n",
    "\n",
    "# Check for MPS availability\n",
    "device = torch.device(\"mps\" if torch.backends.mps.is_available() else \"cpu\")\n",
    "print(f\"Using device: {device}\")"
   ]
  },
  {
   "cell_type": "code",
   "execution_count": 51,
   "id": "0ba31e16",
   "metadata": {},
   "outputs": [],
   "source": [
    "num_steps = 50\n",
    "model = NanoGPT(vocab_size=vocab_size, num_steps=num_steps).to(device)\n",
    "diffusion = D3PM(num_steps=num_steps, vocab_size=vocab_size)\n",
    "optimizer = torch.optim.Adam(model.parameters(), lr=1e-3)"
   ]
  },
  {
   "cell_type": "code",
   "execution_count": 53,
   "id": "3ec53730",
   "metadata": {},
   "outputs": [
    {
     "name": "stdout",
     "output_type": "stream",
     "text": [
      "TensorBoard logs will be saved to: ../runs/d3pm/29-05-2025_17:10:50\n"
     ]
    },
    {
     "data": {
      "application/vnd.jupyter.widget-view+json": {
       "model_id": "cb7c6dfc96c144c8a406031a33d371b3",
       "version_major": 2,
       "version_minor": 0
      },
      "text/plain": [
       "🚀 Training:   0%|          | 0/10 [00:00<?, ?it/s]"
      ]
     },
     "metadata": {},
     "output_type": "display_data"
    },
    {
     "data": {
      "application/vnd.jupyter.widget-view+json": {
       "model_id": "40a5ca97ebf74c0a899ff01eb1b7a885",
       "version_major": 2,
       "version_minor": 0
      },
      "text/plain": [
       "  ⚙️ Inner Task 1:   0%|          | 0/2 [00:00<?, ?it/s]"
      ]
     },
     "metadata": {},
     "output_type": "display_data"
    },
    {
     "data": {
      "application/vnd.jupyter.widget-view+json": {
       "model_id": "9cf8864f4577416ba39ae6436b62f48e",
       "version_major": 2,
       "version_minor": 0
      },
      "text/plain": [
       "  ⚙️ Inner Task 2:   0%|          | 0/2 [00:00<?, ?it/s]"
      ]
     },
     "metadata": {},
     "output_type": "display_data"
    },
    {
     "data": {
      "application/vnd.jupyter.widget-view+json": {
       "model_id": "5d8417f655e24b798908603a8e13cc3f",
       "version_major": 2,
       "version_minor": 0
      },
      "text/plain": [
       "  ⚙️ Inner Task 3:   0%|          | 0/2 [00:00<?, ?it/s]"
      ]
     },
     "metadata": {},
     "output_type": "display_data"
    },
    {
     "data": {
      "application/vnd.jupyter.widget-view+json": {
       "model_id": "0873c86246bc4031a8f738dca5ec18a3",
       "version_major": 2,
       "version_minor": 0
      },
      "text/plain": [
       "  ⚙️ Inner Task 4:   0%|          | 0/2 [00:00<?, ?it/s]"
      ]
     },
     "metadata": {},
     "output_type": "display_data"
    },
    {
     "data": {
      "application/vnd.jupyter.widget-view+json": {
       "model_id": "985804428e714eb5b3281d18ecef2136",
       "version_major": 2,
       "version_minor": 0
      },
      "text/plain": [
       "  ⚙️ Inner Task 5:   0%|          | 0/2 [00:00<?, ?it/s]"
      ]
     },
     "metadata": {},
     "output_type": "display_data"
    },
    {
     "data": {
      "application/vnd.jupyter.widget-view+json": {
       "model_id": "fed206055be64091b5d7786baa28c6f2",
       "version_major": 2,
       "version_minor": 0
      },
      "text/plain": [
       "  ⚙️ Inner Task 6:   0%|          | 0/2 [00:00<?, ?it/s]"
      ]
     },
     "metadata": {},
     "output_type": "display_data"
    },
    {
     "data": {
      "application/vnd.jupyter.widget-view+json": {
       "model_id": "77cb848273cb40c0901798625104f771",
       "version_major": 2,
       "version_minor": 0
      },
      "text/plain": [
       "  ⚙️ Inner Task 7:   0%|          | 0/2 [00:00<?, ?it/s]"
      ]
     },
     "metadata": {},
     "output_type": "display_data"
    },
    {
     "data": {
      "application/vnd.jupyter.widget-view+json": {
       "model_id": "25787c123ea24b6a955ffe00ec161c1e",
       "version_major": 2,
       "version_minor": 0
      },
      "text/plain": [
       "  ⚙️ Inner Task 8:   0%|          | 0/2 [00:00<?, ?it/s]"
      ]
     },
     "metadata": {},
     "output_type": "display_data"
    },
    {
     "data": {
      "application/vnd.jupyter.widget-view+json": {
       "model_id": "3e80b0d6f8a64b6c84fcca653d49b9aa",
       "version_major": 2,
       "version_minor": 0
      },
      "text/plain": [
       "  ⚙️ Inner Task 9:   0%|          | 0/2 [00:00<?, ?it/s]"
      ]
     },
     "metadata": {},
     "output_type": "display_data"
    },
    {
     "data": {
      "application/vnd.jupyter.widget-view+json": {
       "model_id": "49298beee30047d8b709b143dba6c74e",
       "version_major": 2,
       "version_minor": 0
      },
      "text/plain": [
       "  ⚙️ Inner Task 10:   0%|          | 0/2 [00:00<?, ?it/s]"
      ]
     },
     "metadata": {},
     "output_type": "display_data"
    },
    {
     "name": "stdout",
     "output_type": "stream",
     "text": [
      "✅ Training completed!\n",
      "View logs with: tensorboard --logdir=../runs/d3pm/29-05-2025_17:10:50\n"
     ]
    }
   ],
   "source": [
    "# Training\n",
    "\n",
    "num_epochs = 10\n",
    "dropout_prob = 0.1  # Probability of dropping context for classifier-free guidance\n",
    "global_step = 0  # Track global step for TensorBoard\n",
    "\n",
    "# Set up TensorBoard logging\n",
    "timestamp = datetime.datetime.now().strftime(\"%d-%m-%Y_%H:%M:%S\")\n",
    "log_dir = f\"../runs/d3pm/{timestamp}\"\n",
    "writer = SummaryWriter(log_dir=log_dir)\n",
    "print(f\"TensorBoard logs will be saved to: {log_dir}\")\n",
    "\n",
    "epoch_bar = tqdm(range(num_epochs), desc=\"🚀 Training\", position=0, leave=True)\n",
    "for epoch in epoch_bar:\n",
    "    total_loss = 0\n",
    "    running_avg_loss = 0\n",
    "    batch_count = 0\n",
    "\n",
    "    batch_nb = len(dataloader)\n",
    "    inner_pbar = tqdm(range(batch_nb), desc=f\"  ⚙️ Inner Task {epoch + 1}\", position=1, leave=False, colour=\"green\")\n",
    "\n",
    "    for batch_idx in inner_pbar:\n",
    "        batch = next(iter(dataloader))\n",
    "        batch = batch.to(device)\n",
    "        optimizer.zero_grad()\n",
    "        t = torch.randint(0, num_steps, (batch.shape[0],), device=device, dtype=torch.long)\n",
    "        x_t = diffusion.q_sample(batch, t)\n",
    "        context = batch[:, :1] if np.random.rand() > dropout_prob else None\n",
    "        logits = model(x_t, t, context=context)\n",
    "        loss = F.cross_entropy(logits.view(-1, vocab_size), batch.view(-1))\n",
    "        loss.backward()\n",
    "        optimizer.step()\n",
    "\n",
    "        total_loss += loss.item()\n",
    "        batch_count += 1\n",
    "        running_avg_loss = total_loss / batch_count\n",
    "        global_step += 1\n",
    "\n",
    "        # Log batch loss to TensorBoard\n",
    "        writer.add_scalar(\"Loss/Batch\", loss.item(), global_step)\n",
    "        writer.add_scalar(\"Loss/Running_Average\", running_avg_loss, global_step)\n",
    "\n",
    "        # Log learning rate\n",
    "        writer.add_scalar(\"Learning_Rate\", optimizer.param_groups[0][\"lr\"], global_step)\n",
    "\n",
    "        inner_pbar.set_postfix({\"Step\": f\"{batch_idx + 1}/{batch_nb}\", \"Status\": \"Processing...\"})\n",
    "\n",
    "    avg_loss = total_loss / len(dataloader)\n",
    "    epoch_bar.set_postfix({\"Epoch\": f\"{epoch + 1}/{num_epochs}\", \"Loss\": f\"{avg_loss:.4f}\"})\n",
    "\n",
    "    # Log epoch loss to TensorBoard\n",
    "    writer.add_scalar(\"Loss/Epoch\", avg_loss, epoch + 1)\n",
    "\n",
    "    if (epoch + 1) % 50 == 0:\n",
    "        checkpoint = {\n",
    "            \"epoch\": epoch + 1,\n",
    "            \"model_state_dict\": model.state_dict(),\n",
    "            \"optimizer_state_dict\": optimizer.state_dict(),\n",
    "            \"loss\": avg_loss,\n",
    "        }\n",
    "        torch.save(checkpoint, f\"../models/d3pm_epoch_{epoch + 1}.pth\")\n",
    "        print(f\"Saved checkpoint: d3pm_epoch_{epoch + 1}.pth\")\n",
    "\n",
    "# Close the TensorBoard writer\n",
    "writer.close()\n",
    "print(\"✅ Training completed!\")\n",
    "print(f\"View logs with: tensorboard --logdir={log_dir}\")"
   ]
  },
  {
   "cell_type": "code",
   "execution_count": null,
   "id": "ba596ff8",
   "metadata": {},
   "outputs": [],
   "source": [
    "# Optional: Add gradient norm logging and model parameter histograms\n",
    "# Uncomment the lines below if you want more detailed logging\n",
    "\n",
    "# Log model parameters and gradients every 10 batches\n",
    "# if global_step % 10 == 0:\n",
    "#     for name, param in model.named_parameters():\n",
    "#         if param.grad is not None:\n",
    "#             writer.add_histogram(f'Gradients/{name}', param.grad, global_step)\n",
    "#         writer.add_histogram(f'Parameters/{name}', param, global_step)\n",
    "\n",
    "#     # Log gradient norm\n",
    "#     total_norm = 0\n",
    "#     for p in model.parameters():\n",
    "#         if p.grad is not None:\n",
    "#             param_norm = p.grad.data.norm(2)\n",
    "#             total_norm += param_norm.item() ** 2\n",
    "#     total_norm = total_norm ** (1. / 2)\n",
    "#     writer.add_scalar('Gradient_Norm', total_norm, global_step)"
   ]
  },
  {
   "cell_type": "code",
   "execution_count": 54,
   "id": "877a5bdd",
   "metadata": {},
   "outputs": [
    {
     "name": "stdout",
     "output_type": "stream",
     "text": [
      "Generated: Come the of him a-meowin’ city And it’s to   place man,\n",
      "Generated: Come the of merrier” big I’m Gate tryin’   was  on\n",
      "Generated: Come the of That very Cops   How    \n"
     ]
    }
   ],
   "source": [
    "# Generate samples with context\n",
    "start_sentence = \"Come the days of\"\n",
    "model.eval()\n",
    "with torch.no_grad():\n",
    "    start_words = start_sentence.split()\n",
    "    context = torch.tensor([word_to_idx[word] for word in start_words if word in word_to_idx], device=device)  # Sh\n",
    "    samples = diffusion.sample(model, batch_size=3, device=device, context=context, guidance_scale=2.0)\n",
    "    for sample in samples:\n",
    "        text = [idx_to_word[idx.item()] for idx in sample if idx.item() in idx_to_word]\n",
    "        print(\"Generated:\", \" \".join(text).replace(\"<pad>\", \"\"))"
   ]
  },
  {
   "cell_type": "code",
   "execution_count": null,
   "id": "a93dace5",
   "metadata": {},
   "outputs": [],
   "source": []
  }
 ],
 "metadata": {
  "kernelspec": {
   "display_name": "transformer-implementations (3.12.8)",
   "language": "python",
   "name": "python3"
  },
  "language_info": {
   "codemirror_mode": {
    "name": "ipython",
    "version": 3
   },
   "file_extension": ".py",
   "mimetype": "text/x-python",
   "name": "python",
   "nbconvert_exporter": "python",
   "pygments_lexer": "ipython3",
   "version": "3.12.8"
  }
 },
 "nbformat": 4,
 "nbformat_minor": 5
}
