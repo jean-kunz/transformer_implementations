{
 "cells": [
  {
   "cell_type": "code",
   "execution_count": 1,
   "id": "95e60c56",
   "metadata": {},
   "outputs": [
    {
     "name": "stdout",
     "output_type": "stream",
     "text": [
      "env: TOKENIZERS_PARALLELISM=false\n",
      "env: PYTORCH_MPS_HIGH_WATERMARK_RATIO=0.0\n"
     ]
    }
   ],
   "source": [
    "# | default_exp attention\n",
    "\n",
    "%load_ext autoreload\n",
    "%autoreload 2\n",
    "\n",
    "%env TOKENIZERS_PARALLELISM=false\n",
    "%env PYTORCH_MPS_HIGH_WATERMARK_RATIO=0.0"
   ]
  },
  {
   "cell_type": "code",
   "execution_count": 2,
   "id": "b4404c3b",
   "metadata": {},
   "outputs": [],
   "source": [
    "import torch\n",
    "import torch.nn as nn\n",
    "import torch.nn.functional as F\n",
    "import numpy as np\n",
    "from torch.utils.data import Dataset, DataLoader\n",
    "import uuid\n",
    "import pandas as pd\n",
    "from tqdm.notebook import tqdm\n",
    "from torch.utils.tensorboard import SummaryWriter\n",
    "import datetime\n",
    "from icecream import ic\n",
    "import math\n",
    "from my_transformer.utils import save_model, load_model\n",
    "from transformers import AutoTokenizer\n",
    "\n",
    "from transformers import PreTrainedTokenizerFast\n",
    "from tokenizers import Tokenizer, models, trainers, pre_tokenizers, normalizers\n",
    "from tokenizers.models import BPE\n",
    "from tokenizers.trainers import BpeTrainer\n",
    "import json\n",
    "import os\n",
    "\n",
    "# from rich import print\n",
    "from rich.pretty import pprint\n",
    "\n",
    "if torch.backends.mps.is_available():\n",
    "    device = torch.device(\"mps\")\n",
    "elif torch.cuda.is_available():\n",
    "    device = torch.device(\"cuda\")\n",
    "else:\n",
    "    device = torch.device(\"cpu\")"
   ]
  },
  {
   "cell_type": "markdown",
   "id": "7b82294f",
   "metadata": {},
   "source": [
    "## Dataset"
   ]
  },
  {
   "cell_type": "code",
   "execution_count": 3,
   "id": "7edbbc8d",
   "metadata": {},
   "outputs": [
    {
     "data": {
      "text/plain": [
       "(['Hard Times In New York Town',\n",
       "  'Come you ladies and you gentlemen, a-listen to my song',\n",
       "  'Sing it to you right, but you might think it’s wrong',\n",
       "  'Just a little glimpse of a story I’ll tell',\n",
       "  '’Bout an East Coast city that you all know well',\n",
       "  'It’s hard times in the city',\n",
       "  'Livin’ down in New York town',\n",
       "  'Old New York City is a friendly old town',\n",
       "  'From Washington Heights to Harlem on down',\n",
       "  'There’s a-mighty many people all millin’ all around'],\n",
       " 14318)"
      ]
     },
     "execution_count": 3,
     "metadata": {},
     "output_type": "execute_result"
    }
   ],
   "source": [
    "df = pd.read_csv(\"../dataset/bob_dylan_lyrics.csv\")\n",
    "lines = []\n",
    "nb_rows = 999999\n",
    "row_id = 0\n",
    "for r in df.iterrows():\n",
    "    # todo: one line is one sentence.\n",
    "    lines.append(r[1][\"title\"])\n",
    "    # sentences.append(r[1][\"title\"] + \"\\n\" + r[1][\"lyrics\"])\n",
    "    lyrics = r[1][\"lyrics\"].split(\"\\n\")\n",
    "    for line in lyrics:\n",
    "        if len(line.strip()) > 0:\n",
    "            lines.append(line.strip())\n",
    "        row_id += 1\n",
    "\n",
    "lines[:10], len(lines)"
   ]
  },
  {
   "cell_type": "markdown",
   "id": "db6bab58",
   "metadata": {},
   "source": [
    "### Simple Custom Tokenizer for Bob Dylan Lyrics\n",
    "\n",
    "Create a simple BPE (Byte-Pair Encoding) tokenizer trained specifically on Dylan's lyrics.\n"
   ]
  },
  {
   "cell_type": "code",
   "execution_count": null,
   "id": "92266e18",
   "metadata": {},
   "outputs": [],
   "source": [
    "class SimpleDylanTokenizer:\n",
    "    def __init__(self, vocab_size=3000):\n",
    "        vocab_size = vocab_size\n",
    "        tokenizer = None\n",
    "\n",
    "    def train_tokenizer(self, corpus: list[str], save_path: str = \"./simple_dylan_tokenizer\"):\n",
    "        # Initialize simple BPE tokenizer\n",
    "        tokenizer = Tokenizer(BPE(unk_token=\"[UNK]\"))\n",
    "\n",
    "        # Simple whitespace pre-tokenization\n",
    "        tokenizer.pre_tokenizer = pre_tokenizers.Whitespace()\n",
    "\n",
    "        # Simple trainer\n",
    "        trainer = BpeTrainer(\n",
    "            vocab_size=self.vocab_size, special_tokens=[\"[PAD]\", \"[UNK]\", \"[MASK]\"], min_frequency=2, show_progress=True\n",
    "        )\n",
    "\n",
    "        # Train the tokenizer\n",
    "        tokenizer.train_from_iterator(corpus, trainer)\n",
    "\n",
    "        # Save tokenizer\n",
    "        os.makedirs(save_path, exist_ok=True)\n",
    "        tokenizer.save(f\"{save_path}/tokenizer.json\")\n",
    "\n",
    "        self.tokenizer = tokenizer\n",
    "        print(f\"Tokenizer trained and saved to {save_path}\")\n",
    "\n",
    "        return tokenizer\n",
    "\n",
    "    def load_tokenizer(self, save_path=\"./simple_dylan_tokenizer\"):\n",
    "        \"\"\"Load the trained tokenizer\"\"\"\n",
    "        tokenizer_path = f\"{save_path}/tokenizer.json\"\n",
    "        if os.path.exists(tokenizer_path):\n",
    "            self.tokenizer = Tokenizer.from_file(tokenizer_path)\n",
    "            return self.tokenizer\n",
    "        else:\n",
    "            raise FileNotFoundError(f\"Tokenizer not found at {tokenizer_path}\")\n",
    "\n",
    "    def get_transformers_tokenizer(self):\n",
    "        \"\"\"Convert to HuggingFace tokenizer for compatibility\"\"\"\n",
    "        if self.tokenizer is None:\n",
    "            raise ValueError(\"Tokenizer not trained or loaded\")\n",
    "\n",
    "        # Create fast tokenizer wrapper\n",
    "        fast_tokenizer = PreTrainedTokenizerFast(\n",
    "            tokenizer_object=self.tokenizer, pad_token=\"[PAD]\", unk_token=\"[UNK]\", mask_token=\"[MASK]\"\n",
    "        )\n",
    "\n",
    "        return fast_tokenizer"
   ]
  },
  {
   "cell_type": "code",
   "execution_count": 5,
   "id": "76920799",
   "metadata": {},
   "outputs": [
    {
     "name": "stderr",
     "output_type": "stream",
     "text": [
      "ic| len(tokenizer): 3000\n",
      "ic| tokenizer.special_tokens_map: {'mask_token': '[MASK]', 'pad_token': '[PAD]', 'unk_token': '[UNK]'}\n",
      "| len(tokenizer): 3000\n",
      "ic| tokenizer.special_tokens_map: {'mask_token': '[MASK]', 'pad_token': '[PAD]', 'unk_token': '[UNK]'}\n",
      "ic| phrase: \"The answer my friend is blowin' in the wind\"\n",
      "ic| decoded:ic| phrase: \"The answer my friend is blowin' in the wind\"\n",
      "ic| decoded:"
     ]
    },
    {
     "name": "stdout",
     "output_type": "stream",
     "text": [
      "\n",
      "\n",
      "\n",
      "Tokenizer trained and saved to ./simple_dylan_tokenizer\n"
     ]
    },
    {
     "name": "stderr",
     "output_type": "stream",
     "text": [
      " \"The answer my friend is blowin ' in the wind\"\n",
      "ic| token_strs: ['The', 'answer',\"The answer my friend is blowin ' in the wind\"\n",
      "ic| token_strs: ['The', 'answer', 'my', 'friend', 'is', 'blowin', \"'\", 'in', 'the', 'wind']\n",
      " 'my', 'friend', 'is', 'blowin', \"'\", 'in', 'the', 'wind']\n"
     ]
    }
   ],
   "source": [
    "# Initialize simple Dylan tokenizer\n",
    "dylan_tokenizer = SimpleDylanTokenizer(vocab_size=3000)\n",
    "\n",
    "# Train the tokenizer on Dylan lyrics\n",
    "dylan_tokenizer.train_tokenizer(corpus=lines, save_path=\"./simple_dylan_tokenizer\")\n",
    "\n",
    "# Convert to HuggingFace format for compatibility\n",
    "tokenizer = dylan_tokenizer.get_transformers_tokenizer()\n",
    "\n",
    "ic(len(tokenizer))\n",
    "ic(tokenizer.special_tokens_map)\n",
    "\n",
    "\n",
    "phrase = \"The answer my friend is blowin' in the wind\"\n",
    "\n",
    "tokens = tokenizer.encode(phrase, add_special_tokens=False)\n",
    "decoded = tokenizer.decode(tokens, skip_special_tokens=False)\n",
    "token_strs = tokenizer.convert_ids_to_tokens(tokens)\n",
    "ic(phrase)\n",
    "ic(decoded)\n",
    "ic(token_strs);\n"
   ]
  },
  {
   "cell_type": "code",
   "execution_count": 6,
   "id": "6a50552a",
   "metadata": {},
   "outputs": [
    {
     "name": "stderr",
     "output_type": "stream",
     "text": [
      "ic| len(dataset): 14318\n",
      "ic| seq_len: 20\n",
      "ic| len(tokenizer): 3000\n",
      "ic| len(dataset): 14318\n",
      "ic| seq_len: 20\n",
      "ic| len(tokenizer): 3000\n",
      "ic| sample_batch.shape: torch.Size([8, 20])\n",
      "ic| tokenizer.decode(sample_batch[0].tolist(), skip_special_tokens=False): ('He ’ s eat in ’ ch it lin s [PAD] [PAD] [PAD] [PAD] [PAD] [PAD] [PAD] [PAD] '\n",
      "| sample_batch.shape: torch.Size([8, 20])\n",
      "ic| tokenizer.decode(sample_batch[0].tolist(), skip_special_tokens=False): ('He ’ s eat in ’ ch it lin s [PAD] [PAD] [PAD] [PAD] [PAD] [PAD] [PAD] [PAD] '\n",
      "                                                                            '[PAD] [PAD]')                                                                            '[PAD] [PAD]')\n",
      "\n"
     ]
    },
    {
     "name": "stdout",
     "output_type": "stream",
     "text": [
      "Max sequence length in dataset: 41\n"
     ]
    }
   ],
   "source": [
    "class SimpleDylanDataset(Dataset):\n",
    "    def __init__(self, texts, tokenizer, seq_len=128):\n",
    "        self.tokenizer = tokenizer\n",
    "        self.seq_len = seq_len\n",
    "        self.examples = []\n",
    "        max_seq_len = 0\n",
    "\n",
    "        for line in texts:\n",
    "            # Simple tokenization - no structure tokens\n",
    "            tokens = tokenizer.encode(line.strip(), add_special_tokens=False)\n",
    "            token_nb = len(tokens)\n",
    "            max_seq_len = max(max_seq_len, token_nb)\n",
    "            # Truncate if too long\n",
    "\n",
    "            if token_nb > seq_len:\n",
    "                tokens = tokens[:seq_len]\n",
    "\n",
    "            if token_nb > 0:  # Skip empty sequences\n",
    "                self.examples.append(tokens)\n",
    "        print(f\"Max sequence length in dataset: {max_seq_len}\")\n",
    "\n",
    "    def __len__(self):\n",
    "        return len(self.examples)\n",
    "\n",
    "    def __getitem__(self, idx):\n",
    "        tokens = self.examples[idx]\n",
    "        pad_id = self.tokenizer.pad_token_id if hasattr(self.tokenizer, \"pad_token_id\") else 0\n",
    "\n",
    "        # Pad to sequence length\n",
    "        padded = tokens + [pad_id] * (self.seq_len - len(tokens))\n",
    "        return torch.tensor(padded[: self.seq_len], dtype=torch.long)\n",
    "\n",
    "\n",
    "seq_len = 20  # Keep shorter sequences for memory efficiency\n",
    "batch_size = 8\n",
    "\n",
    "# Create dataset with selected tokenizer\n",
    "dataset = SimpleDylanDataset(lines, tokenizer, seq_len=seq_len)\n",
    "dataloader = DataLoader(dataset, batch_size=batch_size, shuffle=True)\n",
    "\n",
    "ic(len(dataset))\n",
    "ic(seq_len)\n",
    "ic(len(tokenizer))\n",
    "\n",
    "# Test the dataset\n",
    "sample_batch = next(iter(dataloader))\n",
    "ic(sample_batch.shape)\n",
    "ic(tokenizer.decode(sample_batch[0].tolist(), skip_special_tokens=False));\n"
   ]
  },
  {
   "cell_type": "markdown",
   "id": "af94d38b",
   "metadata": {},
   "source": [
    "## Diffusion model"
   ]
  },
  {
   "cell_type": "raw",
   "id": "54f5a9a5",
   "metadata": {
    "vscode": {
     "languageId": "raw"
    }
   },
   "source": [
    "Timeline:  x₀ ────→ x₁ ────→ x₂ ────→ x₃\n",
    "          clean   noisy   noisier  noisiest\n",
    "           ↑        ↑        ↑        ↑\n",
    "         \"hello\"  \"h[M]lo\" \"[M][M]o\" \"[M][M][M]\"\n",
    "\n",
    "Forward process q(x_t | x_{t-1}):\n",
    "- q(x₁|x₀): \"hello\" → \"h[M]lo\" (add some noise)\n",
    "- q(x₂|x₁): \"h[M]lo\" → \"[M][M]o\" (add more noise)\n",
    "\n",
    "Posterior q(x_{t-1} | x_t, x₀):\n",
    "- q(x₁|x₂, x₀): Given \"[M][M]o\" and knowing original was \"hello\", \n",
    "                 what was x₁? Answer: probably \"h[M]lo\"\n",
    "- q(x₀|x₁, x₀): Given \"h[M]lo\" and knowing original was \"hello\",\n",
    "                 what was x₀? Answer: definitely \"hello\"\n",
    "\n",
    "\n",
    "# The KL loss compares:\n",
    "KL[q(x_{t-1}|x_t,x_0) || p_θ(x_{t-1}|x_t)]\n",
    "   ↑                    ↑\n",
    "   True denoising       Model's denoising\n",
    "   (uses ground truth) (learned)                 "
   ]
  },
  {
   "cell_type": "code",
   "execution_count": 7,
   "id": "beb72e4f",
   "metadata": {},
   "outputs": [],
   "source": [
    "class UniformScheduler(nn.Module):\n",
    "    \"\"\"Simple uniform transition scheduler with linear noise schedule.\"\"\"\n",
    "\n",
    "    def __init__(self, num_classes: int, num_timesteps: int, beta_start: float = 0.0001, beta_end: float = 0.02):\n",
    "        super().__init__()\n",
    "        self.num_classes = num_classes\n",
    "        self.num_timesteps = num_timesteps\n",
    "        self.beta_start = beta_start\n",
    "        self.beta_end = beta_end\n",
    "\n",
    "        # Create schedule and transition matrices\n",
    "        betas = self._create_linear_schedule()\n",
    "        # so they are put to device automatically\n",
    "        self.register_buffer(\"betas\", betas)\n",
    "        Q_t = self._create_transition_matrices()\n",
    "        self.register_buffer(\"Q_t\", Q_t)\n",
    "        Q_bar_t = self._create_cumulative_matrices()\n",
    "        self.register_buffer(\"Q_bar_t\", Q_bar_t)\n",
    "\n",
    "    def _create_linear_schedule(self) -> torch.Tensor:\n",
    "        \"\"\"Create linear beta schedule: β_t increases linearly from beta_start to beta_end.\"\"\"\n",
    "        return torch.linspace(self.beta_start, self.beta_end, self.num_timesteps)\n",
    "\n",
    "    def _create_transition_matrices(self) -> torch.Tensor:\n",
    "        \"\"\"\n",
    "        Create uniform transition matrices: Q_t = (1-β_t)I + β_t/K * 11^T\n",
    "\n",
    "        This means:\n",
    "        - Stay in same state with probability (1-β_t)\n",
    "        - Transition to any state (including same) with probability β_t/K each\n",
    "        \"\"\"\n",
    "        Q_matrices = torch.zeros(self.num_timesteps, self.num_classes, self.num_classes)\n",
    "\n",
    "        for t in range(self.num_timesteps):\n",
    "            beta_t = self.betas[t].item()\n",
    "\n",
    "            # Diagonal: probability of staying in same state\n",
    "            Q_t = (1 - beta_t) * torch.eye(self.num_classes)\n",
    "\n",
    "            # Off-diagonal: uniform probability of transitioning to any state\n",
    "            Q_t += beta_t / self.num_classes * torch.ones(self.num_classes, self.num_classes)\n",
    "\n",
    "            Q_matrices[t] = Q_t\n",
    "\n",
    "        return Q_matrices\n",
    "\n",
    "    def _create_cumulative_matrices(self) -> torch.Tensor:\n",
    "        \"\"\"Create cumulative matrices: Q̄_t = Q_1 * Q_2 * ... * Q_t\"\"\"\n",
    "        Q_bar_matrices = torch.zeros(self.num_timesteps, self.num_classes, self.num_classes)\n",
    "        Q_bar_matrices[0] = self.Q_t[0]\n",
    "\n",
    "        for t in range(1, self.num_timesteps):\n",
    "            Q_bar_matrices[t] = torch.matmul(Q_bar_matrices[t - 1], self.Q_t[t])\n",
    "\n",
    "        return Q_bar_matrices\n",
    "\n",
    "    def add_noise(self, x_0: torch.Tensor, t: torch.Tensor) -> torch.Tensor:\n",
    "        \"\"\"\n",
    "        Apply forward diffusion: sample from q(x_t | x_0).\n",
    "\n",
    "        For uniform transitions, this uses the cumulative matrix Q̄_t.\n",
    "        \"\"\"\n",
    "        batch_size, seq_len = x_0.shape\n",
    "        device = x_0.device\n",
    "\n",
    "        # Clamp x_0 to valid token range to prevent out-of-bounds errors\n",
    "        x_0_clamped = torch.clamp(x_0, 0, self.num_classes - 1)\n",
    "\n",
    "        # Convert to one-hot encoding\n",
    "        x_0_onehot = F.one_hot(x_0_clamped, self.num_classes).to(device).float()  # [B, L, K]\n",
    "\n",
    "        x_t = torch.zeros_like(x_0).to(device)  # [B, L]\n",
    "        self.Q_bar_t = self.Q_bar_t.to(device)  # Ensure matrices are on the correct device\n",
    "        for i in range(batch_size):\n",
    "            # Get cumulative transition matrix for this timestep\n",
    "            t_val = t[i].item()\n",
    "\n",
    "            # Add bounds checking to prevent IndexError\n",
    "            t_val = max(0, min(t_val, self.num_timesteps - 1))\n",
    "\n",
    "            Q_bar = self.Q_bar_t[t_val].to(device)  # [K, K]\n",
    "\n",
    "            # Compute transition probabilities: x_0 @ Q̄_t\n",
    "            # This gives probability distribution over x_t for each position\n",
    "            probs = torch.matmul(x_0_onehot[i], Q_bar)  # [L, K]\n",
    "\n",
    "            # Add numerical stability: ensure probabilities are non-negative and sum to 1\n",
    "            probs = torch.clamp(probs, min=1e-8)  # Ensure non-negative\n",
    "            probs = probs / probs.sum(dim=-1, keepdim=True)  # Normalize\n",
    "\n",
    "            # Sample from categorical distribution\n",
    "            flat_probs = probs.view(-1, self.num_classes)  # [L, K]\n",
    "\n",
    "            # Additional safety check for multinomial\n",
    "            prob_sums = flat_probs.sum(dim=-1)\n",
    "            if (prob_sums <= 0).any():\n",
    "                print(f\"Warning: Invalid probability distribution detected\")\n",
    "                print(f\"prob_sums: {prob_sums}\")\n",
    "                print(f\"flat_probs sample: {flat_probs[0]}\")\n",
    "                # Fallback to uniform distribution\n",
    "                flat_probs = torch.ones_like(flat_probs) / self.num_classes\n",
    "\n",
    "            flat_samples = torch.multinomial(flat_probs, 1).squeeze(-1)  # [L]\n",
    "            x_t[i] = flat_samples\n",
    "\n",
    "        return x_t\n",
    "\n",
    "    def get_posterior_params(self, x_t: torch.Tensor, x_0: torch.Tensor, t: torch.Tensor) -> torch.Tensor:\n",
    "        \"\"\"\n",
    "        Compute true posterior q(x_{t-1} | x_t, x_0) using Equation 3.\n",
    "\n",
    "        From the paper: q(x_{t-1}|x_t,x_0) = Cat(x_{t-1}; p = x_t Q_t^T ⊙ x_0 Q̄_{t-1} / (x_0 Q̄_t x_t^T))\n",
    "\n",
    "        This tells us: given we observe x_t at time t and know the original was x_0,\n",
    "        what's the probability distribution over what x_{t-1} could have been?\n",
    "        \"\"\"\n",
    "        batch_size, seq_len = x_t.shape\n",
    "        device = x_t.device\n",
    "\n",
    "        # Clamp token indices to valid range\n",
    "        x_t_clamped = torch.clamp(x_t, 0, self.num_classes - 1)\n",
    "        x_0_clamped = torch.clamp(x_0, 0, self.num_classes - 1)\n",
    "\n",
    "        posteriors = torch.zeros(batch_size, seq_len, self.num_classes, device=device)\n",
    "\n",
    "        for i, t_val in enumerate(t):\n",
    "            # Add bounds checking here too\n",
    "            t_val = max(0, min(t_val.item(), self.num_timesteps - 1))\n",
    "\n",
    "            if t_val == 0:\n",
    "                # Special case: t=0 means we're asking for q(x_{-1}|x_0, x_0)\n",
    "                # This doesn't make physical sense, so return uniform or x_0\n",
    "                # In practice, this case shouldn't occur in training\n",
    "                posteriors[i] = F.one_hot(x_0_clamped[i], self.num_classes).float()\n",
    "                continue\n",
    "\n",
    "            # Get transition matrices\n",
    "            Q_t = self.Q_t[t_val].to(device)  # [K, K] - single step t\n",
    "            Q_bar_t_minus_1 = self.Q_bar_t[t_val - 1].to(device)  # [K, K] - cumulative to t-1\n",
    "            Q_bar_t = self.Q_bar_t[t_val].to(device)  # [K, K] - cumulative to t\n",
    "\n",
    "            # For each position in sequence\n",
    "            for pos in range(seq_len):\n",
    "                x_0_idx = x_0_clamped[i, pos].item()  # Original token index (clamped)\n",
    "                x_t_idx = x_t_clamped[i, pos].item()  # Current token index (clamped)\n",
    "\n",
    "                # Compute posterior using Bayes rule:\n",
    "                # q(x_{t-1}|x_t,x_0) ∝ q(x_t|x_{t-1},x_0) * q(x_{t-1}|x_0)\n",
    "                #                    = q(x_t|x_{t-1}) * q(x_{t-1}|x_0)  [Markov property]\n",
    "\n",
    "                posterior = torch.zeros(self.num_classes, device=device)\n",
    "\n",
    "                # For each possible value of x_{t-1}\n",
    "                for x_prev_idx in range(self.num_classes):\n",
    "                    # q(x_{t-1}|x_0): probability that x_{t-1} = x_prev_idx given x_0\n",
    "                    q_prev_given_x0 = Q_bar_t_minus_1[x_0_idx, x_prev_idx]\n",
    "\n",
    "                    # q(x_t|x_{t-1}): probability that x_t = x_t_idx given x_{t-1} = x_prev_idx\n",
    "                    q_curr_given_prev = Q_t[x_prev_idx, x_t_idx]\n",
    "\n",
    "                    # Joint probability\n",
    "                    posterior[x_prev_idx] = q_curr_given_prev * q_prev_given_x0\n",
    "\n",
    "                # Normalize to get proper probability distribution\n",
    "                posterior_sum = posterior.sum()\n",
    "                if posterior_sum > 1e-8:\n",
    "                    posterior = posterior / posterior_sum\n",
    "                else:\n",
    "                    # Fallback to uniform if numerical issues\n",
    "                    posterior = torch.ones(self.num_classes, device=device) / self.num_classes\n",
    "\n",
    "                posteriors[i, pos] = posterior\n",
    "\n",
    "        return posteriors\n",
    "\n",
    "    def compute_kl_divergence(self, true_posterior: torch.Tensor, pred_posterior: torch.Tensor) -> torch.Tensor:\n",
    "        \"\"\"Compute KL[q(x_{t-1}|x_t,x_0) || p_θ(x_{t-1}|x_t)]\"\"\"\n",
    "        kl = torch.sum(true_posterior * (torch.log(true_posterior + 1e-8) - torch.log(pred_posterior + 1e-8)), dim=-1)\n",
    "        return kl"
   ]
  },
  {
   "cell_type": "code",
   "execution_count": 8,
   "id": "0d24517b",
   "metadata": {},
   "outputs": [
    {
     "name": "stdout",
     "output_type": "stream",
     "text": [
      "t=1: x_0: [42, 15, 73], x_t: [42, 15, 73], true x_{t-1}: [42, 15, 73],\n",
      "equals x_0: True\n",
      "t=10: x_0: [42, 15, 73], x_t: [42, 15, 73], true x_{t-1}: [42, 15, 73],\n",
      "equals x_0: True\n",
      "t=50: x_0: [42, 15, 73], x_t: [42, 15, 73], true x_{t-1}: [42, 15, 73],\n",
      "equals x_0: True\n",
      "t=100: x_0: [42, 15, 73], x_t: [42, 15, 73], true x_{t-1}: [42, 15, 73],\n",
      "equals x_0: True\n",
      "t=500: x_0: [42, 15, 73], x_t: [37, 94, 41], true x_{t-1}: [37, 94, 41],\n",
      "equals x_0: False\n"
     ]
    },
    {
     "data": {
      "text/plain": [
       "device(type='mps')"
      ]
     },
     "execution_count": 8,
     "metadata": {},
     "output_type": "execute_result"
    }
   ],
   "source": [
    "scheduler = UniformScheduler(num_classes=100, num_timesteps=1000).to(device)\n",
    "\n",
    "x_0 = torch.tensor([[42, 15, 73]])  # Original tokens\n",
    "\n",
    "# Check at different timesteps\n",
    "for t_val in [1, 10, 50, 100, 500]:\n",
    "    t = torch.tensor([t_val])\n",
    "    x_t = scheduler.add_noise(x_0, t)\n",
    "\n",
    "    true_posterior = scheduler.get_posterior_params(x_t, x_0, t)\n",
    "    true_prev = true_posterior.argmax(dim=-1)\n",
    "\n",
    "    print(\n",
    "        f\"t={t_val}: x_0: {x_0[0].tolist()}, x_t: {x_t[0].tolist()}, true x_{{t-1}}: {true_prev[0].tolist()},\\nequals x_0: {true_prev[0].equal(x_0[0])}\"\n",
    "    )\n",
    "scheduler.Q_t.device, scheduler.Q_bar_t.device\n",
    "device"
   ]
  },
  {
   "cell_type": "code",
   "execution_count": 9,
   "id": "ac5fd249",
   "metadata": {},
   "outputs": [
    {
     "name": "stdout",
     "output_type": "stream",
     "text": [
      "Testing posterior evolution...\n",
      "Evolution of posterior q(x_{t-1} | x_t, x_0) as t increases:\n",
      "(Shows probability of each token being x_{t-1})\n",
      "\n",
      "t=1, x_0=1, x_t=1,  P(x_{t-1} = k): ['0.001', '0.996', '0.001', '0.001', '0.001'],Most likely x_{t-1}: 1\n",
      "t=2, x_0=1, x_t=2,  P(x_{t-1} = k): ['0.032', '0.461', '0.444', '0.032', '0.032'],Most likely x_{t-1}: 1\n",
      "t=3, x_0=1, x_t=1,  P(x_{t-1} = k): ['0.015', '0.941', '0.015', '0.015', '0.015'],Most likely x_{t-1}: 1\n",
      "t=4, x_0=1, x_t=0,  P(x_{t-1} = k): ['0.517', '0.260', '0.074', '0.074', '0.074'],Most likely x_{t-1}: 0\n",
      "t=5, x_0=1, x_t=4,  P(x_{t-1} = k): ['0.097', '0.205', '0.097', '0.097', '0.504'],Most likely x_{t-1}: 4\n"
     ]
    }
   ],
   "source": [
    "\"\"\"Test that posterior evolves correctly as we move through timesteps.\"\"\"\n",
    "print(\"Testing posterior evolution...\")\n",
    "\n",
    "vocab_size = 5  # Very small for clear visualization\n",
    "scheduler = UniformScheduler(num_classes=vocab_size, num_timesteps=10, beta_start=0.1, beta_end=0.9).to(device)\n",
    "\n",
    "x_0 = torch.tensor([[1]])  # Single token, original = 1\n",
    "\n",
    "print(\"Evolution of posterior q(x_{t-1} | x_t, x_0) as t increases:\")\n",
    "print(\"(Shows probability of each token being x_{t-1})\")\n",
    "print()\n",
    "\n",
    "for t_val in range(1, 6):\n",
    "    t = torch.tensor([t_val])\n",
    "    x_t = scheduler.add_noise(x_0, t)\n",
    "    posterior = scheduler.get_posterior_params(x_t, x_0, t)\n",
    "    true_prev = posterior.argmax(dim=-1)\n",
    "\n",
    "    print(\n",
    "        f\"t={t_val}, x_0=1, x_t={x_t[0, 0].item()},  P(x_{{t-1}} = k): {[f'{p:.3f}' for p in posterior[0, 0].tolist()]},Most likely x_{{t-1}}: {posterior[0, 0].argmax().item()}\"\n",
    "    )\n"
   ]
  },
  {
   "cell_type": "code",
   "execution_count": 10,
   "id": "0f727c97",
   "metadata": {},
   "outputs": [
    {
     "name": "stderr",
     "output_type": "stream",
     "text": [
      "ic| inp.shape: torch.Size([8, 20])\n",
      "| inp.shape: torch.Size([8, 20])\n"
     ]
    },
    {
     "name": "stdout",
     "output_type": "stream",
     "text": [
      "Yes , here ’ s the story of the H ur rican e [PAD] [PAD] [PAD] [PAD] [PAD] [PAD] [PAD]\n",
      "Yes , here ’ s the story of the H ur rican e [PAD] [PAD] [PAD] rag [PAD] [PAD] [PAD]\n",
      "Yes Seen here vent s the story Mu the H desert rican such [PAD] [PAD] feels [PAD] [PAD] [PAD] wherever\n",
      "Yes , walls ’ s ft story of the H ur rican e [PAD] rs [PAD] [PAD] [PAD] [PAD] carry\n"
     ]
    }
   ],
   "source": [
    "# Generate some noisy sentences\n",
    "inp = next(iter(dataloader)).to(device)\n",
    "ic(inp.shape)\n",
    "\n",
    "ds_scheduler = UniformScheduler(num_classes=len(tokenizer), num_timesteps=30)\n",
    "\n",
    "\n",
    "def demo_noise(inp, line_nb, step):\n",
    "    src_line = tokenizer.decode(inp[line_nb].cpu().numpy())\n",
    "    noisy_inp = ds_scheduler.add_noise(inp[line_nb : line_nb + 1], torch.tensor([step]).to(device))\n",
    "    noisy_line = tokenizer.decode(noisy_inp[0].cpu().numpy())\n",
    "    return src_line, noisy_line\n",
    "\n",
    "\n",
    "ic.disable()\n",
    "ic.enable()\n",
    "sent_nb = 4\n",
    "print(demo_noise(inp, sent_nb, 0)[1])\n",
    "print(demo_noise(inp, sent_nb, 12)[1])\n",
    "print(demo_noise(inp, sent_nb, 20)[1])\n",
    "print(demo_noise(inp, sent_nb, 29)[1])\n"
   ]
  },
  {
   "cell_type": "code",
   "execution_count": 11,
   "id": "f4de9b6b",
   "metadata": {},
   "outputs": [],
   "source": [
    "class SimpleD3PMModel(nn.Module):\n",
    "    \"\"\"Simple transformer model for D3PM.\"\"\"\n",
    "\n",
    "    def __init__(\n",
    "        self,\n",
    "        vocab_size: int,\n",
    "        max_seq_len: int,\n",
    "        d_model: int = 256,\n",
    "        num_heads: int = 8,\n",
    "        num_layers: int = 4,\n",
    "        dropout: float = 0.1,\n",
    "    ):\n",
    "        super().__init__()\n",
    "\n",
    "        self.vocab_size = vocab_size\n",
    "        self.max_seq_len = max_seq_len\n",
    "        self.d_model = d_model\n",
    "\n",
    "        # Embeddings\n",
    "        self.token_embedding = nn.Embedding(vocab_size, d_model)\n",
    "        self.position_embedding = nn.Embedding(max_seq_len, d_model)\n",
    "\n",
    "        # Time embedding for diffusion timestep\n",
    "        self.time_embedding = nn.Sequential(nn.Linear(d_model, d_model), nn.GELU(), nn.Linear(d_model, d_model))\n",
    "\n",
    "        # Transformer layers\n",
    "        encoder_layer = nn.TransformerEncoderLayer(\n",
    "            d_model=d_model,\n",
    "            nhead=num_heads,\n",
    "            dim_feedforward=4 * d_model,\n",
    "            dropout=dropout,\n",
    "            activation=\"gelu\",\n",
    "            batch_first=True,\n",
    "        )\n",
    "        self.transformer = nn.TransformerEncoder(encoder_layer, num_layers)\n",
    "\n",
    "        # Output head to predict x₀\n",
    "        self.output_head = nn.Sequential(nn.LayerNorm(d_model), nn.Linear(d_model, vocab_size))\n",
    "\n",
    "        self.dropout = nn.Dropout(dropout)\n",
    "\n",
    "    def _get_time_embedding(self, t: torch.Tensor) -> torch.Tensor:\n",
    "        \"\"\"Create sinusoidal time embeddings like in original Transformer.\"\"\"\n",
    "        half_dim = self.d_model // 2\n",
    "\n",
    "        # Create the frequency ratios\n",
    "        freqs = torch.exp(\n",
    "            -math.log(10000.0) * torch.arange(0, half_dim, dtype=torch.float32, device=t.device) / half_dim\n",
    "        )\n",
    "\n",
    "        # Expand dims to enable broadcasting: t is [batch_size], freqs is [half_dim]\n",
    "        time_freqs = t.float()[:, None] * freqs[None, :]  # [batch_size, half_dim]\n",
    "\n",
    "        # Create sin and cos components\n",
    "        emb = torch.cat([torch.sin(time_freqs), torch.cos(time_freqs)], dim=1)  # [batch_size, d_model]\n",
    "\n",
    "        if self.d_model % 2 == 1:  # Handle odd d_model\n",
    "            emb = torch.cat([emb, torch.zeros_like(emb[:, :1])], dim=1)\n",
    "\n",
    "        return self.time_embedding(emb)\n",
    "\n",
    "    def forward(self, x_t: torch.Tensor, t: torch.Tensor) -> torch.Tensor:\n",
    "        \"\"\"\n",
    "        Forward pass: predict x₀ from x_t.\n",
    "\n",
    "        Args:\n",
    "            x_t: Noisy tokens, shape [batch_size, seq_len]\n",
    "            t: Timesteps, shape [batch_size]\n",
    "\n",
    "        Returns:\n",
    "            x0_logits: Predicted x₀ logits, shape [batch_size, seq_len, vocab_size]\n",
    "        \"\"\"\n",
    "        batch_size, seq_len = x_t.shape\n",
    "        device = x_t.device\n",
    "\n",
    "        # Token embeddings\n",
    "        token_emb = self.token_embedding(x_t)  # [B, L, D]\n",
    "\n",
    "        # Position embeddings\n",
    "        positions = torch.arange(seq_len, device=device).unsqueeze(0).expand(batch_size, -1)\n",
    "        pos_emb = self.position_embedding(positions)  # [B, L, D]\n",
    "\n",
    "        # Time embeddings\n",
    "        time_emb = self._get_time_embedding(t)  # [B, D]\n",
    "        time_emb = time_emb.unsqueeze(1).expand(-1, seq_len, -1)  # [B, L, D]\n",
    "\n",
    "        # Combine all embeddings\n",
    "        x = self.dropout(token_emb + pos_emb + time_emb)  # [B, L, D]\n",
    "\n",
    "        # Transformer processing\n",
    "        x = self.transformer(x)  # [B, L, D]\n",
    "\n",
    "        # Predict x₀ logits\n",
    "        x0_logits = self.output_head(x)  # [B, L, vocab_size]\n",
    "\n",
    "        return x0_logits\n"
   ]
  },
  {
   "cell_type": "code",
   "execution_count": 12,
   "id": "d0a19a8d",
   "metadata": {},
   "outputs": [
    {
     "name": "stderr",
     "output_type": "stream",
     "text": [
      "ic| x_t.shape: torch.Size([8, 20])\n",
      "    x0_logits.shape: torch.Size([8, 20, 1000])\n",
      "    t.shape: torch.Size([8])\n",
      "| x_t.shape: torch.Size([8, 20])\n",
      "    x0_logits.shape: torch.Size([8, 20, 1000])\n",
      "    t.shape: torch.Size([8])\n",
      "ic| scheduler.Q_t.shape: torch.Size([50, 1000, 1000])\n",
      "    scheduler.Q_bar_t.shape: torch.Size([50, 1000, 1000])\n",
      "ic| scheduler.Q_t.shape: torch.Size([50, 1000, 1000])\n",
      "    scheduler.Q_bar_t.shape: torch.Size([50, 1000, 1000])\n"
     ]
    }
   ],
   "source": [
    "def compute_predicted_posterior(\n",
    "    scheduler: UniformScheduler, x0_logits: torch.Tensor, x_t: torch.Tensor, t: torch.Tensor\n",
    ") -> torch.Tensor:\n",
    "    \"\"\"\n",
    "    Compute p_θ(x_{t-1}|x_t) using x₀-parameterization.\n",
    "\n",
    "    From Equation 4: p_θ(x_{t-1}|x_t) ∝ Σ q(x_{t-1},x_t|x̃₀) p̃_θ(x̃₀|x_t)\n",
    "\n",
    "    The true posterior is: q(x_{t-1}|x_t,x₀) ∝ q(x_t|x_{t-1}) q(x_{t-1}|x₀)\n",
    "\n",
    "    This is a fully vectorized implementation with no loops.\n",
    "    \"\"\"\n",
    "    batch_size, seq_len = x_t.shape\n",
    "    device = x_t.device\n",
    "    num_classes = scheduler.num_classes\n",
    "\n",
    "    # Convert model logits to probabilities\n",
    "    p_x0_given_xt = F.softmax(x0_logits, dim=-1)  # [B, L, K]\n",
    "\n",
    "    # Initialize result tensor\n",
    "    pred_posteriors = torch.zeros(batch_size, seq_len, num_classes, device=device)\n",
    "\n",
    "    # Handle t=0 case separately (early return for efficiency)\n",
    "    t_zero_mask = t == 0\n",
    "    if t_zero_mask.any():\n",
    "        # For t=0 cases, return softmax of x0_logits\n",
    "        pred_posteriors[t_zero_mask] = p_x0_given_xt[t_zero_mask]\n",
    "\n",
    "        # If all timesteps are 0, return early\n",
    "        if t_zero_mask.all():\n",
    "            return pred_posteriors\n",
    "\n",
    "    # Process non-zero timesteps\n",
    "    non_zero_mask = ~t_zero_mask\n",
    "    if not non_zero_mask.any():\n",
    "        return pred_posteriors\n",
    "\n",
    "    # Get indices for non-zero timesteps\n",
    "    t_non_zero = t[non_zero_mask]  # [N] where N = number of non-zero timesteps\n",
    "\n",
    "    # Get transition matrices for all non-zero timesteps\n",
    "    # Stack Q_t and Q_{t-1} matrices for vectorized operations\n",
    "    Q_t_stack = torch.stack([scheduler.Q_t[t_val] for t_val in t_non_zero])  # [N, K, K]\n",
    "    Q_t_minus_1_stack = torch.stack([scheduler.Q_t[t_val - 1] for t_val in t_non_zero])  # [N, K, K]\n",
    "\n",
    "    # Get relevant data for non-zero timesteps\n",
    "    x_t_non_zero = x_t[non_zero_mask]  # [N, L]\n",
    "    p_x0_non_zero = p_x0_given_xt[non_zero_mask]  # [N, L, K]\n",
    "\n",
    "    # Vectorized computation of posterior for all positions and timesteps\n",
    "    # We need to compute: Σ_{x0} p(x0|xt) * q(x_{t-1}|xt,x0)\n",
    "    # where q(x_{t-1}|xt,x0) ∝ q(xt|x_{t-1}) * q(x_{t-1}|x0)\n",
    "\n",
    "    # Create index tensors for gathering\n",
    "    batch_indices = torch.arange(len(t_non_zero), device=device)[:, None]  # [N, 1]\n",
    "    x_t_indices = x_t_non_zero  # [N, L] - current token indices\n",
    "\n",
    "    # For each possible x_{t-1} value, compute the posterior probability\n",
    "    pred_posterior_non_zero = torch.zeros(len(t_non_zero), seq_len, num_classes, device=device)\n",
    "\n",
    "    for x_prev in range(num_classes):\n",
    "        # For this x_{t-1} value, compute contribution from all possible x0 values\n",
    "\n",
    "        # q(x_t|x_{t-1}): transition probability from x_prev to current tokens\n",
    "        # Shape operations: Q_t_stack[batch_indices, x_prev, x_t_indices]\n",
    "        q_xt_given_xprev = Q_t_stack[batch_indices, x_prev, x_t_indices]  # [N, L]\n",
    "\n",
    "        # Avoid division by zero\n",
    "        Q_t_minus_1_vals = Q_t_minus_1_stack[batch_indices, x_prev, x_t_indices]  # [N, L]\n",
    "        q_xt_given_xprev = q_xt_given_xprev / (Q_t_minus_1_vals + 1e-8)\n",
    "\n",
    "        # q(x_{t-1}|x0): probability of being at x_prev given each possible x0\n",
    "        # Q_t_minus_1_stack[:, x0_indices, x_prev] for all x0_indices\n",
    "        q_xprev_given_x0 = Q_t_minus_1_stack[:, :, x_prev]  # [N, K]\n",
    "\n",
    "        # Expand dimensions for broadcasting\n",
    "        q_xt_given_xprev_expanded = q_xt_given_xprev[:, :, None]  # [N, L, 1]\n",
    "        q_xprev_given_x0_expanded = q_xprev_given_x0[:, None, :]  # [N, 1, K]\n",
    "\n",
    "        # Compute unnormalized posterior contribution for this x_{t-1}\n",
    "        # Shape: [N, L, K] = [N, L, 1] * [N, 1, K] * [N, L, K]\n",
    "        unnorm_contrib = q_xt_given_xprev_expanded * q_xprev_given_x0_expanded * p_x0_non_zero\n",
    "\n",
    "        # Sum over all possible x0 values (marginalization)\n",
    "        pred_posterior_non_zero[:, :, x_prev] = unnorm_contrib.sum(dim=-1)  # [N, L]\n",
    "\n",
    "    # Normalize the posterior distributions\n",
    "    pred_posterior_non_zero = pred_posterior_non_zero / (pred_posterior_non_zero.sum(dim=-1, keepdim=True) + 1e-8)\n",
    "\n",
    "    # Place results back into the full tensor\n",
    "    pred_posteriors[non_zero_mask] = pred_posterior_non_zero\n",
    "\n",
    "    return pred_posteriors\n",
    "\n",
    "\n",
    "batch_size = 8\n",
    "vocab_size = 1000\n",
    "seq_len = 20\n",
    "num_timesteps = 50  # Total number of timesteps\n",
    "t = torch.randint(0, num_timesteps, (batch_size,), device=device)\n",
    "x_t = torch.randint(0, vocab_size, (batch_size, seq_len), device=device)  # Simulated noisy input\n",
    "x0_logits = torch.randn(batch_size, seq_len, vocab_size, device=device)  # Simulated model output\n",
    "ic(x_t.shape, x0_logits.shape, t.shape)\n",
    "\n",
    "scheduler = UniformScheduler(num_classes=vocab_size, num_timesteps=num_timesteps).to(device)\n",
    "ic(scheduler.Q_t.shape, scheduler.Q_bar_t.shape)\n",
    "pred_posterior = compute_predicted_posterior(scheduler=scheduler, x0_logits=x0_logits, x_t=x_t, t=t)"
   ]
  },
  {
   "cell_type": "code",
   "execution_count": 13,
   "id": "43db492b",
   "metadata": {},
   "outputs": [
    {
     "name": "stdout",
     "output_type": "stream",
     "text": [
      "🎨 Visual demonstration of compute_predicted_posterior...\n",
      "\n",
      "🔍 Timestep t = 0:\n",
      "   Input x_t: [[0, 1, 2], [2, 0, 1]],  Predicted x0 (argmax): [[0, 1, 2], [3, 0, 1]]\n",
      "   Posterior p(x_{t-1}|x_t) for each position:\n",
      "     Batch 0, Pos 0: most likely x_{t-1} = 0 (prob=0.980)full distribution: ['0.980', '0.007', '0.007', '0.007']\n",
      "     Batch 0, Pos 1: most likely x_{t-1} = 1 (prob=0.980)full distribution: ['0.007', '0.980', '0.007', '0.007']\n",
      "     Batch 0, Pos 2: most likely x_{t-1} = 2 (prob=0.980)full distribution: ['0.007', '0.007', '0.980', '0.007']\n",
      "     Batch 1, Pos 0: most likely x_{t-1} = 3 (prob=0.980)full distribution: ['0.007', '0.007', '0.007', '0.980']\n",
      "     Batch 1, Pos 1: most likely x_{t-1} = 0 (prob=0.980)full distribution: ['0.980', '0.007', '0.007', '0.007']\n",
      "     Batch 1, Pos 2: most likely x_{t-1} = 1 (prob=0.980)full distribution: ['0.007', '0.980', '0.007', '0.007']\n",
      "   Entropy (uncertainty): [[0.11907892674207687, 0.11907892674207687, 0.11907892674207687], [0.11907892674207687, 0.11907892674207687, 0.11907892674207687]]\n",
      "\n",
      "🔍 Timestep t = 1:\n",
      "   Input x_t: [[0, 1, 2], [2, 0, 1]],  Predicted x0 (argmax): [[0, 1, 2], [3, 0, 1]]\n",
      "   Posterior p(x_{t-1}|x_t) for each position:\n",
      "     Batch 0, Pos 0: most likely x_{t-1} = 0 (prob=0.492)full distribution: ['0.492', '0.169', '0.169', '0.169']\n",
      "     Batch 0, Pos 1: most likely x_{t-1} = 1 (prob=0.492)full distribution: ['0.169', '0.492', '0.169', '0.169']\n",
      "     Batch 0, Pos 2: most likely x_{t-1} = 2 (prob=0.492)full distribution: ['0.169', '0.169', '0.492', '0.169']\n",
      "     Batch 1, Pos 0: most likely x_{t-1} = 3 (prob=0.987)full distribution: ['0.007', '0.007', '0.000', '0.987']\n",
      "     Batch 1, Pos 1: most likely x_{t-1} = 0 (prob=0.492)full distribution: ['0.492', '0.169', '0.169', '0.169']\n",
      "     Batch 1, Pos 2: most likely x_{t-1} = 1 (prob=0.492)full distribution: ['0.169', '0.492', '0.169', '0.169']\n",
      "   Entropy (uncertainty): [[1.2512774467468262, 1.2512774467468262, 1.2512774467468262], [0.08140797913074493, 1.2512774467468262, 1.2512774467468262]]\n",
      "\n",
      "🔍 Timestep t = 3:\n",
      "   Input x_t: [[0, 1, 2], [2, 0, 1]],  Predicted x0 (argmax): [[0, 1, 2], [3, 0, 1]]\n",
      "   Posterior p(x_{t-1}|x_t) for each position:\n",
      "     Batch 0, Pos 0: most likely x_{t-1} = 0 (prob=0.960)full distribution: ['0.960', '0.013', '0.013', '0.013']\n",
      "     Batch 0, Pos 1: most likely x_{t-1} = 1 (prob=0.960)full distribution: ['0.013', '0.960', '0.013', '0.013']\n",
      "     Batch 0, Pos 2: most likely x_{t-1} = 2 (prob=0.960)full distribution: ['0.013', '0.013', '0.960', '0.013']\n",
      "     Batch 1, Pos 0: most likely x_{t-1} = 3 (prob=0.976)full distribution: ['0.009', '0.009', '0.006', '0.976']\n",
      "     Batch 1, Pos 1: most likely x_{t-1} = 0 (prob=0.960)full distribution: ['0.960', '0.013', '0.013', '0.013']\n",
      "     Batch 1, Pos 2: most likely x_{t-1} = 1 (prob=0.960)full distribution: ['0.013', '0.960', '0.013', '0.013']\n",
      "   Entropy (uncertainty): [[0.21273937821388245, 0.21273937821388245, 0.21273937821388245], [0.14017626643180847, 0.21273937821388245, 0.21273937821388245]]\n",
      "\n",
      "📊 Summary insights:\n",
      "   • At t=0: Returns exact softmax of model predictions\n",
      "   • At t>0: Incorporates diffusion process uncertainty\n",
      "   • Higher t → more uncertainty (higher entropy)\n",
      "   • Function respects probability constraints (sum=1, non-negative)\n"
     ]
    }
   ],
   "source": [
    "\"\"\"\n",
    "Visual demonstration of compute_predicted_posterior function behavior.\n",
    "\"\"\"\n",
    "print(\"🎨 Visual demonstration of compute_predicted_posterior...\")\n",
    "\n",
    "# Use a very small example for clarity\n",
    "demo_vocab_size = 4\n",
    "demo_num_timesteps = 5\n",
    "demo_scheduler = UniformScheduler(num_classes=demo_vocab_size, num_timesteps=demo_num_timesteps).to(device)\n",
    "batch_size, seq_len = 2, 3\n",
    "\n",
    "# Test different timesteps\n",
    "for t_val in [0, 1, 3]:\n",
    "    print(f\"\\n🔍 Timestep t = {t_val}:\")\n",
    "\n",
    "    t = torch.tensor([t_val, t_val], device=device)\n",
    "    x_t = torch.tensor([[0, 1, 2], [2, 0, 1]], device=device)\n",
    "\n",
    "    # Create logits that strongly prefer certain tokens\n",
    "    x0_logits = torch.zeros(batch_size, seq_len, demo_vocab_size, device=device)\n",
    "    x0_logits[0, 0, 0] = 5.0  # Strongly predict token 0 for position 0\n",
    "    x0_logits[0, 1, 1] = 5.0  # Strongly predict token 1 for position 1\n",
    "    x0_logits[0, 2, 2] = 5.0  # Strongly predict token 2 for position 2\n",
    "    x0_logits[1, 0, 3] = 5.0  # Strongly predict token 3 for position 0\n",
    "    x0_logits[1, 1, 0] = 5.0  # Strongly predict token 0 for position 1\n",
    "    x0_logits[1, 2, 1] = 5.0  # Strongly predict token 1 for position 2\n",
    "\n",
    "    result = compute_predicted_posterior(demo_scheduler, x0_logits, x_t, t)\n",
    "\n",
    "    print(\n",
    "        f\"   Input x_t: {x_t.tolist()},  Predicted x0 (argmax): {F.softmax(x0_logits, dim=-1).argmax(dim=-1).tolist()}\"\n",
    "    )\n",
    "    print(f\"   Posterior p(x_{{t-1}}|x_t) for each position:\")\n",
    "\n",
    "    for b in range(batch_size):\n",
    "        for pos in range(seq_len):\n",
    "            posterior = result[b, pos]\n",
    "            max_prob_token = posterior.argmax().item()\n",
    "            max_prob = posterior.max().item()\n",
    "            print(\n",
    "                f\"     Batch {b}, Pos {pos}: most likely x_{{t-1}} = {max_prob_token} (prob={max_prob:.3f})\"\n",
    "                f\"full distribution: {[f'{p:.3f}' for p in posterior.tolist()]}\"\n",
    "            )\n",
    "\n",
    "    # Show entropy (measure of uncertainty)\n",
    "    entropy = -(result * torch.log(result + 1e-8)).sum(dim=-1)\n",
    "    print(f\"   Entropy (uncertainty): {entropy.tolist()}\")\n",
    "\n",
    "print(f\"\\n📊 Summary insights:\")\n",
    "print(f\"   • At t=0: Returns exact softmax of model predictions\")\n",
    "print(f\"   • At t>0: Incorporates diffusion process uncertainty\")\n",
    "print(f\"   • Higher t → more uncertainty (higher entropy)\")\n",
    "print(f\"   • Function respects probability constraints (sum=1, non-negative)\")\n"
   ]
  },
  {
   "cell_type": "code",
   "execution_count": null,
   "id": "9a5fb805",
   "metadata": {},
   "outputs": [
    {
     "name": "stdout",
     "output_type": "stream",
     "text": [
      "\n",
      "\n",
      "\n",
      "Tokenizer trained and saved to ./simple_1000_dylan_tokenizer\n",
      "Max sequence length in dataset: 22\n"
     ]
    },
    {
     "name": "stderr",
     "output_type": "stream",
     "text": [
      "ic| x_0.shape: torch.Size([32, 3])\n",
      "| x_0.shape: torch.Size([32, 3])\n",
      "ic| x_t.shape: torch.Size([32, 3])\n",
      "ic| x_t.shape: torch.Size([32, 3])\n"
     ]
    },
    {
     "name": "stdout",
     "output_type": "stream",
     "text": [
      "before training step\n"
     ]
    },
    {
     "name": "stderr",
     "output_type": "stream",
     "text": [
      "ic| x0_logits.shape: torch.Size([32, 3, 1000])\n",
      "| x0_logits.shape: torch.Size([32, 3, 1000])\n"
     ]
    },
    {
     "name": "stdout",
     "output_type": "stream",
     "text": [
      "after training step\n"
     ]
    }
   ],
   "source": [
    "\"\"\" Training step on a single batch. \"\"\"\n",
    "\n",
    "\n",
    "def training_step(\n",
    "    scheduler: UniformScheduler, model: SimpleD3PMModel, x_0: torch.Tensor, t: torch.Tensor\n",
    ") -> tuple[torch.Tensor, torch.Tensor]:\n",
    "    x_t = scheduler.add_noise(x_0, t)\n",
    "    ic(x_t.shape)\n",
    "    x0_logits = model(x_t, t)\n",
    "    ic(x0_logits.shape)\n",
    "    true_posterior = scheduler.get_posterior_params(x_t, x_0, t)\n",
    "    # ic(true_posterior.shape)\n",
    "\n",
    "    pred_posterior = compute_predicted_posterior(scheduler=scheduler, x0_logits=x0_logits, x_t=x_t, t=t)\n",
    "    # ic(pred_posterior.shape)\n",
    "\n",
    "    kl_terms = scheduler.compute_kl_divergence(true_posterior, pred_posterior)\n",
    "    # ic(kl_terms.shape)\n",
    "    return x0_logits, kl_terms\n",
    "\n",
    "\n",
    "num_timesteps = 50\n",
    "max_seq_len = 22\n",
    "batch_size = 32\n",
    "vocab_size = 1000\n",
    "dylan_tokenizer = SimpleDylanTokenizer(vocab_size=1000)\n",
    "dylan_tokenizer.train_tokenizer(corpus=lines, save_path=f\"./simple_{vocab_size}_dylan_tokenizer\")\n",
    "tokenizer = dylan_tokenizer.get_transformers_tokenizer()\n",
    "sm_dataset = SimpleDylanDataset(lines[:100], tokenizer, seq_len=seq_len)\n",
    "sm_dataloader = DataLoader(sm_dataset, batch_size=batch_size, shuffle=True)\n",
    "\n",
    "\n",
    "scheduler = UniformScheduler(num_classes=vocab_size, num_timesteps=num_timesteps, beta_start=0.0001, beta_end=0.02).to(\n",
    "    device\n",
    ")\n",
    "\n",
    "model = SimpleD3PMModel(vocab_size=vocab_size, max_seq_len=max_seq_len, d_model=128, num_heads=2, num_layers=1).to(\n",
    "    device\n",
    ")\n",
    "\n",
    "t = torch.randint(0, num_timesteps, (batch_size,), device=device)  # Changed from (batch_size, 1) to (batch_size,)\n",
    "x_0 = next(iter(sm_dataloader))  # Get a batch from the small dataset\n",
    "x_0 = x_0.to(device)\n",
    "ic(x_0.shape)  # Should be [batch_size, seq_len]\n",
    "# Forward pass\n",
    "print(\"before training step\")\n",
    "x0_logits, kl_terms = training_step(scheduler=scheduler, model=model, x_0=x_0, t=t)\n",
    "print(\"after training step\")"
   ]
  },
  {
   "cell_type": "code",
   "execution_count": 15,
   "id": "aa7e5584",
   "metadata": {},
   "outputs": [
    {
     "name": "stdout",
     "output_type": "stream",
     "text": [
      "Model and scheduler created successfully!\n",
      "Model parameters: 3,809,256\n",
      "Vocab size: 1000\n",
      "Num timesteps: 50\n"
     ]
    }
   ],
   "source": [
    "import torch\n",
    "import torch.nn.functional as F\n",
    "\n",
    "# Assuming SimpleD3PMModel and UniformScheduler are defined elsewhere\n",
    "# from your_model_definition import SimpleD3PMModel, UniformScheduler\n",
    "\n",
    "# Simple model and scheduler setup for training\n",
    "seq_len = 20\n",
    "vocab_size = len(tokenizer)\n",
    "num_timesteps = 50\n",
    "\n",
    "# Create model and scheduler\n",
    "model = SimpleD3PMModel(vocab_size=vocab_size, max_seq_len=seq_len).to(device)\n",
    "scheduler = UniformScheduler(num_classes=vocab_size, num_timesteps=num_timesteps, beta_start=0.0001, beta_end=0.02).to(\n",
    "    device\n",
    ")\n",
    "\n",
    "\n",
    "# Simple loss function\n",
    "def d3pm_loss(\n",
    "    x0_logits: torch.Tensor, kl_terms: torch.Tensor, x_0: torch.Tensor, lambda_weight: float = 0.001\n",
    ") -> tuple[torch.Tensor, dict]:\n",
    "    # VB loss: average KL terms\n",
    "    vb_loss = kl_terms.mean()\n",
    "\n",
    "    # Auxiliary loss: cross entropy between predicted x0 and true x0\n",
    "    flat_logits = x0_logits.view(-1, vocab_size)\n",
    "    flat_targets = x_0.view(-1)\n",
    "    aux_loss = F.cross_entropy(flat_logits, flat_targets)\n",
    "\n",
    "    # Total loss\n",
    "    total_loss = vb_loss + lambda_weight * aux_loss\n",
    "\n",
    "    return total_loss, {\"total\": total_loss, \"vb\": vb_loss, \"aux\": aux_loss}\n",
    "\n",
    "\n",
    "# Optimizer\n",
    "optimizer = torch.optim.AdamW(model.parameters(), lr=1e-4)\n",
    "\n",
    "print(\"Model and scheduler created successfully!\")\n",
    "print(f\"Model parameters: {sum(p.numel() for p in model.parameters()):,}\")\n",
    "print(f\"Vocab size: {vocab_size}\")\n",
    "print(f\"Num timesteps: {num_timesteps}\")\n"
   ]
  },
  {
   "cell_type": "markdown",
   "id": "6b4c66f1",
   "metadata": {},
   "source": [
    "## Training loop"
   ]
  },
  {
   "cell_type": "code",
   "execution_count": 64,
   "id": "211eecdb",
   "metadata": {},
   "outputs": [
    {
     "name": "stdout",
     "output_type": "stream",
     "text": [
      "\n",
      "\n",
      "\n",
      "Tokenizer trained and saved to ./simple_3000_dylan_tokenizer\n",
      "Max sequence length in dataset: 25\n"
     ]
    },
    {
     "name": "stderr",
     "output_type": "stream",
     "text": [
      "ic| num_batches: 32\n"
     ]
    },
    {
     "data": {
      "application/vnd.jupyter.widget-view+json": {
       "model_id": "eb0b64afab51483582f87235dc7e4431",
       "version_major": 2,
       "version_minor": 0
      },
      "text/plain": [
       "epoch 1/20:   0%|          | 0/32 [00:00<?, ?it/s]"
      ]
     },
     "metadata": {},
     "output_type": "display_data"
    },
    {
     "name": "stdout",
     "output_type": "stream",
     "text": [
      "Epoch 0 completed. Average Loss: 7.2473\n"
     ]
    },
    {
     "data": {
      "application/vnd.jupyter.widget-view+json": {
       "model_id": "1215e36119654bf09b9c9f7afd865c20",
       "version_major": 2,
       "version_minor": 0
      },
      "text/plain": [
       "epoch 2/20:   0%|          | 0/32 [00:00<?, ?it/s]"
      ]
     },
     "metadata": {},
     "output_type": "display_data"
    },
    {
     "name": "stdout",
     "output_type": "stream",
     "text": [
      "Epoch 1 completed. Average Loss: 6.1325\n"
     ]
    },
    {
     "data": {
      "application/vnd.jupyter.widget-view+json": {
       "model_id": "0357ca6776d04231a86462f5fb63d059",
       "version_major": 2,
       "version_minor": 0
      },
      "text/plain": [
       "epoch 3/20:   0%|          | 0/32 [00:00<?, ?it/s]"
      ]
     },
     "metadata": {},
     "output_type": "display_data"
    },
    {
     "name": "stdout",
     "output_type": "stream",
     "text": [
      "Epoch 2 completed. Average Loss: 5.5623\n"
     ]
    },
    {
     "data": {
      "application/vnd.jupyter.widget-view+json": {
       "model_id": "2029cf6f81624893aa43020c199bd8af",
       "version_major": 2,
       "version_minor": 0
      },
      "text/plain": [
       "epoch 4/20:   0%|          | 0/32 [00:00<?, ?it/s]"
      ]
     },
     "metadata": {},
     "output_type": "display_data"
    },
    {
     "name": "stdout",
     "output_type": "stream",
     "text": [
      "Epoch 3 completed. Average Loss: 5.3558\n"
     ]
    },
    {
     "data": {
      "application/vnd.jupyter.widget-view+json": {
       "model_id": "d844e440ac96496295409712805bb2d7",
       "version_major": 2,
       "version_minor": 0
      },
      "text/plain": [
       "epoch 5/20:   0%|          | 0/32 [00:00<?, ?it/s]"
      ]
     },
     "metadata": {},
     "output_type": "display_data"
    },
    {
     "name": "stdout",
     "output_type": "stream",
     "text": [
      "Epoch 4 completed. Average Loss: 4.9889\n"
     ]
    },
    {
     "data": {
      "application/vnd.jupyter.widget-view+json": {
       "model_id": "b15cd099957e418a89f6a0a712d1c4e3",
       "version_major": 2,
       "version_minor": 0
      },
      "text/plain": [
       "epoch 6/20:   0%|          | 0/32 [00:00<?, ?it/s]"
      ]
     },
     "metadata": {},
     "output_type": "display_data"
    },
    {
     "name": "stdout",
     "output_type": "stream",
     "text": [
      "Epoch 5 completed. Average Loss: 4.7647\n"
     ]
    },
    {
     "data": {
      "application/vnd.jupyter.widget-view+json": {
       "model_id": "ff897b6e5dfc4f80b4349e86f2d84133",
       "version_major": 2,
       "version_minor": 0
      },
      "text/plain": [
       "epoch 7/20:   0%|          | 0/32 [00:00<?, ?it/s]"
      ]
     },
     "metadata": {},
     "output_type": "display_data"
    },
    {
     "name": "stdout",
     "output_type": "stream",
     "text": [
      "Epoch 6 completed. Average Loss: 4.6485\n"
     ]
    },
    {
     "data": {
      "application/vnd.jupyter.widget-view+json": {
       "model_id": "759443c525ba4ac0bfdf3d84cd2a2fcb",
       "version_major": 2,
       "version_minor": 0
      },
      "text/plain": [
       "epoch 8/20:   0%|          | 0/32 [00:00<?, ?it/s]"
      ]
     },
     "metadata": {},
     "output_type": "display_data"
    },
    {
     "name": "stdout",
     "output_type": "stream",
     "text": [
      "Epoch 7 completed. Average Loss: 4.5514\n"
     ]
    },
    {
     "data": {
      "application/vnd.jupyter.widget-view+json": {
       "model_id": "69375fe3f9cd4b8791377afbf8e3a683",
       "version_major": 2,
       "version_minor": 0
      },
      "text/plain": [
       "epoch 9/20:   0%|          | 0/32 [00:00<?, ?it/s]"
      ]
     },
     "metadata": {},
     "output_type": "display_data"
    },
    {
     "name": "stdout",
     "output_type": "stream",
     "text": [
      "Epoch 8 completed. Average Loss: 4.2550\n"
     ]
    },
    {
     "data": {
      "application/vnd.jupyter.widget-view+json": {
       "model_id": "3bcbcc81a11549419b4fc6e5c82eec25",
       "version_major": 2,
       "version_minor": 0
      },
      "text/plain": [
       "epoch 10/20:   0%|          | 0/32 [00:00<?, ?it/s]"
      ]
     },
     "metadata": {},
     "output_type": "display_data"
    },
    {
     "name": "stdout",
     "output_type": "stream",
     "text": [
      "Epoch 9 completed. Average Loss: 4.1262\n"
     ]
    },
    {
     "data": {
      "application/vnd.jupyter.widget-view+json": {
       "model_id": "fa0815cf6634495daf8ab98bad5b2143",
       "version_major": 2,
       "version_minor": 0
      },
      "text/plain": [
       "epoch 11/20:   0%|          | 0/32 [00:00<?, ?it/s]"
      ]
     },
     "metadata": {},
     "output_type": "display_data"
    },
    {
     "name": "stdout",
     "output_type": "stream",
     "text": [
      "Epoch 10 completed. Average Loss: 4.1539\n"
     ]
    },
    {
     "data": {
      "application/vnd.jupyter.widget-view+json": {
       "model_id": "9f21097ab0cc453486c795f8eb6b5207",
       "version_major": 2,
       "version_minor": 0
      },
      "text/plain": [
       "epoch 12/20:   0%|          | 0/32 [00:00<?, ?it/s]"
      ]
     },
     "metadata": {},
     "output_type": "display_data"
    },
    {
     "name": "stdout",
     "output_type": "stream",
     "text": [
      "Epoch 11 completed. Average Loss: 4.0826\n"
     ]
    },
    {
     "data": {
      "application/vnd.jupyter.widget-view+json": {
       "model_id": "741b6df192dd4931993c49c6a63c913f",
       "version_major": 2,
       "version_minor": 0
      },
      "text/plain": [
       "epoch 13/20:   0%|          | 0/32 [00:00<?, ?it/s]"
      ]
     },
     "metadata": {},
     "output_type": "display_data"
    },
    {
     "name": "stdout",
     "output_type": "stream",
     "text": [
      "Epoch 12 completed. Average Loss: 3.9104\n"
     ]
    },
    {
     "data": {
      "application/vnd.jupyter.widget-view+json": {
       "model_id": "72c2b56c345842c98a03f90f06b66942",
       "version_major": 2,
       "version_minor": 0
      },
      "text/plain": [
       "epoch 14/20:   0%|          | 0/32 [00:00<?, ?it/s]"
      ]
     },
     "metadata": {},
     "output_type": "display_data"
    },
    {
     "name": "stdout",
     "output_type": "stream",
     "text": [
      "Epoch 13 completed. Average Loss: 3.7726\n"
     ]
    },
    {
     "data": {
      "application/vnd.jupyter.widget-view+json": {
       "model_id": "615265b734624ee3894983dfaaffed27",
       "version_major": 2,
       "version_minor": 0
      },
      "text/plain": [
       "epoch 15/20:   0%|          | 0/32 [00:00<?, ?it/s]"
      ]
     },
     "metadata": {},
     "output_type": "display_data"
    },
    {
     "name": "stdout",
     "output_type": "stream",
     "text": [
      "Epoch 14 completed. Average Loss: 3.7265\n"
     ]
    },
    {
     "data": {
      "application/vnd.jupyter.widget-view+json": {
       "model_id": "dcda14bb06694b488687b1214bdb493e",
       "version_major": 2,
       "version_minor": 0
      },
      "text/plain": [
       "epoch 16/20:   0%|          | 0/32 [00:00<?, ?it/s]"
      ]
     },
     "metadata": {},
     "output_type": "display_data"
    },
    {
     "name": "stdout",
     "output_type": "stream",
     "text": [
      "Epoch 15 completed. Average Loss: 3.6785\n"
     ]
    },
    {
     "data": {
      "application/vnd.jupyter.widget-view+json": {
       "model_id": "6f9820e686b3454db62a23003f2ca5b7",
       "version_major": 2,
       "version_minor": 0
      },
      "text/plain": [
       "epoch 17/20:   0%|          | 0/32 [00:00<?, ?it/s]"
      ]
     },
     "metadata": {},
     "output_type": "display_data"
    },
    {
     "name": "stdout",
     "output_type": "stream",
     "text": [
      "Epoch 16 completed. Average Loss: 3.6063\n"
     ]
    },
    {
     "data": {
      "application/vnd.jupyter.widget-view+json": {
       "model_id": "4be67e6e309c4a48b058ff67772f16c9",
       "version_major": 2,
       "version_minor": 0
      },
      "text/plain": [
       "epoch 18/20:   0%|          | 0/32 [00:00<?, ?it/s]"
      ]
     },
     "metadata": {},
     "output_type": "display_data"
    },
    {
     "name": "stdout",
     "output_type": "stream",
     "text": [
      "Epoch 17 completed. Average Loss: 3.4987\n"
     ]
    },
    {
     "data": {
      "application/vnd.jupyter.widget-view+json": {
       "model_id": "3f5f00f2bbe24e64a91a2995eeae947e",
       "version_major": 2,
       "version_minor": 0
      },
      "text/plain": [
       "epoch 19/20:   0%|          | 0/32 [00:00<?, ?it/s]"
      ]
     },
     "metadata": {},
     "output_type": "display_data"
    },
    {
     "name": "stdout",
     "output_type": "stream",
     "text": [
      "Epoch 18 completed. Average Loss: 3.3408\n"
     ]
    },
    {
     "data": {
      "application/vnd.jupyter.widget-view+json": {
       "model_id": "7ca623c44a6548cfbbf1e7de23e4530c",
       "version_major": 2,
       "version_minor": 0
      },
      "text/plain": [
       "epoch 20/20:   0%|          | 0/32 [00:00<?, ?it/s]"
      ]
     },
     "metadata": {},
     "output_type": "display_data"
    },
    {
     "name": "stdout",
     "output_type": "stream",
     "text": [
      "Epoch 19 completed. Average Loss: 3.2602\n"
     ]
    },
    {
     "data": {
      "image/png": "[encoded data removed]",
      "text/plain": [
       "<Figure size 1200x400 with 2 Axes>"
      ]
     },
     "metadata": {},
     "output_type": "display_data"
    },
    {
     "name": "stdout",
     "output_type": "stream",
     "text": [
      "\n",
      "✅ Training loop working correctly! IndexError has been fixed.\n"
     ]
    }
   ],
   "source": [
    "from my_transformer import utils\n",
    "import matplotlib.pyplot as plt\n",
    "from torch.utils.tensorboard import SummaryWriter\n",
    "from torch.optim.lr_scheduler import CosineAnnealingWarmRestarts, ReduceLROnPlateau\n",
    "\n",
    "vocab_size = 3000\n",
    "num_timesteps = 100\n",
    "max_seq_len = 20\n",
    "batch_size = 16\n",
    "\n",
    "sm_lines = lines[:512]  # Use a smaller subset for testing\n",
    "dylan_tokenizer = SimpleDylanTokenizer(vocab_size=vocab_size)\n",
    "dylan_tokenizer.train_tokenizer(corpus=sm_lines, save_path=f\"./simple_{vocab_size}_dylan_tokenizer\")\n",
    "tokenizer = dylan_tokenizer.get_transformers_tokenizer()\n",
    "sm_dataset = SimpleDylanDataset(sm_lines, tokenizer, seq_len=seq_len)\n",
    "sm_dataloader = DataLoader(sm_dataset, batch_size=batch_size, shuffle=True)\n",
    "\n",
    "dataloader = sm_dataloader\n",
    "\n",
    "model = SimpleD3PMModel(vocab_size=vocab_size, max_seq_len=max_seq_len, d_model=128, num_heads=2, num_layers=1).to(\n",
    "    device\n",
    ")\n",
    "\n",
    "scheduler = UniformScheduler(num_classes=vocab_size, num_timesteps=num_timesteps, beta_start=0.0001, beta_end=0.02).to(\n",
    "    device\n",
    ")\n",
    "do_train = True\n",
    "if do_train:\n",
    "    # optimizer = torch.optim.AdamW(model.parameters(), lr=1e-4, weight_decay=0.01)\n",
    "    learning_rate = 1e-4\n",
    "    weight_decay = 1e-5  # Added weight decay\n",
    "    optimizer = torch.optim.AdamW(model.parameters(), lr=learning_rate, weight_decay=weight_decay)\n",
    "    # Adaptive learning rate scheduler\n",
    "    lr_scheduler = CosineAnnealingWarmRestarts(optimizer, T_0=3, T_mult=2, eta_min=1e-6)\n",
    "    train_losses = []\n",
    "    learning_rates = []\n",
    "    model.train()\n",
    "\n",
    "    # Training loop - IndexError fixed!\n",
    "    num_epochs = 20\n",
    "\n",
    "    model_name = \"d3pm\"\n",
    "    model_version = \"1.0\"\n",
    "    timestamp = datetime.datetime.now().strftime(\"%Y%m%d_%H%M%S\")\n",
    "    log_dir = f\"../runs/{model_name}_{model_version}_training_{timestamp}\"\n",
    "    os.makedirs(log_dir, exist_ok=True)\n",
    "    writer = SummaryWriter(log_dir=log_dir)\n",
    "\n",
    "    global_step = 0\n",
    "    num_batches = len(dataloader)\n",
    "    ic(num_batches)\n",
    "\n",
    "    ic.disable()\n",
    "    for epoch in range(num_epochs):\n",
    "        model.train()\n",
    "        epoch_loss = 0\n",
    "\n",
    "        pbar = tqdm(dataloader, desc=f\"epoch {epoch + 1}/{num_epochs}\")\n",
    "\n",
    "        for b, x_0 in enumerate(pbar):\n",
    "            if b >= num_batches:\n",
    "                break\n",
    "\n",
    "            x_0 = x_0.to(device)\n",
    "            batch_size = x_0.shape[0]\n",
    "\n",
    "            # Sample random timesteps\n",
    "            t = torch.randint(0, num_timesteps, (batch_size,), device=device)\n",
    "\n",
    "            # Training step\n",
    "            x0_logits, kl_terms = training_step(scheduler=scheduler, model=model, x_0=x_0, t=t)\n",
    "            loss, loss_dict = d3pm_loss(x0_logits, kl_terms, x_0)\n",
    "\n",
    "            # Backpropagation\n",
    "            optimizer.zero_grad()\n",
    "            loss.backward()\n",
    "            optimizer.step()\n",
    "\n",
    "            epoch_loss += loss.item()\n",
    "            global_step += 1\n",
    "            current_lr = optimizer.param_groups[0][\"lr\"]\n",
    "            avg_epoch_loss = epoch_loss / num_batches\n",
    "\n",
    "            if global_step % 2 == 0:\n",
    "                writer.add_scalar(\"Loss/Batch\", loss.item(), global_step)\n",
    "                writer.add_scalar(\"Learning_Rate\", current_lr, global_step)\n",
    "                writer.add_scalar(\n",
    "                    \"Gradient_Norm\",\n",
    "                    torch.nn.utils.clip_grad_norm_(model.parameters(), max_norm=float(\"inf\")),\n",
    "                    global_step,\n",
    "                )\n",
    "\n",
    "            # Update progress bar\n",
    "            pbar.set_postfix({\"Loss\": f\"{loss.item():.4f}\", \"LR\": f\"{current_lr:.2e}\", \"Step\": global_step})\n",
    "\n",
    "            # Memory cleanup\n",
    "            if b % 5 == 0:\n",
    "                if torch.cuda.is_available():\n",
    "                    torch.cuda.empty_cache()\n",
    "                elif torch.backends.mps.is_available():\n",
    "                    torch.mps.empty_cache()\n",
    "\n",
    "        train_losses.append(avg_epoch_loss)\n",
    "        learning_rates.append(current_lr)\n",
    "\n",
    "        utils.save_model(model, model_name=model_name, model_version=model_version, iter=epoch)\n",
    "        print(f\"Epoch {epoch} completed. Average Loss: {epoch_loss / num_batches:.4f}\")\n",
    "\n",
    "    # Plot training curves\n",
    "    fig, (ax1, ax2) = plt.subplots(1, 2, figsize=(12, 4))\n",
    "\n",
    "    # Loss curve\n",
    "    ax1.plot(train_losses)\n",
    "    ax1.set_title(\"Training Loss\")\n",
    "    ax1.set_xlabel(\"Epoch\")\n",
    "    ax1.set_ylabel(\"Loss\")\n",
    "    ax1.grid(True)\n",
    "\n",
    "    # Learning rate curve\n",
    "    ax2.plot(learning_rates)\n",
    "    ax2.set_title(\"Learning Rate Schedule\")\n",
    "    ax2.set_xlabel(\"Epoch\")\n",
    "    ax2.set_ylabel(\"Learning Rate\")\n",
    "    ax2.set_yscale(\"log\")\n",
    "    ax2.grid(True)\n",
    "\n",
    "    plt.tight_layout()\n",
    "    os.makedirs(\"../plots\", exist_ok=True)\n",
    "    plt.savefig(f\"../plots/training_curves_{timestamp}.png\", dpi=150, bbox_inches=\"tight\")\n",
    "    plt.show()\n",
    "\n",
    "    writer.close()\n",
    "    print(\"\\n✅ Training loop working correctly! IndexError has been fixed.\")"
   ]
  },
  {
   "cell_type": "code",
   "execution_count": 65,
   "id": "9cb73b7c",
   "metadata": {},
   "outputs": [
    {
     "data": {
      "text/plain": [
       "20"
      ]
     },
     "execution_count": 65,
     "metadata": {},
     "output_type": "execute_result"
    }
   ],
   "source": [
    "num_epochs"
   ]
  },
  {
   "cell_type": "markdown",
   "id": "43e67b34",
   "metadata": {},
   "source": [
    "## Sampling output"
   ]
  },
  {
   "cell_type": "code",
   "execution_count": 66,
   "id": "fbff1b8c",
   "metadata": {},
   "outputs": [],
   "source": [
    "model = utils.load_model(model_name=model_name, model_version=model_version, iter=num_epochs - 1).to(device)"
   ]
  },
  {
   "cell_type": "code",
   "execution_count": 68,
   "id": "4b6db84e",
   "metadata": {},
   "outputs": [
    {
     "name": "stderr",
     "output_type": "stream",
     "text": [
      "ic| prompt_txt: 'How does it feel'\n",
      "ic| output_txt: 'How do es it feel . t down t in [PAD] a [PAD] [PAD] [PAD] Ha I age . t'\n",
      "ic| output_txt: 'How do es it feel . t down t in [PAD] a [PAD] [PAD] [PAD] the I s . t'\n",
      "ic| output_txt: 'How do es it feel . t down t in [PAD] a [PAD] [PAD] [PAD] the I s . t'\n",
      "ic| output_txt: 'How do es it feel . t down t in [PAD] a [PAD] [PAD] [PAD] the I s . t'\n",
      "ic| output_txt: 'How do es it feel . t down t in [PAD] a [PAD] [PAD] [PAD] the I s . t'\n",
      "ic| output_txt: 'How do es it feel . t down t in [PAD] a [PAD] [PAD] [PAD] the I s . t'\n",
      "ic| output_txt: 'How do es it feel . t down t in [PAD] a [PAD] [PAD] [PAD] the I s . t'\n",
      "ic| output_txt: 'How do es it feel . t down t in [PAD] a [PAD] [PAD] [PAD] the I s . t'\n",
      "ic| output_txt: 'How do es it feel . t down t in [PAD] a [PAD] [PAD] [PAD] the I s . t'\n",
      "ic| output_txt: 'How do es it feel . t down t in [PAD] a [PAD] [PAD] [PAD] the I s . t'\n",
      "ic| output_txt: 'How do es it feel . t down t in [PAD] a [PAD] [PAD] [PAD] the I s . t'\n",
      "ic| output_txt: 'How do es it feel . t down t in [PAD] a [PAD] [PAD] [PAD] the I s . t'\n",
      "ic| output_txt: 'How do es it feel . t down t in [PAD] a [PAD] [PAD] [PAD] the I s . t'\n",
      "ic| output_txt: 'How do es it feel . t down t in [PAD] a [PAD] [PAD] [PAD] the I s . t'\n",
      "ic| output_txt: 'How do es it feel . t down t in [PAD] a [PAD] [PAD] [PAD] the I s . t'\n",
      "ic| output_txt: 'How do es it feel . t down t in [PAD] a [PAD] [PAD] [PAD] the I s . t'\n",
      "ic| output_txt: 'How do es it feel . t down t in [PAD] a [PAD] [PAD] [PAD] the I s . t'\n",
      "ic| output_txt: 'How do es it feel . t down t in [PAD] a [PAD] [PAD] [PAD] the I s . t'\n",
      "ic| output_txt: 'How do es it feel . t down t in [PAD] a [PAD] [PAD] [PAD] the I s . t'\n",
      "ic| output_txt: 'How do es it feel . t down t in [PAD] a [PAD] [PAD] [PAD] the I s . t'\n",
      "ic| output_txt: 'How do es it feel . t down t in [PAD] a [PAD] [PAD] [PAD] the I s . t'\n",
      "ic| output_txt: 'How do es it feel . t down t in [PAD] a [PAD] [PAD] [PAD] the I s . t'\n",
      "ic| output_txt: 'How do es it feel . t down t in [PAD] a [PAD] [PAD] [PAD] the I s . t'\n",
      "ic| output_txt: 'How do es it feel . t down t in [PAD] a [PAD] [PAD] [PAD] the I s . t'\n",
      "ic| output_txt: 'How do es it feel . t down t in [PAD] a [PAD] [PAD] [PAD] the I s . t'\n",
      "ic| output_txt: 'How do es it feel . t down t in [PAD] a [PAD] [PAD] [PAD] the I s . t'\n",
      "ic| output_txt: 'How do es it feel . t down t in [PAD] a [PAD] [PAD] [PAD] the I s . t'\n",
      "ic| output_txt: 'How do es it feel . t down t in [PAD] a [PAD] [PAD] [PAD] the I s . t'\n",
      "ic| output_txt: 'How do es it feel . t down t in [PAD] a [PAD] [PAD] [PAD] the I s . t'\n",
      "ic| output_txt: 'How do es it feel . t down t in [PAD] a [PAD] [PAD] [PAD] the I s . t'\n",
      "ic| output_txt: 'How do es it feel . t down t in [PAD] a [PAD] [PAD] [PAD] the I s . t'\n",
      "ic| output_txt: 'How do es it feel . t down t in [PAD] a [PAD] [PAD] [PAD] the I s . t'\n",
      "ic| output_txt: 'How do es it feel . t down t in [PAD] a [PAD] [PAD] [PAD] the I s . t'\n",
      "ic| output_txt: 'How do es it feel . t down t in [PAD] a [PAD] [PAD] [PAD] the I s . t'\n",
      "ic| output_txt: 'How do es it feel . t down t in [PAD] a [PAD] [PAD] [PAD] the I s . t'\n",
      "ic| output_txt: 'How do es it feel . t down t in [PAD] a [PAD] [PAD] [PAD] the I s . t'\n",
      "ic| output_txt: 'How do es it feel . t down t in [PAD] a [PAD] [PAD] [PAD] the I s . t'\n",
      "ic| output_txt: 'How do es it feel . t down t in [PAD] a [PAD] [PAD] [PAD] the I s . t'\n",
      "ic| output_txt: 'How do es it feel . t down t in [PAD] a [PAD] [PAD] [PAD] the I s . t'\n",
      "ic| output_txt: 'How do es it feel . t down t in [PAD] a [PAD] [PAD] [PAD] the I s . t'\n",
      "ic| output_txt: 'How do es it feel . t down t in [PAD] a [PAD] [PAD] [PAD] the I s . t'\n",
      "ic| output_txt: 'How do es it feel . t down t in [PAD] a [PAD] [PAD] [PAD] the I s . t'\n",
      "ic| output_txt: 'How do es it feel . t down t in [PAD] a [PAD] [PAD] [PAD] the I s . t'\n",
      "ic| output_txt: 'How do es it feel . t down t in [PAD] a [PAD] [PAD] [PAD] the I s . t'\n",
      "ic| output_txt: 'How do es it feel . t down t in [PAD] a [PAD] [PAD] [PAD] the I s . t'\n",
      "ic| output_txt: 'How do es it feel . t down t in [PAD] a [PAD] [PAD] [PAD] the I s . t'\n",
      "ic| output_txt: 'How do es it feel . t down t in [PAD] a [PAD] [PAD] [PAD] the I s . t'\n",
      "ic| output_txt: 'How do es it feel . t down t in [PAD] a [PAD] [PAD] [PAD] the I s . t'\n",
      "ic| output_txt: 'How do es it feel . t down t in [PAD] a [PAD] [PAD] [PAD] the I s . t'\n",
      "ic| output_txt: 'How do es it feel . t down t in [PAD] a [PAD] [PAD] [PAD] the I s . t'\n",
      "ic| output_txt: 'How do es it feel . t down t in [PAD] a [PAD] [PAD] [PAD] the I s . t'\n",
      "ic| output_txt: 'How do es it feel . t down t in [PAD] a [PAD] [PAD] [PAD] the I s . t'\n",
      "ic| output_txt: 'How do es it feel . t down t in [PAD] a [PAD] [PAD] [PAD] the I s . t'\n",
      "ic| output_txt: 'How do es it feel . t down t in [PAD] a [PAD] [PAD] [PAD] the I s . t'\n",
      "ic| output_txt: 'How do es it feel . t down t in [PAD] a [PAD] [PAD] [PAD] the I s . t'\n",
      "ic| output_txt: 'How do es it feel . t down t in [PAD] a [PAD] [PAD] [PAD] the I s . t'\n",
      "ic| output_txt: 'How do es it feel . t down t in [PAD] a [PAD] [PAD] [PAD] the I s . t'\n",
      "ic| output_txt: 'How do es it feel . t down t in [PAD] a [PAD] [PAD] [PAD] the I s . t'\n",
      "ic| output_txt: 'How do es it feel . t down t in [PAD] a [PAD] [PAD] [PAD] the I s . t'\n",
      "ic| output_txt: 'How do es it feel . t down t in [PAD] a [PAD] [PAD] [PAD] the I s . t'\n",
      "ic| output_txt: 'How do es it feel . t down t in [PAD] a [PAD] [PAD] [PAD] the I s . t'\n",
      "ic| output_txt: 'How do es it feel . t down t in [PAD] a [PAD] [PAD] [PAD] the I s . t'\n",
      "ic| output_txt: 'How do es it feel . t down t in [PAD] a [PAD] [PAD] [PAD] the I s . t'\n",
      "ic| output_txt: 'How do es it feel . t down t in [PAD] a [PAD] [PAD] [PAD] the I s . t'\n",
      "ic| output_txt: 'How do es it feel . t down t in [PAD] a [PAD] [PAD] [PAD] the I s . t'\n",
      "ic| output_txt: 'How do es it feel . t down t in [PAD] a [PAD] [PAD] [PAD] the I s . t'\n",
      "ic| output_txt: 'How do es it feel . t down t in [PAD] a [PAD] [PAD] [PAD] the I s . t'\n",
      "ic| output_txt: 'How do es it feel . t down t in [PAD] a [PAD] [PAD] [PAD] the I s . t'\n",
      "ic| output_txt: 'How do es it feel . t down t in [PAD] a [PAD] [PAD] [PAD] the I s . t'\n",
      "ic| output_txt: 'How do es it feel . t down t in [PAD] a [PAD] [PAD] [PAD] the I s . t'\n",
      "ic| output_txt: 'How do es it feel . t down t in [PAD] a [PAD] [PAD] [PAD] the I s . t'\n",
      "ic| output_txt: 'How do es it feel . t down t in [PAD] a [PAD] [PAD] [PAD] the I s . t'\n",
      "ic| output_txt: 'How do es it feel . t down t in [PAD] a [PAD] [PAD] [PAD] the I s . t'\n",
      "ic| output_txt: 'How do es it feel . t down t in [PAD] a [PAD] [PAD] [PAD] the I s . t'\n",
      "ic| output_txt: 'How do es it feel . t down t in [PAD] a [PAD] [PAD] [PAD] the I s . t'\n",
      "ic| output_txt: 'How do es it feel . t down t in [PAD] a [PAD] [PAD] [PAD] the I s . t'\n",
      "ic| output_txt: 'How do es it feel . t down t in [PAD] a [PAD] [PAD] [PAD] the I s . t'\n",
      "ic| output_txt: 'How do es it feel . t down t in [PAD] a [PAD] [PAD] [PAD] the I s . t'\n",
      "ic| output_txt: 'How do es it feel . t down t in [PAD] a [PAD] [PAD] [PAD] the I s . t'\n",
      "ic| output_txt: 'How do es it feel . t down t in [PAD] a [PAD] [PAD] [PAD] the I s . t'\n",
      "ic| output_txt: 'How do es it feel . t down t in [PAD] a [PAD] [PAD] [PAD] the I s . t'\n",
      "ic| output_txt: 'How do es it feel . t down t in [PAD] a [PAD] [PAD] [PAD] the I s . t'\n",
      "ic| output_txt: 'How do es it feel . t down t in [PAD] a [PAD] [PAD] [PAD] the I s . t'\n",
      "ic| output_txt: 'How do es it feel . t down t in [PAD] a [PAD] [PAD] [PAD] the I s . t'\n",
      "ic| output_txt: 'How do es it feel . t down t in [PAD] a [PAD] [PAD] [PAD] the I s . t'\n",
      "ic| output_txt: 'How do es it feel . t down t in [PAD] a [PAD] [PAD] [PAD] the I s . t'\n",
      "ic| output_txt: 'How do es it feel . t down t in [PAD] a [PAD] [PAD] [PAD] the I s . t'\n",
      "ic| output_txt: 'How do es it feel . t down t in [PAD] a [PAD] [PAD] [PAD] the I s . t'\n",
      "ic| output_txt: 'How do es it feel . t down t in [PAD] a [PAD] [PAD] [PAD] the I s . t'\n",
      "ic| output_txt: 'How do es it feel . t down t in [PAD] a [PAD] [PAD] [PAD] the I s . t'\n",
      "ic| output_txt: 'How do es it feel . t down t in [PAD] a [PAD] [PAD] [PAD] the I s . t'\n",
      "ic| output_txt: 'How do es it feel . t down t in [PAD] a [PAD] [PAD] [PAD] the I s . t'\n",
      "ic| output_txt: 'How do es it feel . t down t in [PAD] a [PAD] [PAD] [PAD] the I s . t'\n",
      "ic| output_txt: 'How do es it feel . t down t in [PAD] a [PAD] [PAD] [PAD] the I s . t'\n",
      "ic| output_txt: 'How do es it feel . t down t in [PAD] a [PAD] [PAD] [PAD] the I s . t'\n",
      "ic| output_txt: 'How do es it feel . t down t in [PAD] a [PAD] [PAD] [PAD] the I s . t'\n",
      "ic| output_txt: 'How do es it feel . t down t in [PAD] a [PAD] [PAD] [PAD] the I s . t'\n",
      "ic| output_txt: 'How do es it feel . t down t in [PAD] a [PAD] [PAD] [PAD] the I s . t'\n",
      "ic| output_txt: 'How do es it feel . t down t in [PAD] a [PAD] [PAD] [PAD] the I s . t'\n",
      "ic| output_txt: 'How do es it feel . t down t in [PAD] a [PAD] [PAD] [PAD] the I s . t'\n"
     ]
    }
   ],
   "source": [
    "ic.enable()\n",
    "prompt_txt = \"How does it feel\"\n",
    "prompt = torch.Tensor(tokenizer.encode(prompt_txt, add_special_tokens=True)).unsqueeze(0).to(device)\n",
    "ic(prompt_txt)\n",
    "temperature = 0.1\n",
    "\n",
    "num_steps = 1\n",
    "\n",
    "# Handle prompt\n",
    "prompt_len = prompt.shape[1]\n",
    "\n",
    "if prompt_len >= seq_len:\n",
    "    # If prompt is longer than desired sequence, just return prompt\n",
    "    raise ValueError(\"Prompt length exceeds sequence length.\")\n",
    "\n",
    "# Start from uniform random tokens\n",
    "x = torch.randint(0, model.vocab_size, (1, seq_len), device=device)\n",
    "x[:, :prompt_len] = prompt\n",
    "\n",
    "# Create mask for which positions to generate (non-prompt positions)\n",
    "generation_mask = torch.ones(seq_len, dtype=torch.bool, device=device)\n",
    "generation_mask[:prompt_len] = False\n",
    "\n",
    "# Reverse diffusion process\n",
    "timesteps = torch.linspace(scheduler.num_timesteps - 1, 0, scheduler.num_timesteps, dtype=torch.long, device=device)\n",
    "\n",
    "model.eval()\n",
    "for i, t_val in enumerate(timesteps):\n",
    "    t = torch.full((batch_size,), t_val, device=device)\n",
    "\n",
    "    with torch.no_grad():\n",
    "        # Predict x₀\n",
    "        x0_logits = model(x, t)\n",
    "\n",
    "        if i == len(timesteps) - 1:\n",
    "            # Final step: use x₀ prediction directly\n",
    "            new_x = torch.argmax(x0_logits, dim=-1)\n",
    "        else:\n",
    "            # Sample from x₀ prediction with temperature and top-k\n",
    "            x0_probs = F.softmax(x0_logits / temperature, dim=-1)\n",
    "\n",
    "            # Sample\n",
    "            flat_probs = x0_probs.view(-1, model.vocab_size)\n",
    "            flat_samples = torch.multinomial(flat_probs, 1).squeeze(-1)\n",
    "            new_x = flat_samples.view(batch_size, seq_len)\n",
    "\n",
    "        # Only update non-prompt positions\n",
    "        x = torch.where(generation_mask.unsqueeze(0), new_x, x)\n",
    "\n",
    "        # ic(x.shape)\n",
    "        output_txt = tokenizer.decode(x[0].cpu().numpy(), skip_special_tokens=False)\n",
    "        ic(output_txt)"
   ]
  },
  {
   "cell_type": "code",
   "execution_count": 69,
   "id": "46cdb63c",
   "metadata": {},
   "outputs": [
    {
     "data": {
      "text/plain": [
       "'How do es it feel . t down t in [PAD] a [PAD] [PAD] [PAD] the I s . t'"
      ]
     },
     "execution_count": 69,
     "metadata": {},
     "output_type": "execute_result"
    }
   ],
   "source": [
    "output_txt"
   ]
  },
  {
   "cell_type": "code",
   "execution_count": null,
   "id": "6861a479",
   "metadata": {},
   "outputs": [],
   "source": []
  }
 ],
 "metadata": {
  "kernelspec": {
   "display_name": "transformer-implementations (3.12.8)",
   "language": "python",
   "name": "python3"
  },
  "language_info": {
   "codemirror_mode": {
    "name": "ipython",
    "version": 3
   },
   "file_extension": ".py",
   "mimetype": "text/x-python",
   "name": "python",
   "nbconvert_exporter": "python",
   "pygments_lexer": "ipython3",
   "version": "3.12.8"
  }
 },
 "nbformat": 4,
 "nbformat_minor": 5
}
