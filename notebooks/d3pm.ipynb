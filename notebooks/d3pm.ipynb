{
 "cells": [
  {
   "cell_type": "code",
   "execution_count": 1,
   "id": "95e60c56",
   "metadata": {},
   "outputs": [
    {
     "name": "stdout",
     "output_type": "stream",
     "text": [
      "env: TOKENIZERS_PARALLELISM=false\n",
      "env: PYTORCH_MPS_HIGH_WATERMARK_RATIO=0.0\n"
     ]
    }
   ],
   "source": [
    "# | default_exp attention\n",
    "\n",
    "%load_ext autoreload\n",
    "%autoreload 2\n",
    "\n",
    "%env TOKENIZERS_PARALLELISM=false\n",
    "%env PYTORCH_MPS_HIGH_WATERMARK_RATIO=0.0"
   ]
  },
  {
   "cell_type": "code",
   "execution_count": 2,
   "id": "b4404c3b",
   "metadata": {},
   "outputs": [],
   "source": [
    "import torch\n",
    "import torch.nn as nn\n",
    "import torch.nn.functional as F\n",
    "import numpy as np\n",
    "from torch.utils.data import Dataset, DataLoader\n",
    "import uuid\n",
    "import pandas as pd\n",
    "from tqdm.notebook import tqdm\n",
    "from torch.utils.tensorboard import SummaryWriter\n",
    "import datetime\n",
    "from icecream import ic\n",
    "import math\n",
    "from my_transformer.utils import save_model, load_model\n",
    "from transformers import AutoTokenizer\n",
    "\n",
    "from transformers import PreTrainedTokenizerFast\n",
    "from tokenizers import Tokenizer, models, trainers, pre_tokenizers, normalizers\n",
    "from tokenizers.models import BPE\n",
    "from tokenizers.trainers import BpeTrainer\n",
    "import json\n",
    "import os\n"
   ]
  },
  {
   "cell_type": "code",
   "execution_count": 3,
   "id": "868188ce",
   "metadata": {},
   "outputs": [],
   "source": [
    "if torch.backends.mps.is_available():\n",
    "    device = torch.device(\"mps\")\n",
    "elif torch.cuda.is_available():\n",
    "    device = torch.device(\"cuda\")\n",
    "else:\n",
    "    device = torch.device(\"cpu\")"
   ]
  },
  {
   "cell_type": "code",
   "execution_count": 4,
   "id": "7edbbc8d",
   "metadata": {},
   "outputs": [
    {
     "data": {
      "text/plain": [
       "(['Hard Times In New York Town',\n",
       "  'Come you ladies and you gentlemen, a-listen to my song',\n",
       "  'Sing it to you right, but you might think it’s wrong',\n",
       "  'Just a little glimpse of a story I’ll tell',\n",
       "  '’Bout an East Coast city that you all know well',\n",
       "  'It’s hard times in the city',\n",
       "  'Livin’ down in New York town',\n",
       "  'Old New York City is a friendly old town',\n",
       "  'From Washington Heights to Harlem on down',\n",
       "  'There’s a-mighty many people all millin’ all around'],\n",
       " 14318)"
      ]
     },
     "execution_count": 4,
     "metadata": {},
     "output_type": "execute_result"
    }
   ],
   "source": [
    "df = pd.read_csv(\"../dataset/bob_dylan_lyrics.csv\")\n",
    "lines = []\n",
    "nb_rows = 999999\n",
    "row_id = 0\n",
    "for r in df.iterrows():\n",
    "    # todo: one line is one sentence.\n",
    "    lines.append(r[1][\"title\"])\n",
    "    # sentences.append(r[1][\"title\"] + \"\\n\" + r[1][\"lyrics\"])\n",
    "    lyrics = r[1][\"lyrics\"].split(\"\\n\")\n",
    "    for line in lyrics:\n",
    "        if len(line.strip()) > 0:\n",
    "            lines.append(line.strip())\n",
    "        row_id += 1\n",
    "\n",
    "lines[:10], len(lines)"
   ]
  },
  {
   "cell_type": "markdown",
   "id": "db6bab58",
   "metadata": {},
   "source": [
    "# Simple Custom Tokenizer for Bob Dylan Lyrics\n",
    "\n",
    "Create a simple BPE (Byte-Pair Encoding) tokenizer trained specifically on Dylan's lyrics.\n",
    "This will:\n",
    "1. Learn Dylan's vocabulary efficiently\n",
    "2. Handle his common words and phrases better than BERT\n",
    "3. Use a smaller vocabulary size for memory efficiency"
   ]
  },
  {
   "cell_type": "code",
   "execution_count": 5,
   "id": "92266e18",
   "metadata": {},
   "outputs": [],
   "source": [
    "class SimpleDylanTokenizer:\n",
    "    def __init__(self, vocab_size=3000):\n",
    "        self.vocab_size = vocab_size\n",
    "        self.tokenizer = None\n",
    "\n",
    "    def train_tokenizer(self, corpus: list[str], save_path: str = \"./simple_dylan_tokenizer\"):\n",
    "        # Initialize simple BPE tokenizer\n",
    "        tokenizer = Tokenizer(BPE(unk_token=\"[UNK]\"))\n",
    "\n",
    "        # Simple whitespace pre-tokenization\n",
    "        tokenizer.pre_tokenizer = pre_tokenizers.Whitespace()\n",
    "\n",
    "        # Simple trainer\n",
    "        trainer = BpeTrainer(\n",
    "            vocab_size=self.vocab_size, special_tokens=[\"[PAD]\", \"[UNK]\", \"[MASK]\"], min_frequency=2, show_progress=True\n",
    "        )\n",
    "\n",
    "        # Train the tokenizer\n",
    "        tokenizer.train_from_iterator(corpus, trainer)\n",
    "\n",
    "        # Save tokenizer\n",
    "        os.makedirs(save_path, exist_ok=True)\n",
    "        tokenizer.save(f\"{save_path}/tokenizer.json\")\n",
    "\n",
    "        self.tokenizer = tokenizer\n",
    "        print(f\"Tokenizer trained and saved to {save_path}\")\n",
    "\n",
    "        return tokenizer\n",
    "\n",
    "    def load_tokenizer(self, save_path=\"./simple_dylan_tokenizer\"):\n",
    "        \"\"\"Load the trained tokenizer\"\"\"\n",
    "        tokenizer_path = f\"{save_path}/tokenizer.json\"\n",
    "        if os.path.exists(tokenizer_path):\n",
    "            self.tokenizer = Tokenizer.from_file(tokenizer_path)\n",
    "            return self.tokenizer\n",
    "        else:\n",
    "            raise FileNotFoundError(f\"Tokenizer not found at {tokenizer_path}\")\n",
    "\n",
    "    def get_transformers_tokenizer(self):\n",
    "        \"\"\"Convert to HuggingFace tokenizer for compatibility\"\"\"\n",
    "        if self.tokenizer is None:\n",
    "            raise ValueError(\"Tokenizer not trained or loaded\")\n",
    "\n",
    "        # Create fast tokenizer wrapper\n",
    "        fast_tokenizer = PreTrainedTokenizerFast(\n",
    "            tokenizer_object=self.tokenizer, pad_token=\"[PAD]\", unk_token=\"[UNK]\", mask_token=\"[MASK]\"\n",
    "        )\n",
    "\n",
    "        return fast_tokenizer"
   ]
  },
  {
   "cell_type": "code",
   "execution_count": 6,
   "id": "76920799",
   "metadata": {},
   "outputs": [
    {
     "name": "stderr",
     "output_type": "stream",
     "text": [
      "ic| len(tokenizer): 5000\n",
      "ic| tokenizer.special_tokens_map: {'mask_token': '[MASK]', 'pad_token': '[PAD]', 'unk_token': | len(tokenizer): 5000\n",
      "ic| tokenizer.special_tokens_map: {'mask_token': '[MASK]', 'pad_token': '[PAD]', 'unk_token': '[UNK]'}\n",
      "'[UNK]'}\n",
      "ic| phrase: \"The answer my friend is blowin' in the wind\"\n",
      "ic| decoded: \"The answer my friend is blowin ' in the wind\"ic| phrase: \"The answer my friend is blowin' in the wind\"\n",
      "ic| decoded: \"The answer my friend is blowin ' in the wind\"\n",
      "ic| token_strs: ['The', 'answer', 'my', 'friend', 'is', 'blowin', \"'\",\n",
      "ic| token_strs: ['The', 'answer', 'my', 'friend', 'is', 'blowin', \"'\","
     ]
    },
    {
     "name": "stdout",
     "output_type": "stream",
     "text": [
      "\n",
      "\n",
      "\n",
      "Tokenizer trained and saved to ./simple_dylan_tokenizer\n"
     ]
    },
    {
     "name": "stderr",
     "output_type": "stream",
     "text": [
      " 'in', 'the', 'wind''in', 'the', 'wind']\n",
      "]\n"
     ]
    }
   ],
   "source": [
    "# Initialize simple Dylan tokenizer\n",
    "dylan_tokenizer = SimpleDylanTokenizer(vocab_size=5000)\n",
    "\n",
    "# Train the tokenizer on Dylan lyrics\n",
    "dylan_tokenizer.train_tokenizer(corpus=lines, save_path=\"./simple_dylan_tokenizer\")\n",
    "\n",
    "# Convert to HuggingFace format for compatibility\n",
    "tokenizer = dylan_tokenizer.get_transformers_tokenizer()\n",
    "\n",
    "ic(len(tokenizer))\n",
    "ic(tokenizer.special_tokens_map)\n",
    "\n",
    "\n",
    "phrase = \"The answer my friend is blowin' in the wind\"\n",
    "\n",
    "tokens = tokenizer.encode(phrase, add_special_tokens=False)\n",
    "decoded = tokenizer.decode(tokens, skip_special_tokens=False)\n",
    "token_strs = tokenizer.convert_ids_to_tokens(tokens)\n",
    "ic(phrase)\n",
    "ic(decoded)\n",
    "ic(token_strs);\n"
   ]
  },
  {
   "cell_type": "code",
   "execution_count": 7,
   "id": "6a50552a",
   "metadata": {},
   "outputs": [
    {
     "name": "stdout",
     "output_type": "stream",
     "text": [
      "Setting up dataset with simple Dylan tokenizer...\n",
      "Max sequence length in dataset: 40\n",
      "Dataset created with 14318 examples\n",
      "Sequence length: 32\n",
      "Batch size: 8\n",
      "Tokenizer vocabulary size: 5000\n",
      "\n",
      "Sample batch shape: torch.Size([8, 32])\n",
      "Sample sequence: Well , I ’ ve been to Lon don and I ’ ve been to g ay P are e [PAD] [PAD] [PAD] [PAD] [PAD] [PAD] [PAD] [PAD] [PAD] [PAD] [PAD] [PAD]\n",
      "Max sequence length in dataset: 40\n",
      "Dataset created with 14318 examples\n",
      "Sequence length: 32\n",
      "Batch size: 8\n",
      "Tokenizer vocabulary size: 5000\n",
      "\n",
      "Sample batch shape: torch.Size([8, 32])\n",
      "Sample sequence: Well , I ’ ve been to Lon don and I ’ ve been to g ay P are e [PAD] [PAD] [PAD] [PAD] [PAD] [PAD] [PAD] [PAD] [PAD] [PAD] [PAD] [PAD]\n"
     ]
    }
   ],
   "source": [
    "# Update dataset to use simple Dylan tokenizer\n",
    "print(\"Setting up dataset with simple Dylan tokenizer...\")\n",
    "\n",
    "\n",
    "# Create simple dataset\n",
    "seq_len = 32  # Keep shorter sequences for memory efficiency\n",
    "batch_size = 8\n",
    "\n",
    "\n",
    "class SimpleDylanDataset(Dataset):\n",
    "    def __init__(self, texts, tokenizer, seq_len=128):\n",
    "        self.tokenizer = tokenizer\n",
    "        self.seq_len = seq_len\n",
    "        self.examples = []\n",
    "        max_seq_len = 0\n",
    "\n",
    "        for line in texts:\n",
    "            # Simple tokenization - no structure tokens\n",
    "            tokens = tokenizer.encode(line.strip(), add_special_tokens=False)\n",
    "            token_nb = len(tokens)\n",
    "            max_seq_len = max(max_seq_len, token_nb)\n",
    "            # Truncate if too long\n",
    "\n",
    "            if token_nb > seq_len:\n",
    "                tokens = tokens[:seq_len]\n",
    "\n",
    "            if token_nb > 0:  # Skip empty sequences\n",
    "                self.examples.append(tokens)\n",
    "        print(f\"Max sequence length in dataset: {max_seq_len}\")\n",
    "\n",
    "    def __len__(self):\n",
    "        return len(self.examples)\n",
    "\n",
    "    def __getitem__(self, idx):\n",
    "        tokens = self.examples[idx]\n",
    "        pad_id = self.tokenizer.pad_token_id if hasattr(self.tokenizer, \"pad_token_id\") else 0\n",
    "\n",
    "        # Pad to sequence length\n",
    "        padded = tokens + [pad_id] * (self.seq_len - len(tokens))\n",
    "        return torch.tensor(padded[: self.seq_len], dtype=torch.long)\n",
    "\n",
    "\n",
    "# Create dataset with selected tokenizer\n",
    "dataset = SimpleDylanDataset(lines, tokenizer, seq_len=seq_len)\n",
    "dataloader = DataLoader(dataset, batch_size=batch_size, shuffle=True)\n",
    "\n",
    "print(f\"Dataset created with {len(dataset)} examples\")\n",
    "print(f\"Sequence length: {seq_len}\")\n",
    "print(f\"Batch size: {batch_size}\")\n",
    "print(f\"Tokenizer vocabulary size: {len(tokenizer)}\")\n",
    "\n",
    "# Test the dataset\n",
    "sample_batch = next(iter(dataloader))\n",
    "print(f\"\\nSample batch shape: {sample_batch.shape}\")\n",
    "print(f\"Sample sequence: {tokenizer.decode(sample_batch[0].tolist(), skip_special_tokens=False)}\")"
   ]
  },
  {
   "cell_type": "code",
   "execution_count": 8,
   "id": "e9cab4b4",
   "metadata": {},
   "outputs": [
    {
     "name": "stdout",
     "output_type": "stream",
     "text": [
      "Tears of R age [PAD] [PAD] [PAD] [PAD] [PAD] [PAD] [PAD] [PAD] [PAD] [PAD] [PAD] [PAD] [PAD] [PAD] [PAD] [PAD] [PAD] [PAD] [PAD] [PAD] [PAD] [PAD] [PAD] [PAD] [PAD] [PAD] [PAD] [PAD]\n",
      "Tears of R age [PAD] [PAD] [PAD] [PAD] [PAD] [PAD] [PAD] [PAD] [PAD] [PAD] [PAD] [PAD] [PAD] [PAD] [PAD] [PAD] [PAD] [PAD] [PAD] [PAD] [PAD] [PAD] [PAD] [PAD] [PAD] [PAD] [PAD] [PAD]\n",
      "Tears of R bull [PAD] [PAD] few [PAD] Fris [PAD] [PAD] [PAD] dale [PAD] flies [PAD] think cook Where lone [PAD] [PAD] sw mu [PAD] [PAD] Mu [PAD] [PAD] taken [PAD] [PAD]\n",
      "Was of tin age fil rum [PAD] [PAD] Ind sess bash [PAD] lady bloody Chang [PAD] job Hen cy green [PAD] strapped answer accept [PAD] ica path Unto shock [PAD] Half sc\n"
     ]
    }
   ],
   "source": [
    "class D3pmDiffusion(nn.Module):\n",
    "    def __init__(\n",
    "        self, num_discrete_states: int, num_timesteps: int = 1000, beta_start: float = 0.0001, beta_end: float = 0.02\n",
    "    ):\n",
    "        super().__init__()\n",
    "        self.num_discrete_states = num_discrete_states\n",
    "        self.num_timesteps = num_timesteps\n",
    "\n",
    "        # More conservative beta schedule\n",
    "        self.betas = torch.linspace(beta_start, beta_end, num_timesteps)\n",
    "        self.alphas = 1.0 - self.betas\n",
    "        self.alpha_bars = torch.cumprod(self.alphas, dim=0)\n",
    "\n",
    "        # Precompute transition matrices\n",
    "        self.transition_matrices_t = nn.ParameterList()\n",
    "        self.cumulative_transition_matrices_t = nn.ParameterList()\n",
    "\n",
    "        Q_prev_cumulative = torch.eye(num_discrete_states)\n",
    "\n",
    "        for t in range(num_timesteps):\n",
    "            beta = self.betas[t].item()\n",
    "\n",
    "            # More conservative transition matrix\n",
    "            diag_prob = 1.0 - beta\n",
    "            off_diag_prob = beta / (num_discrete_states - 1) if num_discrete_states > 1 else 0.0\n",
    "\n",
    "            Q_t = torch.eye(num_discrete_states) * diag_prob\n",
    "            Q_t = (\n",
    "                Q_t\n",
    "                + (torch.ones(num_discrete_states, num_discrete_states) - torch.eye(num_discrete_states))\n",
    "                * off_diag_prob\n",
    "            )\n",
    "            Q_t = Q_t / Q_t.sum(dim=1, keepdim=True)\n",
    "\n",
    "            self.transition_matrices_t.append(nn.Parameter(Q_t, requires_grad=False))\n",
    "\n",
    "            Q_current_cumulative = torch.matmul(Q_t, Q_prev_cumulative)\n",
    "            self.cumulative_transition_matrices_t.append(nn.Parameter(Q_current_cumulative, requires_grad=False))\n",
    "            Q_prev_cumulative = Q_current_cumulative\n",
    "\n",
    "    def forward(self, x_0: torch.Tensor, t: torch.Tensor):\n",
    "        \"\"\"Forward diffusion process\"\"\"\n",
    "        original_shape = x_0.shape\n",
    "        batch_size = original_shape[0]\n",
    "        x_flat = x_0.view(batch_size, -1)\n",
    "        num_elements = x_flat.shape[1]\n",
    "\n",
    "        # Convert to one-hot encoding\n",
    "        x_one_hot = F.one_hot(x_flat, num_classes=self.num_discrete_states).float()\n",
    "\n",
    "        # Gather transition matrices for batch\n",
    "        Q_bar_t_batch = torch.stack([self.cumulative_transition_matrices_t[idx] for idx in t])\n",
    "\n",
    "        # Apply transition\n",
    "        next_state_probs = torch.bmm(x_one_hot, Q_bar_t_batch)\n",
    "\n",
    "        # Sample from categorical distribution\n",
    "        x_t = torch.multinomial(next_state_probs.view(-1, self.num_discrete_states), num_samples=1).squeeze(dim=1)\n",
    "        x_t = x_t.view(original_shape)\n",
    "\n",
    "        return x_t\n",
    "\n",
    "    def compute_loss(self, x_0: torch.Tensor, predicted_logits: torch.Tensor, t: torch.Tensor, pad_token_id: int = 0):\n",
    "        \"\"\"Compute proper D3PM loss with padding mask\"\"\"\n",
    "        batch_size, seq_len = x_0.shape\n",
    "\n",
    "        # Create padding mask\n",
    "        pad_mask = (x_0 != pad_token_id).float()  # 1 for real tokens, 0 for padding\n",
    "\n",
    "        # Compute cross-entropy loss\n",
    "        loss = F.cross_entropy(predicted_logits.view(-1, self.num_discrete_states), x_0.view(-1), reduction=\"none\")\n",
    "\n",
    "        # Apply padding mask\n",
    "        loss = loss.view(batch_size, seq_len)\n",
    "        masked_loss = loss * pad_mask\n",
    "\n",
    "        # Average over non-padded tokens\n",
    "        total_loss = masked_loss.sum() / pad_mask.sum().clamp(min=1)\n",
    "\n",
    "        return total_loss\n",
    "\n",
    "\n",
    "# Define parameters\n",
    "NUM_STATES = len(tokenizer)  # e.g., pixel values 0, 1, 2, 3\n",
    "BETA_PER_STEP = 0.2  # Probability of changing state at each step\n",
    "NUM_TIMESTEPS = 100  # Number of diffusion steps\n",
    "# Create the forward diffusion module\n",
    "forward_diffuser = D3pmDiffusion(num_discrete_states=NUM_STATES, num_timesteps=NUM_TIMESTEPS).to(device)\n",
    "inp = next(iter(dataloader)).to(device)\n",
    "\n",
    "\n",
    "def demo_noise(inp, line_nb, step):\n",
    "    src_line = tokenizer.decode(inp[line_nb].cpu().numpy())\n",
    "    noisy_inp = forward_diffuser.forward(inp[line_nb : line_nb + 1], torch.tensor([step]).to(device))\n",
    "    noisy_line = tokenizer.decode(noisy_inp[0].cpu().numpy())\n",
    "    return src_line, noisy_line\n",
    "\n",
    "\n",
    "ic.disable()\n",
    "ic.enable()\n",
    "sent_nb = 4\n",
    "print(demo_noise(inp, sent_nb, 0)[1])\n",
    "print(demo_noise(inp, sent_nb, 12)[1])\n",
    "print(demo_noise(inp, sent_nb, 60)[1])\n",
    "print(demo_noise(inp, sent_nb, 99)[1])\n"
   ]
  },
  {
   "cell_type": "code",
   "execution_count": 9,
   "id": "13a12987",
   "metadata": {},
   "outputs": [],
   "source": [
    "class TimeEmbedding(nn.Module):\n",
    "    def __init__(self, dim):\n",
    "        super().__init__()\n",
    "        self.lin = nn.Linear(dim, dim)\n",
    "\n",
    "    def forward(self, t):\n",
    "        half = self.lin.in_features // 2\n",
    "        freqs = torch.exp(-math.log(10000) * torch.arange(half, dtype=torch.float32) / half).to(t.device)\n",
    "        args = t[:, None].float() * freqs[None]\n",
    "        emb = torch.cat([torch.sin(args), torch.cos(args)], dim=-1)\n",
    "        return self.lin(emb)\n",
    "\n",
    "\n",
    "class DiffusionTransformer(nn.Module):\n",
    "    def __init__(self, vocab_size, seq_len, dim=512, heads=8, layers=6):\n",
    "        super().__init__()\n",
    "        self.token_emb = nn.Embedding(vocab_size, dim)\n",
    "        self.pos_emb = nn.Embedding(seq_len, dim)\n",
    "        self.time_emb = TimeEmbedding(dim)\n",
    "        enc_layer = nn.TransformerEncoderLayer(dim, heads, dim * 4)\n",
    "        self.transformer = nn.TransformerEncoder(enc_layer, layers)\n",
    "        self.to_logits = nn.Linear(dim, vocab_size)\n",
    "        self.seq_len = seq_len\n",
    "\n",
    "    def forward(self, x, t):\n",
    "        B, L = x.shape\n",
    "        tok = self.token_emb(x)\n",
    "        pos = self.pos_emb(torch.arange(L, device=x.device))\n",
    "        temb = self.time_emb(t).unsqueeze(1)\n",
    "        h = tok + pos + temb\n",
    "        h = self.transformer(h.transpose(0, 1)).transpose(0, 1)\n",
    "        return self.to_logits(h)"
   ]
  },
  {
   "cell_type": "code",
   "execution_count": 10,
   "id": "319bd9f1",
   "metadata": {},
   "outputs": [
    {
     "name": "stdout",
     "output_type": "stream",
     "text": [
      "Creating limited dataset with 100 records for faster setup...\n",
      "Max sequence length in dataset: 20\n"
     ]
    }
   ],
   "source": [
    "print(\"Creating limited dataset with 100 records for faster setup...\")\n",
    "\n",
    "# Take only first 100 lines for quick testing\n",
    "limited_lines = lines[:100]\n",
    "\n",
    "# Create limited dataset\n",
    "limited_dataset = SimpleDylanDataset(limited_lines, tokenizer, seq_len=seq_len)\n",
    "limited_dataloader = DataLoader(limited_dataset, batch_size=batch_size, shuffle=True)\n"
   ]
  },
  {
   "cell_type": "code",
   "execution_count": 15,
   "id": "545b5027",
   "metadata": {},
   "outputs": [
    {
     "name": "stdout",
     "output_type": "stream",
     "text": [
      "Max sequence length in dataset: 40\n"
     ]
    },
    {
     "name": "stderr",
     "output_type": "stream",
     "text": [
      "/Users/jkunz/Projects/transformer_implementations/.venv/lib/python3.12/site-packages/torch/nn/modules/transformer.py:382: UserWarning: enable_nested_tensor is True, but self.use_nested_tensor is False because encoder_layer.self_attn.batch_first was not True(use batch_first for better inference performance)\n",
      "  warnings.warn(\n"
     ]
    },
    {
     "name": "stdout",
     "output_type": "stream",
     "text": [
      "TensorBoard logs will be saved to: ../runs/d3pm_training_20250606_144338\n",
      "To view logs, run: tensorboard --logdir ../runs/d3pm_training_20250606_144338\n",
      "\n",
      "Starting enhanced training loop...\n",
      "Model parameters: 24,312,200\n"
     ]
    },
    {
     "data": {
      "application/vnd.jupyter.widget-view+json": {
       "model_id": "582540092b994a03bab6035559aa7a8b",
       "version_major": 2,
       "version_minor": 0
      },
      "text/plain": [
       "Epoch 1/30:   0%|          | 0/448 [00:00<?, ?it/s]"
      ]
     },
     "metadata": {},
     "output_type": "display_data"
    },
    {
     "name": "stdout",
     "output_type": "stream",
     "text": [
      "✓ New best model saved with loss: 4.2366\n",
      "Epoch 1/30 completed:\n",
      "  Average Loss: 4.2366\n",
      "  Learning Rate: 1.00e-04\n",
      "  Global Step: 448\n"
     ]
    },
    {
     "data": {
      "application/vnd.jupyter.widget-view+json": {
       "model_id": "39674bdb07334629b28430b0d3447ad7",
       "version_major": 2,
       "version_minor": 0
      },
      "text/plain": [
       "Epoch 2/30:   0%|          | 0/448 [00:00<?, ?it/s]"
      ]
     },
     "metadata": {},
     "output_type": "display_data"
    },
    {
     "name": "stdout",
     "output_type": "stream",
     "text": [
      "✓ New best model saved with loss: 2.8227\n",
      "Epoch 2/30 completed:\n",
      "  Average Loss: 2.8227\n",
      "  Learning Rate: 7.52e-05\n",
      "  Global Step: 896\n"
     ]
    },
    {
     "data": {
      "application/vnd.jupyter.widget-view+json": {
       "model_id": "4e92afb1845e4999bd302ddeb31cf286",
       "version_major": 2,
       "version_minor": 0
      },
      "text/plain": [
       "Epoch 3/30:   0%|          | 0/448 [00:00<?, ?it/s]"
      ]
     },
     "metadata": {},
     "output_type": "display_data"
    },
    {
     "name": "stdout",
     "output_type": "stream",
     "text": [
      "✓ New best model saved with loss: 2.4845\n",
      "Epoch 3/30 completed:\n",
      "  Average Loss: 2.4845\n",
      "  Learning Rate: 2.58e-05\n",
      "  Global Step: 1344\n"
     ]
    },
    {
     "data": {
      "application/vnd.jupyter.widget-view+json": {
       "model_id": "88ab62e557be454b850241b3d0f41b22",
       "version_major": 2,
       "version_minor": 0
      },
      "text/plain": [
       "Epoch 4/30:   0%|          | 0/448 [00:00<?, ?it/s]"
      ]
     },
     "metadata": {},
     "output_type": "display_data"
    },
    {
     "name": "stdout",
     "output_type": "stream",
     "text": [
      "✓ New best model saved with loss: 2.3223\n",
      "Epoch 4/30 completed:\n",
      "  Average Loss: 2.3223\n",
      "  Learning Rate: 1.00e-04\n",
      "  Global Step: 1792\n"
     ]
    },
    {
     "data": {
      "application/vnd.jupyter.widget-view+json": {
       "model_id": "1d3fb55259be4cad89468e865c4f9af7",
       "version_major": 2,
       "version_minor": 0
      },
      "text/plain": [
       "Epoch 5/30:   0%|          | 0/448 [00:00<?, ?it/s]"
      ]
     },
     "metadata": {},
     "output_type": "display_data"
    },
    {
     "name": "stdout",
     "output_type": "stream",
     "text": [
      "✓ New best model saved with loss: 2.1183\n",
      "Checkpoint saved: ../models/d3pm_epoch_5_2_0.pth\n",
      "Epoch 5/30 completed:\n",
      "  Average Loss: 2.1183\n",
      "  Learning Rate: 9.34e-05\n",
      "  Global Step: 2240\n",
      "Checkpoint saved: ../models/d3pm_epoch_5_2_0.pth\n",
      "Epoch 5/30 completed:\n",
      "  Average Loss: 2.1183\n",
      "  Learning Rate: 9.34e-05\n",
      "  Global Step: 2240\n"
     ]
    },
    {
     "data": {
      "application/vnd.jupyter.widget-view+json": {
       "model_id": "7af90e0b15eb4e77b91173aa2b555ae8",
       "version_major": 2,
       "version_minor": 0
      },
      "text/plain": [
       "Epoch 6/30:   0%|          | 0/448 [00:00<?, ?it/s]"
      ]
     },
     "metadata": {},
     "output_type": "display_data"
    },
    {
     "name": "stdout",
     "output_type": "stream",
     "text": [
      "✓ New best model saved with loss: 1.9824\n",
      "Epoch 6/30 completed:\n",
      "  Average Loss: 1.9824\n",
      "  Learning Rate: 7.52e-05\n",
      "  Global Step: 2688\n"
     ]
    },
    {
     "data": {
      "application/vnd.jupyter.widget-view+json": {
       "model_id": "524500a3882342da89be6a2cc8781d77",
       "version_major": 2,
       "version_minor": 0
      },
      "text/plain": [
       "Epoch 7/30:   0%|          | 0/448 [00:00<?, ?it/s]"
      ]
     },
     "metadata": {},
     "output_type": "display_data"
    },
    {
     "name": "stdout",
     "output_type": "stream",
     "text": [
      "✓ New best model saved with loss: 1.9195\n",
      "Epoch 7/30 completed:\n",
      "  Average Loss: 1.9195\n",
      "  Learning Rate: 5.05e-05\n",
      "  Global Step: 3136\n"
     ]
    },
    {
     "data": {
      "application/vnd.jupyter.widget-view+json": {
       "model_id": "5cbbfda454394a4bb8216ab80c13db40",
       "version_major": 2,
       "version_minor": 0
      },
      "text/plain": [
       "Epoch 8/30:   0%|          | 0/448 [00:00<?, ?it/s]"
      ]
     },
     "metadata": {},
     "output_type": "display_data"
    },
    {
     "name": "stdout",
     "output_type": "stream",
     "text": [
      "✓ New best model saved with loss: 1.8552\n",
      "Epoch 8/30 completed:\n",
      "  Average Loss: 1.8552\n",
      "  Learning Rate: 2.58e-05\n",
      "  Global Step: 3584\n"
     ]
    },
    {
     "data": {
      "application/vnd.jupyter.widget-view+json": {
       "model_id": "7e4e17997c994ee7bf306c497c01c3b6",
       "version_major": 2,
       "version_minor": 0
      },
      "text/plain": [
       "Epoch 9/30:   0%|          | 0/448 [00:00<?, ?it/s]"
      ]
     },
     "metadata": {},
     "output_type": "display_data"
    },
    {
     "name": "stdout",
     "output_type": "stream",
     "text": [
      "✓ New best model saved with loss: 1.8294\n",
      "Epoch 9/30 completed:\n",
      "  Average Loss: 1.8294\n",
      "  Learning Rate: 7.63e-06\n",
      "  Global Step: 4032\n"
     ]
    },
    {
     "data": {
      "application/vnd.jupyter.widget-view+json": {
       "model_id": "2f65c8e918fa4dcba6fe031d148b4d5d",
       "version_major": 2,
       "version_minor": 0
      },
      "text/plain": [
       "Epoch 10/30:   0%|          | 0/448 [00:00<?, ?it/s]"
      ]
     },
     "metadata": {},
     "output_type": "display_data"
    },
    {
     "name": "stdout",
     "output_type": "stream",
     "text": [
      "Checkpoint saved: ../models/d3pm_epoch_10_2_0.pth\n",
      "Epoch 10/30 completed:\n",
      "  Average Loss: 1.8740\n",
      "  Learning Rate: 1.00e-04\n",
      "  Global Step: 4480\n"
     ]
    },
    {
     "data": {
      "application/vnd.jupyter.widget-view+json": {
       "model_id": "ac3ccacdedd14932ac49ede49da2d2c8",
       "version_major": 2,
       "version_minor": 0
      },
      "text/plain": [
       "Epoch 11/30:   0%|          | 0/448 [00:00<?, ?it/s]"
      ]
     },
     "metadata": {},
     "output_type": "display_data"
    },
    {
     "name": "stdout",
     "output_type": "stream",
     "text": [
      "✓ New best model saved with loss: 1.8144\n",
      "Epoch 11/30 completed:\n",
      "  Average Loss: 1.8144\n",
      "  Learning Rate: 9.83e-05\n",
      "  Global Step: 4928\n"
     ]
    },
    {
     "data": {
      "application/vnd.jupyter.widget-view+json": {
       "model_id": "c90006b7030248d58c3efe41a851e155",
       "version_major": 2,
       "version_minor": 0
      },
      "text/plain": [
       "Epoch 12/30:   0%|          | 0/448 [00:00<?, ?it/s]"
      ]
     },
     "metadata": {},
     "output_type": "display_data"
    },
    {
     "name": "stdout",
     "output_type": "stream",
     "text": [
      "✓ New best model saved with loss: 1.7604\n",
      "Epoch 12/30 completed:\n",
      "  Average Loss: 1.7604\n",
      "  Learning Rate: 9.34e-05\n",
      "  Global Step: 5376\n"
     ]
    },
    {
     "data": {
      "application/vnd.jupyter.widget-view+json": {
       "model_id": "7d75522dd32c469d855c8174e152aa9c",
       "version_major": 2,
       "version_minor": 0
      },
      "text/plain": [
       "Epoch 13/30:   0%|          | 0/448 [00:00<?, ?it/s]"
      ]
     },
     "metadata": {},
     "output_type": "display_data"
    },
    {
     "name": "stdout",
     "output_type": "stream",
     "text": [
      "✓ New best model saved with loss: 1.6961\n",
      "Epoch 13/30 completed:\n",
      "  Average Loss: 1.6961\n",
      "  Learning Rate: 8.55e-05\n",
      "  Global Step: 5824\n"
     ]
    },
    {
     "data": {
      "application/vnd.jupyter.widget-view+json": {
       "model_id": "6e99b91b577c49fd9f0402f24208e507",
       "version_major": 2,
       "version_minor": 0
      },
      "text/plain": [
       "Epoch 14/30:   0%|          | 0/448 [00:00<?, ?it/s]"
      ]
     },
     "metadata": {},
     "output_type": "display_data"
    },
    {
     "name": "stdout",
     "output_type": "stream",
     "text": [
      "✓ New best model saved with loss: 1.6602\n",
      "Epoch 14/30 completed:\n",
      "  Average Loss: 1.6602\n",
      "  Learning Rate: 7.52e-05\n",
      "  Global Step: 6272\n"
     ]
    },
    {
     "data": {
      "application/vnd.jupyter.widget-view+json": {
       "model_id": "a6ba50963ca14e518256f46501378d76",
       "version_major": 2,
       "version_minor": 0
      },
      "text/plain": [
       "Epoch 15/30:   0%|          | 0/448 [00:00<?, ?it/s]"
      ]
     },
     "metadata": {},
     "output_type": "display_data"
    },
    {
     "name": "stdout",
     "output_type": "stream",
     "text": [
      "✓ New best model saved with loss: 1.6298\n",
      "Checkpoint saved: ../models/d3pm_epoch_15_2_0.pth\n",
      "Epoch 15/30 completed:\n",
      "  Average Loss: 1.6298\n",
      "  Learning Rate: 6.33e-05\n",
      "  Global Step: 6720\n",
      "Checkpoint saved: ../models/d3pm_epoch_15_2_0.pth\n",
      "Epoch 15/30 completed:\n",
      "  Average Loss: 1.6298\n",
      "  Learning Rate: 6.33e-05\n",
      "  Global Step: 6720\n"
     ]
    },
    {
     "data": {
      "application/vnd.jupyter.widget-view+json": {
       "model_id": "d8ac2a8ff3f0435d93c202dd8c1884f3",
       "version_major": 2,
       "version_minor": 0
      },
      "text/plain": [
       "Epoch 16/30:   0%|          | 0/448 [00:00<?, ?it/s]"
      ]
     },
     "metadata": {},
     "output_type": "display_data"
    },
    {
     "name": "stdout",
     "output_type": "stream",
     "text": [
      "✓ New best model saved with loss: 1.6047\n",
      "Epoch 16/30 completed:\n",
      "  Average Loss: 1.6047\n",
      "  Learning Rate: 5.05e-05\n",
      "  Global Step: 7168\n"
     ]
    },
    {
     "data": {
      "application/vnd.jupyter.widget-view+json": {
       "model_id": "affce6dcfd2e49ddb23819bddfd8c304",
       "version_major": 2,
       "version_minor": 0
      },
      "text/plain": [
       "Epoch 17/30:   0%|          | 0/448 [00:00<?, ?it/s]"
      ]
     },
     "metadata": {},
     "output_type": "display_data"
    },
    {
     "name": "stdout",
     "output_type": "stream",
     "text": [
      "✓ New best model saved with loss: 1.5935\n",
      "Epoch 17/30 completed:\n",
      "  Average Loss: 1.5935\n",
      "  Learning Rate: 3.77e-05\n",
      "  Global Step: 7616\n"
     ]
    },
    {
     "data": {
      "application/vnd.jupyter.widget-view+json": {
       "model_id": "4185ec7e8ae44db6b2b780a565de2aba",
       "version_major": 2,
       "version_minor": 0
      },
      "text/plain": [
       "Epoch 18/30:   0%|          | 0/448 [00:00<?, ?it/s]"
      ]
     },
     "metadata": {},
     "output_type": "display_data"
    },
    {
     "name": "stdout",
     "output_type": "stream",
     "text": [
      "✓ New best model saved with loss: 1.5546\n",
      "Epoch 18/30 completed:\n",
      "  Average Loss: 1.5546\n",
      "  Learning Rate: 2.58e-05\n",
      "  Global Step: 8064\n"
     ]
    },
    {
     "data": {
      "application/vnd.jupyter.widget-view+json": {
       "model_id": "fea58c45bf1f4d09a8d6173cdb994f86",
       "version_major": 2,
       "version_minor": 0
      },
      "text/plain": [
       "Epoch 19/30:   0%|          | 0/448 [00:00<?, ?it/s]"
      ]
     },
     "metadata": {},
     "output_type": "display_data"
    },
    {
     "name": "stdout",
     "output_type": "stream",
     "text": [
      "✓ New best model saved with loss: 1.5416\n",
      "Epoch 19/30 completed:\n",
      "  Average Loss: 1.5416\n",
      "  Learning Rate: 1.55e-05\n",
      "  Global Step: 8512\n"
     ]
    },
    {
     "data": {
      "application/vnd.jupyter.widget-view+json": {
       "model_id": "39516f0c4da9475d843a8b4e6b0adf7c",
       "version_major": 2,
       "version_minor": 0
      },
      "text/plain": [
       "Epoch 20/30:   0%|          | 0/448 [00:00<?, ?it/s]"
      ]
     },
     "metadata": {},
     "output_type": "display_data"
    },
    {
     "name": "stdout",
     "output_type": "stream",
     "text": [
      "✓ New best model saved with loss: 1.5384\n",
      "Checkpoint saved: ../models/d3pm_epoch_20_2_0.pth\n",
      "Epoch 20/30 completed:\n",
      "  Average Loss: 1.5384\n",
      "  Learning Rate: 7.63e-06\n",
      "  Global Step: 8960\n",
      "Checkpoint saved: ../models/d3pm_epoch_20_2_0.pth\n",
      "Epoch 20/30 completed:\n",
      "  Average Loss: 1.5384\n",
      "  Learning Rate: 7.63e-06\n",
      "  Global Step: 8960\n"
     ]
    },
    {
     "data": {
      "application/vnd.jupyter.widget-view+json": {
       "model_id": "07821a973be84acf9f678a9c77d98565",
       "version_major": 2,
       "version_minor": 0
      },
      "text/plain": [
       "Epoch 21/30:   0%|          | 0/448 [00:00<?, ?it/s]"
      ]
     },
     "metadata": {},
     "output_type": "display_data"
    },
    {
     "name": "stdout",
     "output_type": "stream",
     "text": [
      "✓ New best model saved with loss: 1.5207\n",
      "Epoch 21/30 completed:\n",
      "  Average Loss: 1.5207\n",
      "  Learning Rate: 2.69e-06\n",
      "  Global Step: 9408\n"
     ]
    },
    {
     "data": {
      "application/vnd.jupyter.widget-view+json": {
       "model_id": "c8c8c94fa189416fbe50b47bd3919910",
       "version_major": 2,
       "version_minor": 0
      },
      "text/plain": [
       "Epoch 22/30:   0%|          | 0/448 [00:00<?, ?it/s]"
      ]
     },
     "metadata": {},
     "output_type": "display_data"
    },
    {
     "name": "stdout",
     "output_type": "stream",
     "text": [
      "Epoch 22/30 completed:\n",
      "  Average Loss: 1.5937\n",
      "  Learning Rate: 1.00e-04\n",
      "  Global Step: 9856\n"
     ]
    },
    {
     "data": {
      "application/vnd.jupyter.widget-view+json": {
       "model_id": "7b93611328f14d77a6c00d7fba8ec0a6",
       "version_major": 2,
       "version_minor": 0
      },
      "text/plain": [
       "Epoch 23/30:   0%|          | 0/448 [00:00<?, ?it/s]"
      ]
     },
     "metadata": {},
     "output_type": "display_data"
    },
    {
     "name": "stdout",
     "output_type": "stream",
     "text": [
      "Epoch 23/30 completed:\n",
      "  Average Loss: 1.5890\n",
      "  Learning Rate: 9.96e-05\n",
      "  Global Step: 10304\n"
     ]
    },
    {
     "data": {
      "application/vnd.jupyter.widget-view+json": {
       "model_id": "91b9eb6669b04afebcad40514acfad18",
       "version_major": 2,
       "version_minor": 0
      },
      "text/plain": [
       "Epoch 24/30:   0%|          | 0/448 [00:00<?, ?it/s]"
      ]
     },
     "metadata": {},
     "output_type": "display_data"
    },
    {
     "name": "stdout",
     "output_type": "stream",
     "text": [
      "Epoch 24/30 completed:\n",
      "  Average Loss: 1.5591\n",
      "  Learning Rate: 9.83e-05\n",
      "  Global Step: 10752\n"
     ]
    },
    {
     "data": {
      "application/vnd.jupyter.widget-view+json": {
       "model_id": "ccd10ff4043f47b8930f58d3ee4e1146",
       "version_major": 2,
       "version_minor": 0
      },
      "text/plain": [
       "Epoch 25/30:   0%|          | 0/448 [00:00<?, ?it/s]"
      ]
     },
     "metadata": {},
     "output_type": "display_data"
    },
    {
     "name": "stdout",
     "output_type": "stream",
     "text": [
      "Checkpoint saved: ../models/d3pm_epoch_25_2_0.pth\n",
      "Epoch 25/30 completed:\n",
      "  Average Loss: 1.5331\n",
      "  Learning Rate: 9.62e-05\n",
      "  Global Step: 11200\n"
     ]
    },
    {
     "data": {
      "application/vnd.jupyter.widget-view+json": {
       "model_id": "c439b9f8e7554a99b4042328b33d6071",
       "version_major": 2,
       "version_minor": 0
      },
      "text/plain": [
       "Epoch 26/30:   0%|          | 0/448 [00:00<?, ?it/s]"
      ]
     },
     "metadata": {},
     "output_type": "display_data"
    },
    {
     "name": "stdout",
     "output_type": "stream",
     "text": [
      "✓ New best model saved with loss: 1.4861\n",
      "Epoch 26/30 completed:\n",
      "  Average Loss: 1.4861\n",
      "  Learning Rate: 9.34e-05\n",
      "  Global Step: 11648\n"
     ]
    },
    {
     "data": {
      "application/vnd.jupyter.widget-view+json": {
       "model_id": "113152ab61a542b7b5970034647838e3",
       "version_major": 2,
       "version_minor": 0
      },
      "text/plain": [
       "Epoch 27/30:   0%|          | 0/448 [00:00<?, ?it/s]"
      ]
     },
     "metadata": {},
     "output_type": "display_data"
    },
    {
     "name": "stdout",
     "output_type": "stream",
     "text": [
      "✓ New best model saved with loss: 1.4656\n",
      "Epoch 27/30 completed:\n",
      "  Average Loss: 1.4656\n",
      "  Learning Rate: 8.98e-05\n",
      "  Global Step: 12096\n"
     ]
    },
    {
     "data": {
      "application/vnd.jupyter.widget-view+json": {
       "model_id": "f3b27abf05f345ccbeea4c297a97f015",
       "version_major": 2,
       "version_minor": 0
      },
      "text/plain": [
       "Epoch 28/30:   0%|          | 0/448 [00:00<?, ?it/s]"
      ]
     },
     "metadata": {},
     "output_type": "display_data"
    },
    {
     "name": "stdout",
     "output_type": "stream",
     "text": [
      "✓ New best model saved with loss: 1.4303\n",
      "Epoch 28/30 completed:\n",
      "  Average Loss: 1.4303\n",
      "  Learning Rate: 8.55e-05\n",
      "  Global Step: 12544\n"
     ]
    },
    {
     "data": {
      "application/vnd.jupyter.widget-view+json": {
       "model_id": "178b0b8b53fc446f9575420cf0a1b8b1",
       "version_major": 2,
       "version_minor": 0
      },
      "text/plain": [
       "Epoch 29/30:   0%|          | 0/448 [00:00<?, ?it/s]"
      ]
     },
     "metadata": {},
     "output_type": "display_data"
    },
    {
     "name": "stdout",
     "output_type": "stream",
     "text": [
      "Epoch 29/30 completed:\n",
      "  Average Loss: 1.4388\n",
      "  Learning Rate: 8.06e-05\n",
      "  Global Step: 12992\n"
     ]
    },
    {
     "data": {
      "application/vnd.jupyter.widget-view+json": {
       "model_id": "738887766247497d9e488e08703edcd6",
       "version_major": 2,
       "version_minor": 0
      },
      "text/plain": [
       "Epoch 30/30:   0%|          | 0/448 [00:00<?, ?it/s]"
      ]
     },
     "metadata": {},
     "output_type": "display_data"
    },
    {
     "name": "stdout",
     "output_type": "stream",
     "text": [
      "✓ New best model saved with loss: 1.4094\n",
      "Checkpoint saved: ../models/d3pm_epoch_30_2_0.pth\n",
      "Epoch 30/30 completed:\n",
      "  Average Loss: 1.4094\n",
      "  Learning Rate: 7.52e-05\n",
      "  Global Step: 13440\n",
      "Checkpoint saved: ../models/d3pm_epoch_30_2_0.pth\n",
      "Epoch 30/30 completed:\n",
      "  Average Loss: 1.4094\n",
      "  Learning Rate: 7.52e-05\n",
      "  Global Step: 13440\n",
      "\n",
      "Training complete!\n",
      "Final model saved: ../models/d3pm_final_2_0.pth\n",
      "Best loss achieved: 1.4094\n",
      "Total training steps: 13440\n",
      "TensorBoard logs: ../runs/d3pm_training_20250606_144338\n",
      "\n",
      "Training complete!\n",
      "Final model saved: ../models/d3pm_final_2_0.pth\n",
      "Best loss achieved: 1.4094\n",
      "Total training steps: 13440\n",
      "TensorBoard logs: ../runs/d3pm_training_20250606_144338\n"
     ]
    },
    {
     "data": {
      "image/png": "[encoded data removed]",
      "text/plain": [
       "<Figure size 1200x400 with 2 Axes>"
      ]
     },
     "metadata": {},
     "output_type": "display_data"
    }
   ],
   "source": [
    "import datetime\n",
    "from torch.utils.tensorboard import SummaryWriter\n",
    "from torch.optim.lr_scheduler import CosineAnnealingWarmRestarts, ReduceLROnPlateau\n",
    "import os\n",
    "\n",
    "# Hyperparameters\n",
    "seq_len = 20\n",
    "batch_size = 32\n",
    "num_epochs = 30\n",
    "learning_rate = 1e-4\n",
    "weight_decay = 1e-5  # Added weight decay\n",
    "vocab_size = tokenizer.vocab_size\n",
    "num_timesteps = 100\n",
    "\n",
    "# Create dataset and dataloader\n",
    "dataset = SimpleDylanDataset(lines, tokenizer, seq_len=seq_len)\n",
    "dataloader = DataLoader(dataset, batch_size=batch_size, shuffle=True)\n",
    "\n",
    "# Instantiate models\n",
    "diffuser = D3pmDiffusion(num_discrete_states=vocab_size, num_timesteps=num_timesteps).to(device)\n",
    "model = DiffusionTransformer(vocab_size=vocab_size, seq_len=seq_len).to(device)\n",
    "\n",
    "# Enhanced optimizer with weight decay\n",
    "optimizer = torch.optim.AdamW(model.parameters(), lr=learning_rate, weight_decay=weight_decay)\n",
    "\n",
    "# Adaptive learning rate scheduler\n",
    "scheduler = CosineAnnealingWarmRestarts(optimizer, T_0=3, T_mult=2, eta_min=1e-6)\n",
    "# Alternative: ReduceLROnPlateau for validation-based scheduling\n",
    "# scheduler = ReduceLROnPlateau(optimizer, mode='min', factor=0.5, patience=2, verbose=True)\n",
    "\n",
    "# TensorBoard setup\n",
    "timestamp = datetime.datetime.now().strftime(\"%Y%m%d_%H%M%S\")\n",
    "log_dir = f\"../runs/d3pm_training_{timestamp}\"\n",
    "os.makedirs(log_dir, exist_ok=True)\n",
    "writer = SummaryWriter(log_dir=log_dir)\n",
    "\n",
    "print(f\"TensorBoard logs will be saved to: {log_dir}\")\n",
    "print(f\"To view logs, run: tensorboard --logdir {log_dir}\")\n",
    "\n",
    "# Loss function\n",
    "criterion = nn.CrossEntropyLoss(ignore_index=tokenizer.pad_token_id)\n",
    "\n",
    "model_name = \"d3pm\"\n",
    "version = \"2_0\"  # Updated version with enhancements\n",
    "do_train = True\n",
    "\n",
    "if do_train:\n",
    "    print(\"\\nStarting enhanced training loop...\")\n",
    "    print(f\"Model parameters: {sum(p.numel() for p in model.parameters()):,}\")\n",
    "\n",
    "    global_step = 0\n",
    "    best_loss = float(\"inf\")\n",
    "\n",
    "    # Training metrics tracking\n",
    "    train_losses = []\n",
    "    learning_rates = []\n",
    "\n",
    "    for epoch in range(num_epochs):\n",
    "        model.train()\n",
    "        epoch_loss = 0\n",
    "        num_batches = 0\n",
    "\n",
    "        # Progress bar for batches\n",
    "        pbar = tqdm(dataloader, desc=f\"Epoch {epoch + 1}/{num_epochs}\")\n",
    "\n",
    "        for batch_idx, batch_x_0 in enumerate(pbar):\n",
    "            batch_x_0 = batch_x_0.to(device)\n",
    "            batch_size_actual = batch_x_0.shape[0]\n",
    "\n",
    "            # Sample random timesteps\n",
    "            timesteps = torch.randint(0, num_timesteps, (batch_size_actual,), device=device)\n",
    "\n",
    "            # Forward diffusion process\n",
    "            x_t = diffuser(batch_x_0, timesteps)\n",
    "\n",
    "            # Model prediction\n",
    "            predicted_logits = model(x_t, timesteps)\n",
    "\n",
    "            # Compute loss\n",
    "            # loss = criterion(predicted_logits.view(-1, vocab_size), batch_x_0.view(-1))\n",
    "            loss = diffuser.compute_loss(batch_x_0, predicted_logits, timesteps, pad_token_id=tokenizer.pad_token_id)\n",
    "\n",
    "            # Backpropagation\n",
    "            optimizer.zero_grad()\n",
    "            loss.backward()\n",
    "\n",
    "            # Gradient clipping for stability\n",
    "            torch.nn.utils.clip_grad_norm_(model.parameters(), max_norm=1.0)\n",
    "\n",
    "            optimizer.step()\n",
    "\n",
    "            # Update metrics\n",
    "            epoch_loss += loss.item()\n",
    "            num_batches += 1\n",
    "            global_step += 1\n",
    "\n",
    "            # Get current learning rate\n",
    "            current_lr = optimizer.param_groups[0][\"lr\"]\n",
    "\n",
    "            # Log to TensorBoard (every 10 steps to avoid too much logging)\n",
    "            if global_step % 10 == 0:\n",
    "                writer.add_scalar(\"Loss/Batch\", loss.item(), global_step)\n",
    "                writer.add_scalar(\"Learning_Rate\", current_lr, global_step)\n",
    "                writer.add_scalar(\n",
    "                    \"Gradient_Norm\",\n",
    "                    torch.nn.utils.clip_grad_norm_(model.parameters(), max_norm=float(\"inf\")),\n",
    "                    global_step,\n",
    "                )\n",
    "\n",
    "            # Update progress bar\n",
    "            pbar.set_postfix({\"Loss\": f\"{loss.item():.4f}\", \"LR\": f\"{current_lr:.2e}\", \"Step\": global_step})\n",
    "\n",
    "            # Memory cleanup\n",
    "            if batch_idx % 20 == 0:\n",
    "                if torch.cuda.is_available():\n",
    "                    torch.cuda.empty_cache()\n",
    "                elif torch.backends.mps.is_available():\n",
    "                    torch.mps.empty_cache()\n",
    "\n",
    "        # Calculate epoch metrics\n",
    "        avg_epoch_loss = epoch_loss / num_batches\n",
    "        current_lr = optimizer.param_groups[0][\"lr\"]\n",
    "\n",
    "        # Update learning rate scheduler\n",
    "        scheduler.step()\n",
    "        # For ReduceLROnPlateau, use: scheduler.step(avg_epoch_loss)\n",
    "\n",
    "        # Log epoch metrics to TensorBoard\n",
    "        writer.add_scalar(\"Loss/Epoch\", avg_epoch_loss, epoch)\n",
    "        writer.add_scalar(\"Learning_Rate/Epoch\", current_lr, epoch)\n",
    "\n",
    "        # Log model parameters histogram every few epochs\n",
    "        if epoch % 5 == 0:\n",
    "            for name, param in model.named_parameters():\n",
    "                if param.requires_grad:\n",
    "                    writer.add_histogram(f\"Parameters/{name}\", param.data, epoch)\n",
    "                    if param.grad is not None:\n",
    "                        writer.add_histogram(f\"Gradients/{name}\", param.grad.data, epoch)\n",
    "\n",
    "        # Save best model\n",
    "        if avg_epoch_loss < best_loss:\n",
    "            best_loss = avg_epoch_loss\n",
    "            best_model_path = f\"../models/{model_name}_best_{version}.pth\"\n",
    "            torch.save(\n",
    "                {\n",
    "                    \"epoch\": epoch,\n",
    "                    \"model_state_dict\": model.state_dict(),\n",
    "                    \"optimizer_state_dict\": optimizer.state_dict(),\n",
    "                    \"scheduler_state_dict\": scheduler.state_dict(),\n",
    "                    \"loss\": best_loss,\n",
    "                    \"global_step\": global_step,\n",
    "                },\n",
    "                best_model_path,\n",
    "            )\n",
    "            print(f\"✓ New best model saved with loss: {best_loss:.4f}\")\n",
    "\n",
    "        # Regular checkpoint saving\n",
    "        if (epoch + 1) % 5 == 0:\n",
    "            checkpoint_path = f\"../models/{model_name}_epoch_{epoch + 1}_{version}.pth\"\n",
    "            torch.save(\n",
    "                {\n",
    "                    \"epoch\": epoch,\n",
    "                    \"model_state_dict\": model.state_dict(),\n",
    "                    \"optimizer_state_dict\": optimizer.state_dict(),\n",
    "                    \"scheduler_state_dict\": scheduler.state_dict(),\n",
    "                    \"loss\": avg_epoch_loss,\n",
    "                    \"global_step\": global_step,\n",
    "                },\n",
    "                checkpoint_path,\n",
    "            )\n",
    "            print(f\"Checkpoint saved: {checkpoint_path}\")\n",
    "\n",
    "        # Store metrics for plotting\n",
    "        train_losses.append(avg_epoch_loss)\n",
    "        learning_rates.append(current_lr)\n",
    "\n",
    "        print(f\"Epoch {epoch + 1}/{num_epochs} completed:\")\n",
    "        print(f\"  Average Loss: {avg_epoch_loss:.4f}\")\n",
    "        print(f\"  Learning Rate: {current_lr:.2e}\")\n",
    "        print(f\"  Global Step: {global_step}\")\n",
    "\n",
    "    # Final model save\n",
    "    final_model_path = f\"../models/{model_name}_final_{version}.pth\"\n",
    "    torch.save(\n",
    "        {\n",
    "            \"epoch\": num_epochs,\n",
    "            \"model_state_dict\": model.state_dict(),\n",
    "            \"optimizer_state_dict\": optimizer.state_dict(),\n",
    "            \"scheduler_state_dict\": scheduler.state_dict(),\n",
    "            \"loss\": avg_epoch_loss,\n",
    "            \"global_step\": global_step,\n",
    "            \"train_losses\": train_losses,\n",
    "            \"learning_rates\": learning_rates,\n",
    "        },\n",
    "        final_model_path,\n",
    "    )\n",
    "\n",
    "    print(f\"\\nTraining complete!\")\n",
    "    print(f\"Final model saved: {final_model_path}\")\n",
    "    print(f\"Best loss achieved: {best_loss:.4f}\")\n",
    "    print(f\"Total training steps: {global_step}\")\n",
    "    print(f\"TensorBoard logs: {log_dir}\")\n",
    "\n",
    "    # Close TensorBoard writer\n",
    "    writer.close()\n",
    "\n",
    "    # Plot training curves\n",
    "    import matplotlib.pyplot as plt\n",
    "\n",
    "    fig, (ax1, ax2) = plt.subplots(1, 2, figsize=(12, 4))\n",
    "\n",
    "    # Loss curve\n",
    "    ax1.plot(train_losses)\n",
    "    ax1.set_title(\"Training Loss\")\n",
    "    ax1.set_xlabel(\"Epoch\")\n",
    "    ax1.set_ylabel(\"Loss\")\n",
    "    ax1.grid(True)\n",
    "\n",
    "    # Learning rate curve\n",
    "    ax2.plot(learning_rates)\n",
    "    ax2.set_title(\"Learning Rate Schedule\")\n",
    "    ax2.set_xlabel(\"Epoch\")\n",
    "    ax2.set_ylabel(\"Learning Rate\")\n",
    "    ax2.set_yscale(\"log\")\n",
    "    ax2.grid(True)\n",
    "\n",
    "    plt.tight_layout()\n",
    "    os.makedirs(\"../plots\", exist_ok=True)\n",
    "    plt.savefig(f\"../plots/training_curves_{timestamp}.png\", dpi=150, bbox_inches=\"tight\")\n",
    "    plt.show()\n",
    "\n",
    "else:\n",
    "    # Load existing model\n",
    "    model_path = f\"../models/{model_name}_best_{version}.pth\"\n",
    "    if os.path.exists(model_path):\n",
    "        checkpoint = torch.load(model_path, map_location=device)\n",
    "        model.load_state_dict(checkpoint[\"model_state_dict\"])\n",
    "        print(f\"Loaded model from {model_path}\")\n",
    "    else:\n",
    "        print(f\"Model file not found: {model_path}\")\n"
   ]
  },
  {
   "cell_type": "code",
   "execution_count": 18,
   "id": "2683f047",
   "metadata": {},
   "outputs": [
    {
     "name": "stdout",
     "output_type": "stream",
     "text": [
      "Prompt: \"how many roads\"\n",
      "Initial noisy sequence:\n",
      "how many roads Moon reek wine Seven attered pump Said ves mitting bout ces plain though gun aband zed pain\n"
     ]
    },
    {
     "data": {
      "application/vnd.jupyter.widget-view+json": {
       "model_id": "48e8ab4de2cb400ea9628fabf3d98b07",
       "version_major": 2,
       "version_minor": 0
      },
      "text/plain": [
       "Denoising with prompt:   0%|          | 0/100 [00:00<?, ?it/s]"
      ]
     },
     "metadata": {},
     "output_type": "display_data"
    },
    {
     "name": "stdout",
     "output_type": "stream",
     "text": [
      "  Step 100: how many roads , , wine , , pump the ’ you bout the plain though gun the the pain\n",
      "  Step 80: how many roads , , baby , , pump the ’ you bout the plain though of the the pain\n",
      "  Step 80: how many roads , , baby , , pump the ’ you bout the plain though of the the pain\n",
      "  Step 60: how many roads , , baby , , pump the ’ you bout the plain though of the the pain\n",
      "  Step 60: how many roads , , baby , , pump the ’ you bout the plain though of the the pain\n",
      "  Step 40: how many roads , , baby , , pump the ’ you bout the plain though of the the pain\n",
      "  Step 40: how many roads , , baby , , pump the ’ you bout the plain though of the the pain\n",
      "  Step 20: how many roads , , baby , , pump the ’ you bout the plain though of the the pain\n",
      "\n",
      "Final generated text:\n",
      "how many roads , , baby , , pump the ’ you bout the plain though of the the pain\n",
      "  Step 20: how many roads , , baby , , pump the ’ you bout the plain though of the the pain\n",
      "\n",
      "Final generated text:\n",
      "how many roads , , baby , , pump the ’ you bout the plain though of the the pain\n"
     ]
    }
   ],
   "source": [
    "model.eval()\n",
    "with torch.no_grad():\n",
    "    input_prompt_text = \"the answer is\"  # Try different prompts\n",
    "    input_prompt_text = \"how many roads\"\n",
    "    # input_prompt_text = \"like a rolling\"\n",
    "\n",
    "    prompt_tokens = tokenizer.encode(input_prompt_text, add_special_tokens=False)\n",
    "    prompt_len = len(prompt_tokens)\n",
    "\n",
    "    if prompt_len >= seq_len:\n",
    "        raise ValueError(\n",
    "            f\"Prompt length ({prompt_len}) exceeds sequence length ({seq_len}). Please shorten the prompt.\"\n",
    "        )\n",
    "\n",
    "    initial_sequence = torch.full((1, seq_len), tokenizer.pad_token_id, dtype=torch.long, device=device)\n",
    "\n",
    "    initial_sequence[0, :prompt_len] = torch.tensor(prompt_tokens, dtype=torch.long, device=device)\n",
    "\n",
    "    # Fill the rest with random tokens (pure noise for the parts to be completed)\n",
    "    rand_tokens = torch.randint(low=0, high=vocab_size, size=(1, seq_len - prompt_len), device=device)\n",
    "    if tokenizer.pad_token_id != -1:  # Assuming -1 means no specific pad_token_id\n",
    "        rand_tokens[rand_tokens == tokenizer.pad_token_id] = tokenizer.unk_token_id\n",
    "\n",
    "    initial_sequence[0, prompt_len:] = rand_tokens[0]\n",
    "\n",
    "    print(f'Prompt: \"{input_prompt_text}\"')\n",
    "    print(f\"Initial noisy sequence:\\n{tokenizer.decode(initial_sequence[0].cpu().tolist())}\")\n",
    "\n",
    "    current_x = initial_sequence.clone()\n",
    "    # The actual denoising loop should go from T down to 1\n",
    "    inference_steps = num_timesteps  # Max T is num_timesteps (from 1 to num_timesteps)\n",
    "\n",
    "    for t_idx in tqdm(range(inference_steps, 0, -1), desc=\"Denoising with prompt\"):\n",
    "        t_tensor = torch.tensor([t_idx], dtype=torch.long, device=device)\n",
    "\n",
    "        # Model predicts logits for x_0 given current_x and t\n",
    "        predicted_logits_x0 = model(current_x, t_tensor)\n",
    "        predicted_probs_x0 = F.softmax(predicted_logits_x0, dim=-1)\n",
    "\n",
    "        # could use top-k sampling or temperature.\n",
    "        next_x_sampled = torch.argmax(predicted_probs_x0, dim=-1)  # (1, seq_len)\n",
    "\n",
    "        # Keep the prompt tokens unchanged\n",
    "        next_x_sampled[0, :prompt_len] = initial_sequence[0, :prompt_len]\n",
    "\n",
    "        current_x = next_x_sampled\n",
    "\n",
    "        # Print intermediate results for a few steps\n",
    "        if t_idx % (inference_steps // 5) == 0:\n",
    "            print(f\"  Step {t_idx}: {tokenizer.decode(current_x[0].cpu().tolist())}\")\n",
    "\n",
    "    final_generated_text = tokenizer.decode(current_x[0].cpu().tolist())\n",
    "    print(f\"\\nFinal generated text:\\n{final_generated_text}\")\n"
   ]
  },
  {
   "cell_type": "code",
   "execution_count": null,
   "id": "e2ccfc46",
   "metadata": {},
   "outputs": [],
   "source": []
  },
  {
   "cell_type": "code",
   "execution_count": null,
   "id": "8b14bb3e",
   "metadata": {},
   "outputs": [],
   "source": []
  },
  {
   "cell_type": "code",
   "execution_count": null,
   "id": "a93dace5",
   "metadata": {},
   "outputs": [],
   "source": []
  },
  {
   "cell_type": "code",
   "execution_count": null,
   "id": "0b17ac9d",
   "metadata": {},
   "outputs": [],
   "source": [
    "# Create a limited dataset with only 100 records for system setup\n"
   ]
  },
  {
   "cell_type": "markdown",
   "id": "543652a3",
   "metadata": {},
   "source": [
    "# Improved D3PM Implementation\n",
    "\n",
    "Based on the analysis of the training issues, here are the key improvements:\n",
    "\n",
    "1. **Larger vocabulary size** (5000 tokens) for better expressiveness\n",
    "2. **Longer sequences** (64 tokens) to capture more meaningful patterns\n",
    "3. **Better diffusion schedule** with lower beta values\n",
    "4. **Improved model architecture** with larger dimensions\n",
    "5. **Proper D3PM loss formulation**\n",
    "6. **Better learning rate schedule**\n",
    "7. **Validation set** for monitoring overfitting"
   ]
  },
  {
   "cell_type": "code",
   "execution_count": null,
   "id": "fae060e6",
   "metadata": {},
   "outputs": [],
   "source": [
    "# Improved tokenizer with larger vocabulary\n",
    "print(\"Creating improved tokenizer with larger vocabulary...\")\n",
    "\n",
    "# Initialize Dylan tokenizer with larger vocabulary\n",
    "improved_tokenizer = SimpleDylanTokenizer(vocab_size=5000)\n",
    "\n",
    "# Train the tokenizer on Dylan lyrics\n",
    "improved_tokenizer.train_tokenizer(corpus=lines, save_path=\"./improved_dylan_tokenizer\")\n",
    "\n",
    "# Convert to HuggingFace format\n",
    "improved_hf_tokenizer = improved_tokenizer.get_transformers_tokenizer()\n",
    "\n",
    "print(f\"Improved tokenizer vocabulary size: {len(improved_hf_tokenizer)}\")\n",
    "print(f\"Special tokens: {improved_hf_tokenizer.special_tokens_map}\")\n",
    "\n",
    "# Test the improved tokenizer\n",
    "phrase = \"The answer my friend is blowin' in the wind\"\n",
    "tokens = improved_hf_tokenizer.encode(phrase, add_special_tokens=False)\n",
    "decoded = improved_hf_tokenizer.decode(tokens, skip_special_tokens=False)\n",
    "token_strs = improved_hf_tokenizer.convert_ids_to_tokens(tokens)\n",
    "\n",
    "print(f\"Original: {phrase}\")\n",
    "print(f\"Decoded: {decoded}\")\n",
    "print(f\"Tokens: {token_strs}\")\n",
    "print(f\"Number of tokens: {len(tokens)}\")"
   ]
  },
  {
   "cell_type": "code",
   "execution_count": null,
   "id": "57e5ebe8",
   "metadata": {},
   "outputs": [],
   "source": [
    "# Improved dataset with longer sequences and validation split\n",
    "print(\"Creating improved dataset with longer sequences...\")\n",
    "\n",
    "# Improved dataset parameters\n",
    "IMPROVED_SEQ_LEN = 41  # Longer sequences to capture more context\n",
    "IMPROVED_BATCH_SIZE = 16  # Adjusted for longer sequences\n",
    "\n",
    "\n",
    "class ImprovedDylanDataset(Dataset):\n",
    "    def __init__(self, texts, tokenizer, seq_len=64, min_length=10):\n",
    "        self.tokenizer = tokenizer\n",
    "        self.seq_len = seq_len\n",
    "        self.examples = []\n",
    "\n",
    "        for line in texts:\n",
    "            if len(line.strip()) < min_length:  # Skip very short lines\n",
    "                continue\n",
    "\n",
    "            tokens = tokenizer.encode(line.strip(), add_special_tokens=False)\n",
    "\n",
    "            # Only include sequences that have meaningful content\n",
    "            if len(tokens) >= min_length:\n",
    "                # Truncate if too long\n",
    "                if len(tokens) > seq_len:\n",
    "                    tokens = tokens[:seq_len]\n",
    "\n",
    "                self.examples.append(tokens)\n",
    "\n",
    "        print(f\"Created dataset with {len(self.examples)} examples\")\n",
    "        print(f\"Average sequence length: {np.mean([len(ex) for ex in self.examples]):.1f}\")\n",
    "\n",
    "    def __len__(self):\n",
    "        return len(self.examples)\n",
    "\n",
    "    def __getitem__(self, idx):\n",
    "        tokens = self.examples[idx]\n",
    "        pad_id = self.tokenizer.pad_token_id if hasattr(self.tokenizer, \"pad_token_id\") else 0\n",
    "\n",
    "        # Pad to sequence length\n",
    "        padded = tokens + [pad_id] * (self.seq_len - len(tokens))\n",
    "        return torch.tensor(padded[: self.seq_len], dtype=torch.long)\n",
    "\n",
    "\n",
    "# Split data into train/validation\n",
    "from sklearn.model_selection import train_test_split\n",
    "\n",
    "train_lines, val_lines = train_test_split(lines, test_size=0.1, random_state=42)\n",
    "\n",
    "print(f\"Training lines: {len(train_lines)}\")\n",
    "print(f\"Validation lines: {len(val_lines)}\")\n",
    "\n",
    "# Create improved datasets\n",
    "train_dataset = ImprovedDylanDataset(train_lines, improved_hf_tokenizer, seq_len=IMPROVED_SEQ_LEN)\n",
    "val_dataset = ImprovedDylanDataset(val_lines, improved_hf_tokenizer, seq_len=IMPROVED_SEQ_LEN)\n",
    "\n",
    "train_dataloader = DataLoader(train_dataset, batch_size=IMPROVED_BATCH_SIZE, shuffle=True)\n",
    "val_dataloader = DataLoader(val_dataset, batch_size=IMPROVED_BATCH_SIZE, shuffle=False)\n",
    "\n",
    "print(f\"Train batches: {len(train_dataloader)}\")\n",
    "print(f\"Validation batches: {len(val_dataloader)}\")\n",
    "\n",
    "# Test the dataset\n",
    "sample_batch = next(iter(train_dataloader))\n",
    "print(f\"Sample batch shape: {sample_batch.shape}\")\n",
    "print(f\"Sample sequence: {improved_hf_tokenizer.decode(sample_batch[0].tolist(), skip_special_tokens=False)}\")"
   ]
  },
  {
   "cell_type": "code",
   "execution_count": null,
   "id": "07d60602",
   "metadata": {},
   "outputs": [],
   "source": [
    "class ImprovedD3PM(nn.Module):\n",
    "    def __init__(\n",
    "        self, num_discrete_states: int, num_timesteps: int = 1000, beta_start: float = 0.0001, beta_end: float = 0.02\n",
    "    ):\n",
    "        super().__init__()\n",
    "        self.num_discrete_states = num_discrete_states\n",
    "        self.num_timesteps = num_timesteps\n",
    "\n",
    "        # More conservative beta schedule\n",
    "        self.betas = torch.linspace(beta_start, beta_end, num_timesteps)\n",
    "        self.alphas = 1.0 - self.betas\n",
    "        self.alpha_bars = torch.cumprod(self.alphas, dim=0)\n",
    "\n",
    "        # Precompute transition matrices\n",
    "        self.transition_matrices_t = nn.ParameterList()\n",
    "        self.cumulative_transition_matrices_t = nn.ParameterList()\n",
    "\n",
    "        Q_prev_cumulative = torch.eye(num_discrete_states)\n",
    "\n",
    "        for t in range(num_timesteps):\n",
    "            beta = self.betas[t].item()\n",
    "\n",
    "            # More conservative transition matrix\n",
    "            diag_prob = 1.0 - beta\n",
    "            off_diag_prob = beta / (num_discrete_states - 1) if num_discrete_states > 1 else 0.0\n",
    "\n",
    "            Q_t = torch.eye(num_discrete_states) * diag_prob\n",
    "            Q_t = (\n",
    "                Q_t\n",
    "                + (torch.ones(num_discrete_states, num_discrete_states) - torch.eye(num_discrete_states))\n",
    "                * off_diag_prob\n",
    "            )\n",
    "            Q_t = Q_t / Q_t.sum(dim=1, keepdim=True)\n",
    "\n",
    "            self.transition_matrices_t.append(nn.Parameter(Q_t, requires_grad=False))\n",
    "\n",
    "            Q_current_cumulative = torch.matmul(Q_t, Q_prev_cumulative)\n",
    "            self.cumulative_transition_matrices_t.append(nn.Parameter(Q_current_cumulative, requires_grad=False))\n",
    "            Q_prev_cumulative = Q_current_cumulative\n",
    "\n",
    "    def forward(self, x_0: torch.Tensor, t: torch.Tensor):\n",
    "        \"\"\"Forward diffusion process\"\"\"\n",
    "        original_shape = x_0.shape\n",
    "        batch_size = original_shape[0]\n",
    "        x_flat = x_0.view(batch_size, -1)\n",
    "        num_elements = x_flat.shape[1]\n",
    "\n",
    "        # Convert to one-hot encoding\n",
    "        x_one_hot = F.one_hot(x_flat, num_classes=self.num_discrete_states).float()\n",
    "\n",
    "        # Gather transition matrices for batch\n",
    "        Q_bar_t_batch = torch.stack([self.cumulative_transition_matrices_t[idx] for idx in t])\n",
    "\n",
    "        # Apply transition\n",
    "        next_state_probs = torch.bmm(x_one_hot, Q_bar_t_batch)\n",
    "\n",
    "        # Sample from categorical distribution\n",
    "        x_t = torch.multinomial(next_state_probs.view(-1, self.num_discrete_states), num_samples=1).squeeze(dim=1)\n",
    "        x_t = x_t.view(original_shape)\n",
    "\n",
    "        return x_t\n",
    "\n",
    "    def compute_loss(self, x_0: torch.Tensor, predicted_logits: torch.Tensor, t: torch.Tensor, pad_token_id: int = 0):\n",
    "        \"\"\"Compute proper D3PM loss with padding mask\"\"\"\n",
    "        batch_size, seq_len = x_0.shape\n",
    "\n",
    "        # Create padding mask\n",
    "        pad_mask = (x_0 != pad_token_id).float()  # 1 for real tokens, 0 for padding\n",
    "\n",
    "        # Compute cross-entropy loss\n",
    "        loss = F.cross_entropy(predicted_logits.view(-1, self.num_discrete_states), x_0.view(-1), reduction=\"none\")\n",
    "\n",
    "        # Apply padding mask\n",
    "        loss = loss.view(batch_size, seq_len)\n",
    "        masked_loss = loss * pad_mask\n",
    "\n",
    "        # Average over non-padded tokens\n",
    "        total_loss = masked_loss.sum() / pad_mask.sum().clamp(min=1)\n",
    "\n",
    "        return total_loss\n",
    "\n",
    "\n",
    "print(\"Improved D3PM implementation created.\")"
   ]
  },
  {
   "cell_type": "code",
   "execution_count": null,
   "id": "b4497323",
   "metadata": {},
   "outputs": [],
   "source": [
    "class ImprovedTimeEmbedding(nn.Module):\n",
    "    def __init__(self, dim):\n",
    "        super().__init__()\n",
    "        self.dim = dim\n",
    "        self.mlp = nn.Sequential(nn.Linear(dim, dim * 4), nn.GELU(), nn.Linear(dim * 4, dim))\n",
    "\n",
    "    def forward(self, t):\n",
    "        half = self.dim // 2\n",
    "        freqs = torch.exp(-math.log(10000) * torch.arange(half, dtype=torch.float32) / half).to(t.device)\n",
    "        args = t[:, None].float() * freqs[None]\n",
    "        emb = torch.cat([torch.sin(args), torch.cos(args)], dim=-1)\n",
    "        return self.mlp(emb)\n",
    "\n",
    "\n",
    "class ImprovedDiffusionTransformer(nn.Module):\n",
    "    def __init__(self, vocab_size, seq_len, dim=768, heads=12, layers=12, dropout=0.1):\n",
    "        super().__init__()\n",
    "        self.vocab_size = vocab_size\n",
    "        self.seq_len = seq_len\n",
    "        self.dim = dim\n",
    "\n",
    "        # Embeddings\n",
    "        self.token_emb = nn.Embedding(vocab_size, dim)\n",
    "        self.pos_emb = nn.Embedding(seq_len, dim)\n",
    "        self.time_emb = ImprovedTimeEmbedding(dim)\n",
    "\n",
    "        # Transformer layers with improved architecture\n",
    "        encoder_layers = []\n",
    "        for _ in range(layers):\n",
    "            layer = nn.TransformerEncoderLayer(\n",
    "                d_model=dim,\n",
    "                nhead=heads,\n",
    "                dim_feedforward=dim * 4,\n",
    "                dropout=dropout,\n",
    "                activation=\"gelu\",\n",
    "                batch_first=True,\n",
    "                norm_first=True,  # Pre-norm for better training stability\n",
    "            )\n",
    "            encoder_layers.append(layer)\n",
    "\n",
    "        self.transformer = nn.ModuleList(encoder_layers)\n",
    "\n",
    "        # Output projection\n",
    "        self.layer_norm = nn.LayerNorm(dim)\n",
    "        self.to_logits = nn.Linear(dim, vocab_size)\n",
    "\n",
    "        # Initialize weights\n",
    "        self.apply(self._init_weights)\n",
    "\n",
    "    def _init_weights(self, module):\n",
    "        if isinstance(module, nn.Linear):\n",
    "            torch.nn.init.normal_(module.weight, mean=0.0, std=0.02)\n",
    "            if module.bias is not None:\n",
    "                torch.nn.init.zeros_(module.bias)\n",
    "        elif isinstance(module, nn.Embedding):\n",
    "            torch.nn.init.normal_(module.weight, mean=0.0, std=0.02)\n",
    "        elif isinstance(module, nn.LayerNorm):\n",
    "            torch.nn.init.zeros_(module.bias)\n",
    "            torch.nn.init.ones_(module.weight)\n",
    "\n",
    "    def forward(self, x, t, attention_mask=None):\n",
    "        B, L = x.shape\n",
    "\n",
    "        # Token embeddings\n",
    "        tok_emb = self.token_emb(x)  # (B, L, D)\n",
    "\n",
    "        # Position embeddings\n",
    "        pos_indices = torch.arange(L, device=x.device).expand(B, -1)\n",
    "        pos_emb = self.pos_emb(pos_indices)  # (B, L, D)\n",
    "\n",
    "        # Time embeddings\n",
    "        time_emb = self.time_emb(t).unsqueeze(1).expand(-1, L, -1)  # (B, L, D)\n",
    "\n",
    "        # Combine embeddings\n",
    "        h = tok_emb + pos_emb + time_emb\n",
    "\n",
    "        # Create attention mask for padding tokens\n",
    "        if attention_mask is None:\n",
    "            # Assume padding tokens are 0\n",
    "            attention_mask = (x != 0).float()\n",
    "\n",
    "        # Convert to transformer format (True = masked positions)\n",
    "        src_key_padding_mask = attention_mask == 0\n",
    "\n",
    "        # Apply transformer layers\n",
    "        for layer in self.transformer:\n",
    "            h = layer(h, src_key_padding_mask=src_key_padding_mask)\n",
    "\n",
    "        # Layer norm and output projection\n",
    "        h = self.layer_norm(h)\n",
    "        logits = self.to_logits(h)\n",
    "\n",
    "        return logits\n",
    "\n",
    "\n",
    "print(\"Improved transformer model created.\")"
   ]
  },
  {
   "cell_type": "code",
   "execution_count": null,
   "id": "45ddf0c9",
   "metadata": {},
   "outputs": [],
   "source": [
    "# Improved training setup\n",
    "import datetime\n",
    "from torch.utils.tensorboard import SummaryWriter\n",
    "from torch.optim.lr_scheduler import OneCycleLR\n",
    "import os\n",
    "from sklearn.model_selection import train_test_split\n",
    "\n",
    "# Improved hyperparameters\n",
    "IMPROVED_HYPERPARAMS = {\n",
    "    \"seq_len\": IMPROVED_SEQ_LEN,\n",
    "    \"batch_size\": IMPROVED_BATCH_SIZE,\n",
    "    \"num_epochs\": 20,\n",
    "    \"learning_rate\": 3e-4,  # Higher learning rate\n",
    "    \"weight_decay\": 1e-4,\n",
    "    \"vocab_size\": len(improved_hf_tokenizer),\n",
    "    \"num_timesteps\": 1000,  # More timesteps\n",
    "    \"model_dim\": 768,  # Larger model\n",
    "    \"model_heads\": 12,\n",
    "    \"model_layers\": 8,  # Reasonable depth\n",
    "    \"dropout\": 0.1,\n",
    "    \"gradient_clip\": 1.0,\n",
    "    \"warmup_steps\": 1000,\n",
    "    \"beta_start\": 0.0001,\n",
    "    \"beta_end\": 0.02,  # More conservative\n",
    "}\n",
    "\n",
    "print(\"Improved hyperparameters:\")\n",
    "for key, value in IMPROVED_HYPERPARAMS.items():\n",
    "    print(f\"  {key}: {value}\")\n",
    "\n",
    "# Initialize improved models\n",
    "print(\"\\nInitializing improved models...\")\n",
    "improved_diffuser = ImprovedD3PM(\n",
    "    num_discrete_states=IMPROVED_HYPERPARAMS[\"vocab_size\"],\n",
    "    num_timesteps=IMPROVED_HYPERPARAMS[\"num_timesteps\"],\n",
    "    beta_start=IMPROVED_HYPERPARAMS[\"beta_start\"],\n",
    "    beta_end=IMPROVED_HYPERPARAMS[\"beta_end\"],\n",
    ").to(device)\n",
    "\n",
    "improved_model = ImprovedDiffusionTransformer(\n",
    "    vocab_size=IMPROVED_HYPERPARAMS[\"vocab_size\"],\n",
    "    seq_len=IMPROVED_HYPERPARAMS[\"seq_len\"],\n",
    "    dim=IMPROVED_HYPERPARAMS[\"model_dim\"],\n",
    "    heads=IMPROVED_HYPERPARAMS[\"model_heads\"],\n",
    "    layers=IMPROVED_HYPERPARAMS[\"model_layers\"],\n",
    "    dropout=IMPROVED_HYPERPARAMS[\"dropout\"],\n",
    ").to(device)\n",
    "\n",
    "print(f\"Model parameters: {sum(p.numel() for p in improved_model.parameters()):,}\")\n",
    "\n",
    "# Improved optimizer and scheduler\n",
    "optimizer = torch.optim.AdamW(\n",
    "    improved_model.parameters(),\n",
    "    lr=IMPROVED_HYPERPARAMS[\"learning_rate\"],\n",
    "    weight_decay=IMPROVED_HYPERPARAMS[\"weight_decay\"],\n",
    "    betas=(0.9, 0.95),\n",
    ")\n",
    "\n",
    "# One cycle learning rate scheduler\n",
    "total_steps = len(train_dataloader) * IMPROVED_HYPERPARAMS[\"num_epochs\"]\n",
    "scheduler = OneCycleLR(\n",
    "    optimizer,\n",
    "    max_lr=IMPROVED_HYPERPARAMS[\"learning_rate\"],\n",
    "    total_steps=total_steps,\n",
    "    pct_start=0.1,  # Warmup for 10% of training\n",
    "    anneal_strategy=\"cos\",\n",
    "    cycle_momentum=True,\n",
    "    base_momentum=0.85,\n",
    "    max_momentum=0.95,\n",
    ")\n",
    "\n",
    "# TensorBoard setup\n",
    "timestamp = datetime.datetime.now().strftime(\"%Y%m%d_%H%M%S\")\n",
    "log_dir = f\"../runs/improved_d3pm_{timestamp}\"\n",
    "os.makedirs(log_dir, exist_ok=True)\n",
    "writer = SummaryWriter(log_dir=log_dir)\n",
    "\n",
    "print(f\"TensorBoard logs: {log_dir}\")\n",
    "print(f\"Total training steps: {total_steps:,}\")"
   ]
  },
  {
   "cell_type": "code",
   "execution_count": null,
   "id": "86b748e5",
   "metadata": {},
   "outputs": [],
   "source": [
    "def validate_model(model, diffuser, val_dataloader, tokenizer, device):\n",
    "    \"\"\"Validation function\"\"\"\n",
    "    model.eval()\n",
    "    total_val_loss = 0\n",
    "    num_val_batches = 0\n",
    "\n",
    "    with torch.no_grad():\n",
    "        for batch_x_0 in val_dataloader:\n",
    "            batch_x_0 = batch_x_0.to(device)\n",
    "            batch_size_actual = batch_x_0.shape[0]\n",
    "\n",
    "            # Sample timesteps\n",
    "            timesteps = torch.randint(0, diffuser.num_timesteps, (batch_size_actual,), device=device)\n",
    "\n",
    "            # Forward diffusion\n",
    "            x_t = diffuser(batch_x_0, timesteps)\n",
    "\n",
    "            # Model prediction\n",
    "            predicted_logits = model(x_t, timesteps)\n",
    "\n",
    "            # Compute loss using improved loss function\n",
    "            loss = diffuser.compute_loss(batch_x_0, predicted_logits, timesteps, pad_token_id=tokenizer.pad_token_id)\n",
    "\n",
    "            total_val_loss += loss.item()\n",
    "            num_val_batches += 1\n",
    "\n",
    "    model.train()\n",
    "    return total_val_loss / num_val_batches if num_val_batches > 0 else float(\"inf\")\n",
    "\n",
    "\n",
    "# Improved training loop\n",
    "print(\"\\n=== Starting Improved Training ===\")\n",
    "\n",
    "model_name = \"improved_d3pm\"\n",
    "version = \"3_0\"\n",
    "do_train = True\n",
    "\n",
    "if do_train:\n",
    "    global_step = 0\n",
    "    best_val_loss = float(\"inf\")\n",
    "    patience = 3\n",
    "    patience_counter = 0\n",
    "\n",
    "    # Training metrics\n",
    "    train_losses = []\n",
    "    val_losses = []\n",
    "    learning_rates = []\n",
    "\n",
    "    for epoch in range(IMPROVED_HYPERPARAMS[\"num_epochs\"]):\n",
    "        improved_model.train()\n",
    "        epoch_loss = 0\n",
    "        num_batches = 0\n",
    "\n",
    "        # Training loop\n",
    "        pbar = tqdm(train_dataloader, desc=f\"Epoch {epoch + 1}/{IMPROVED_HYPERPARAMS['num_epochs']}\")\n",
    "\n",
    "        for batch_idx, batch_x_0 in enumerate(pbar):\n",
    "            batch_x_0 = batch_x_0.to(device)\n",
    "            batch_size_actual = batch_x_0.shape[0]\n",
    "\n",
    "            # Sample random timesteps\n",
    "            timesteps = torch.randint(0, improved_diffuser.num_timesteps, (batch_size_actual,), device=device)\n",
    "\n",
    "            # Forward diffusion\n",
    "            x_t = improved_diffuser(batch_x_0, timesteps)\n",
    "\n",
    "            # Model prediction\n",
    "            predicted_logits = improved_model(x_t, timesteps)\n",
    "\n",
    "            # Compute improved loss\n",
    "            loss = improved_diffuser.compute_loss(\n",
    "                batch_x_0, predicted_logits, timesteps, pad_token_id=improved_hf_tokenizer.pad_token_id\n",
    "            )\n",
    "\n",
    "            # Backpropagation\n",
    "            optimizer.zero_grad()\n",
    "            loss.backward()\n",
    "\n",
    "            # Gradient clipping\n",
    "            torch.nn.utils.clip_grad_norm_(improved_model.parameters(), max_norm=IMPROVED_HYPERPARAMS[\"gradient_clip\"])\n",
    "\n",
    "            optimizer.step()\n",
    "            scheduler.step()\n",
    "\n",
    "            # Update metrics\n",
    "            epoch_loss += loss.item()\n",
    "            num_batches += 1\n",
    "            global_step += 1\n",
    "\n",
    "            current_lr = scheduler.get_last_lr()[0]\n",
    "\n",
    "            # Log to TensorBoard\n",
    "            if global_step % 50 == 0:\n",
    "                writer.add_scalar(\"Loss/Train_Step\", loss.item(), global_step)\n",
    "                writer.add_scalar(\"Learning_Rate\", current_lr, global_step)\n",
    "\n",
    "            # Update progress bar\n",
    "            pbar.set_postfix({\"Loss\": f\"{loss.item():.4f}\", \"LR\": f\"{current_lr:.2e}\", \"Step\": global_step})\n",
    "\n",
    "            # Memory cleanup\n",
    "            if batch_idx % 50 == 0:\n",
    "                if torch.cuda.is_available():\n",
    "                    torch.cuda.empty_cache()\n",
    "                elif torch.backends.mps.is_available():\n",
    "                    torch.mps.empty_cache()\n",
    "\n",
    "        # Calculate epoch metrics\n",
    "        avg_train_loss = epoch_loss / num_batches\n",
    "\n",
    "        # Validation\n",
    "        print(\"\\nRunning validation...\")\n",
    "        avg_val_loss = validate_model(improved_model, improved_diffuser, val_dataloader, improved_hf_tokenizer, device)\n",
    "\n",
    "        # Store metrics\n",
    "        train_losses.append(avg_train_loss)\n",
    "        val_losses.append(avg_val_loss)\n",
    "        learning_rates.append(current_lr)\n",
    "\n",
    "        # Log epoch metrics\n",
    "        writer.add_scalar(\"Loss/Train_Epoch\", avg_train_loss, epoch)\n",
    "        writer.add_scalar(\"Loss/Validation_Epoch\", avg_val_loss, epoch)\n",
    "        writer.add_scalar(\"Learning_Rate/Epoch\", current_lr, epoch)\n",
    "\n",
    "        print(f\"Epoch {epoch + 1}/{IMPROVED_HYPERPARAMS['num_epochs']} Results:\")\n",
    "        print(f\"  Train Loss: {avg_train_loss:.4f}\")\n",
    "        print(f\"  Val Loss: {avg_val_loss:.4f}\")\n",
    "        print(f\"  Learning Rate: {current_lr:.2e}\")\n",
    "        print(f\"  Global Step: {global_step:,}\")\n",
    "\n",
    "        # Save best model\n",
    "        if avg_val_loss < best_val_loss:\n",
    "            best_val_loss = avg_val_loss\n",
    "            patience_counter = 0\n",
    "\n",
    "            best_model_path = f\"../models/{model_name}_best_{version}.pth\"\n",
    "            torch.save(\n",
    "                {\n",
    "                    \"epoch\": epoch,\n",
    "                    \"model_state_dict\": improved_model.state_dict(),\n",
    "                    \"diffuser_state_dict\": improved_diffuser.state_dict(),\n",
    "                    \"optimizer_state_dict\": optimizer.state_dict(),\n",
    "                    \"scheduler_state_dict\": scheduler.state_dict(),\n",
    "                    \"train_loss\": avg_train_loss,\n",
    "                    \"val_loss\": avg_val_loss,\n",
    "                    \"global_step\": global_step,\n",
    "                    \"hyperparams\": IMPROVED_HYPERPARAMS,\n",
    "                },\n",
    "                best_model_path,\n",
    "            )\n",
    "\n",
    "            print(f\"  ✓ New best model saved! Val loss: {best_val_loss:.4f}\")\n",
    "        else:\n",
    "            patience_counter += 1\n",
    "            print(f\"  No improvement. Patience: {patience_counter}/{patience}\")\n",
    "\n",
    "        # Early stopping\n",
    "        if patience_counter >= patience:\n",
    "            print(f\"\\nEarly stopping triggered after {epoch + 1} epochs\")\n",
    "            break\n",
    "\n",
    "        # Sample generation every few epochs\n",
    "        if (epoch + 1) % 3 == 0:\n",
    "            print(\"\\nGenerating sample...\")\n",
    "            improved_model.eval()\n",
    "            with torch.no_grad():\n",
    "                try:\n",
    "                    sample_prompt = \"The answer my friend\"\n",
    "                    sample_tokens = improved_hf_tokenizer.encode(sample_prompt, add_special_tokens=False)\n",
    "\n",
    "                    if len(sample_tokens) < IMPROVED_SEQ_LEN:\n",
    "                        pad_length = IMPROVED_SEQ_LEN - len(sample_tokens)\n",
    "                        sample_input = torch.tensor(\n",
    "                            [sample_tokens + [improved_hf_tokenizer.pad_token_id] * pad_length],\n",
    "                            device=device,\n",
    "                            dtype=torch.long,\n",
    "                        )\n",
    "\n",
    "                        # Simple denoising\n",
    "                        timesteps_sample = torch.tensor([improved_diffuser.num_timesteps // 2], device=device)\n",
    "                        x_t_sample = improved_diffuser(sample_input, timesteps_sample)\n",
    "                        predicted_logits_sample = improved_model(x_t_sample, timesteps_sample)\n",
    "                        predicted_tokens = torch.argmax(predicted_logits_sample, dim=-1)\n",
    "\n",
    "                        generated_text = improved_hf_tokenizer.decode(\n",
    "                            predicted_tokens[0].cpu().tolist(), skip_special_tokens=True\n",
    "                        )\n",
    "                        print(f\"  Sample: '{generated_text}'\")\n",
    "                        writer.add_text(\"Sample_Generation\", generated_text, epoch)\n",
    "\n",
    "                except Exception as e:\n",
    "                    print(f\"  Sample generation failed: {e}\")\n",
    "\n",
    "            improved_model.train()\n",
    "\n",
    "        print(\"-\" * 60)\n",
    "\n",
    "    # Final save\n",
    "    final_model_path = f\"../models/{model_name}_final_{version}.pth\"\n",
    "    torch.save(\n",
    "        {\n",
    "            \"epoch\": epoch,\n",
    "            \"model_state_dict\": improved_model.state_dict(),\n",
    "            \"diffuser_state_dict\": improved_diffuser.state_dict(),\n",
    "            \"optimizer_state_dict\": optimizer.state_dict(),\n",
    "            \"scheduler_state_dict\": scheduler.state_dict(),\n",
    "            \"train_losses\": train_losses,\n",
    "            \"val_losses\": val_losses,\n",
    "            \"learning_rates\": learning_rates,\n",
    "            \"best_val_loss\": best_val_loss,\n",
    "            \"global_step\": global_step,\n",
    "            \"hyperparams\": IMPROVED_HYPERPARAMS,\n",
    "        },\n",
    "        final_model_path,\n",
    "    )\n",
    "\n",
    "    print(f\"\\n=== Training Complete ===\")\n",
    "    print(f\"Best validation loss: {best_val_loss:.4f}\")\n",
    "    print(f\"Final model saved: {final_model_path}\")\n",
    "    print(f\"Total steps: {global_step:,}\")\n",
    "    print(f\"TensorBoard logs: {log_dir}\")\n",
    "\n",
    "    writer.close()\n",
    "\n",
    "    # Plot training curves\n",
    "    import matplotlib.pyplot as plt\n",
    "\n",
    "    fig, ((ax1, ax2), (ax3, ax4)) = plt.subplots(2, 2, figsize=(15, 10))\n",
    "\n",
    "    # Loss curves\n",
    "    epochs_range = range(1, len(train_losses) + 1)\n",
    "    ax1.plot(epochs_range, train_losses, label=\"Train Loss\", color=\"blue\")\n",
    "    ax1.plot(epochs_range, val_losses, label=\"Validation Loss\", color=\"red\")\n",
    "    ax1.set_title(\"Training and Validation Loss\")\n",
    "    ax1.set_xlabel(\"Epoch\")\n",
    "    ax1.set_ylabel(\"Loss\")\n",
    "    ax1.legend()\n",
    "    ax1.grid(True)\n",
    "\n",
    "    # Learning rate\n",
    "    ax2.plot(epochs_range, learning_rates)\n",
    "    ax2.set_title(\"Learning Rate Schedule\")\n",
    "    ax2.set_xlabel(\"Epoch\")\n",
    "    ax2.set_ylabel(\"Learning Rate\")\n",
    "    ax2.set_yscale(\"log\")\n",
    "    ax2.grid(True)\n",
    "\n",
    "    # Loss difference\n",
    "    loss_diff = np.array(val_losses) - np.array(train_losses)\n",
    "    ax3.plot(epochs_range, loss_diff)\n",
    "    ax3.axhline(y=0, color=\"black\", linestyle=\"--\", alpha=0.5)\n",
    "    ax3.set_title(\"Validation - Training Loss (Overfitting Check)\")\n",
    "    ax3.set_xlabel(\"Epoch\")\n",
    "    ax3.set_ylabel(\"Loss Difference\")\n",
    "    ax3.grid(True)\n",
    "\n",
    "    # Training progress\n",
    "    ax4.plot(epochs_range, train_losses, label=\"Train\", alpha=0.7)\n",
    "    ax4.plot(epochs_range, val_losses, label=\"Validation\", alpha=0.7)\n",
    "    ax4.fill_between(epochs_range, train_losses, alpha=0.3)\n",
    "    ax4.fill_between(epochs_range, val_losses, alpha=0.3)\n",
    "    ax4.set_title(\"Training Progress Overview\")\n",
    "    ax4.set_xlabel(\"Epoch\")\n",
    "    ax4.set_ylabel(\"Loss\")\n",
    "    ax4.legend()\n",
    "    ax4.grid(True)\n",
    "\n",
    "    plt.tight_layout()\n",
    "    os.makedirs(\"../plots\", exist_ok=True)\n",
    "    plt.savefig(f\"../plots/improved_training_curves_{timestamp}.png\", dpi=150, bbox_inches=\"tight\")\n",
    "    plt.show()\n",
    "\n",
    "else:\n",
    "    print(\"Training disabled. Set do_train=True to start training.\")"
   ]
  },
  {
   "cell_type": "code",
   "execution_count": null,
   "id": "bbbe3d6c",
   "metadata": {},
   "outputs": [],
   "source": [
    "def improved_inference(model, diffuser, tokenizer, prompt, seq_len=64, num_steps=100, temperature=1.0, top_k=50):\n",
    "    \"\"\"Improved inference with better sampling strategies\"\"\"\n",
    "    model.eval()\n",
    "\n",
    "    with torch.no_grad():\n",
    "        # Prepare prompt\n",
    "        prompt_tokens = tokenizer.encode(prompt, add_special_tokens=False)\n",
    "        prompt_len = len(prompt_tokens)\n",
    "\n",
    "        if prompt_len >= seq_len:\n",
    "            print(f\"Warning: Prompt too long ({prompt_len} tokens). Truncating.\")\n",
    "            prompt_tokens = prompt_tokens[: seq_len - 1]\n",
    "            prompt_len = len(prompt_tokens)\n",
    "\n",
    "        # Initialize sequence\n",
    "        initial_sequence = torch.full((1, seq_len), tokenizer.pad_token_id, dtype=torch.long, device=device)\n",
    "        initial_sequence[0, :prompt_len] = torch.tensor(prompt_tokens, dtype=torch.long, device=device)\n",
    "\n",
    "        # Fill rest with random tokens\n",
    "        rand_tokens = torch.randint(low=1, high=len(tokenizer) - 1, size=(1, seq_len - prompt_len), device=device)\n",
    "        initial_sequence[0, prompt_len:] = rand_tokens[0]\n",
    "\n",
    "        print(f'Prompt: \"{prompt}\"')\n",
    "        print(f\"Initial sequence: {tokenizer.decode(initial_sequence[0].tolist(), skip_special_tokens=True)}\")\n",
    "\n",
    "        current_x = initial_sequence.clone()\n",
    "\n",
    "        # Denoising loop\n",
    "        for t_idx in tqdm(range(num_steps, 0, -1), desc=\"Denoising\"):\n",
    "            t_tensor = torch.tensor([t_idx], dtype=torch.long, device=device)\n",
    "\n",
    "            # Model prediction\n",
    "            predicted_logits = model(current_x, t_tensor)\n",
    "\n",
    "            # Apply temperature\n",
    "            if temperature > 0:\n",
    "                predicted_logits = predicted_logits / temperature\n",
    "\n",
    "            # Top-k sampling for non-prompt tokens\n",
    "            for pos in range(prompt_len, seq_len):\n",
    "                logits = predicted_logits[0, pos, :]\n",
    "\n",
    "                if top_k > 0:\n",
    "                    # Top-k sampling\n",
    "                    top_k_logits, top_k_indices = torch.topk(logits, min(top_k, logits.size(-1)))\n",
    "                    probs = F.softmax(top_k_logits, dim=-1)\n",
    "                    sampled_idx = torch.multinomial(probs, num_samples=1)\n",
    "                    current_x[0, pos] = top_k_indices[sampled_idx]\n",
    "                else:\n",
    "                    # Standard sampling\n",
    "                    probs = F.softmax(logits, dim=-1)\n",
    "                    current_x[0, pos] = torch.multinomial(probs, num_samples=1)\n",
    "\n",
    "            # Keep prompt tokens unchanged\n",
    "            current_x[0, :prompt_len] = initial_sequence[0, :prompt_len]\n",
    "\n",
    "            # Print progress\n",
    "            if t_idx % (num_steps // 5) == 0 or t_idx == 1:\n",
    "                intermediate_text = tokenizer.decode(current_x[0].cpu().tolist(), skip_special_tokens=True)\n",
    "                print(f\"  Step {t_idx:3d}: {intermediate_text}\")\n",
    "\n",
    "    final_text = tokenizer.decode(current_x[0].cpu().tolist(), skip_special_tokens=True)\n",
    "    print(f\"\\nFinal result: {final_text}\")\n",
    "    return final_text\n",
    "\n",
    "\n",
    "print(\"Improved inference function created.\")\n",
    "print(\"\\nTo test the improved model after training, use:\")\n",
    "print(\"improved_inference(improved_model, improved_diffuser, improved_hf_tokenizer, 'Your prompt here')\")"
   ]
  },
  {
   "cell_type": "markdown",
   "id": "ab4573f8",
   "metadata": {},
   "source": [
    "# Summary of Key Improvements to Fix Training Loss\n",
    "\n",
    "## Issues Identified in Original Implementation:\n",
    "\n",
    "1. **Vocabulary Size**: 1000 tokens → **5000 tokens** (better expressiveness)\n",
    "2. **Sequence Length**: 16-20 tokens → **64 tokens** (capture more context)\n",
    "3. **Diffusion Schedule**: Beta end 0.5 → **0.02** (less aggressive noise)\n",
    "4. **Model Architecture**: 512 dim, 6 layers → **768 dim, 8 layers** (more capacity)\n",
    "5. **Loss Function**: Basic CrossEntropy → **Proper D3PM loss with padding masks**\n",
    "6. **Learning Rate**: 1e-4 → **3e-4** with OneCycle scheduler\n",
    "7. **Validation**: None → **Train/val split with early stopping**\n",
    "8. **Attention**: No masking → **Proper attention masking for padding**\n",
    "\n",
    "## Expected Improvements:\n",
    "\n",
    "- **Loss should drop below 2.0** with these changes\n",
    "- Better text generation quality\n",
    "- More stable training\n",
    "- Proper overfitting detection\n",
    "\n",
    "## If Loss Still Doesn't Improve:\n",
    "\n",
    "1. **Check data quality**: Ensure sufficient text variety\n",
    "2. **Increase model size**: Try 1024 dim, 12 layers\n",
    "3. **Adjust diffusion schedule**: Try linear/cosine schedules\n",
    "4. **Learning rate**: Try 1e-3 or adaptive scheduling\n",
    "5. **Batch size**: Increase to 32-64 if memory allows\n",
    "6. **Training time**: Train for more epochs (50+)\n",
    "\n",
    "## Quick Start:\n",
    "\n",
    "```python\n",
    "# Run the improved training\n",
    "do_train = True  # Set this to True in the training cell\n",
    "\n",
    "# After training, test with:\n",
    "improved_inference(\n",
    "    improved_model, improved_diffuser, improved_hf_tokenizer,\n",
    "    \"The answer my friend\", temperature=0.8, top_k=50\n",
    ")\n",
    "```"
   ]
  },
  {
   "cell_type": "code",
   "execution_count": null,
   "id": "dcb553ff",
   "metadata": {},
   "outputs": [],
   "source": [
    "# Additional imports for improved implementation\n",
    "import sklearn\n",
    "from sklearn.model_selection import train_test_split\n",
    "import matplotlib.pyplot as plt\n",
    "\n",
    "print(\"All required imports loaded for improved D3PM implementation.\")\n",
    "print(\"\\nReady to run improved training!\")\n",
    "print(\"\\nKey changes made:\")\n",
    "print(\"✓ Larger vocabulary (5000 tokens)\")\n",
    "print(\"✓ Longer sequences (64 tokens)\")\n",
    "print(\"✓ Better diffusion schedule (beta_end=0.02)\")\n",
    "print(\"✓ Improved model architecture (768 dim, 8 layers)\")\n",
    "print(\"✓ Proper D3PM loss with padding masks\")\n",
    "print(\"✓ OneCycle learning rate scheduler\")\n",
    "print(\"✓ Train/validation split with early stopping\")\n",
    "print(\"✓ Better inference with top-k sampling\")\n",
    "print(\"\\nExpected: Loss should drop significantly below 4.7!\")"
   ]
  },
  {
   "cell_type": "code",
   "execution_count": null,
   "id": "1df215e9",
   "metadata": {},
   "outputs": [],
   "source": [
    "def compare_models():\n",
    "    \"\"\"Compare original vs improved model parameters\"\"\"\n",
    "    print(\"Model Comparison:\")\n",
    "    print(\"=\" * 50)\n",
    "\n",
    "    # Original model specs\n",
    "    original_vocab = 1000\n",
    "    original_seq_len = 16\n",
    "    original_dim = 512\n",
    "    original_layers = 6\n",
    "    original_heads = 8\n",
    "\n",
    "    # Calculate original params (rough estimate)\n",
    "    original_params = (\n",
    "        original_vocab * original_dim  # token embedding\n",
    "        + original_seq_len * original_dim  # pos embedding\n",
    "        + original_dim * original_dim  # time embedding\n",
    "        + original_layers * (4 * original_dim * original_dim + original_dim * 4 * original_dim)  # transformer\n",
    "        + original_dim * original_vocab  # output projection\n",
    "    )\n",
    "\n",
    "    print(f\"Original Model:\")\n",
    "    print(f\"  Vocabulary: {original_vocab:,}\")\n",
    "    print(f\"  Sequence Length: {original_seq_len}\")\n",
    "    print(f\"  Dimensions: {original_dim}\")\n",
    "    print(f\"  Layers: {original_layers}\")\n",
    "    print(f\"  Estimated Parameters: {original_params:,}\")\n",
    "    print(f\"  Beta End: 0.5 (too aggressive)\")\n",
    "    print(f\"  Learning Rate: 1e-4 (too low)\")\n",
    "\n",
    "    print(f\"\\nImproved Model:\")\n",
    "    print(f\"  Vocabulary: {IMPROVED_HYPERPARAMS['vocab_size']:,}\")\n",
    "    print(f\"  Sequence Length: {IMPROVED_HYPERPARAMS['seq_len']}\")\n",
    "    print(f\"  Dimensions: {IMPROVED_HYPERPARAMS['model_dim']}\")\n",
    "    print(f\"  Layers: {IMPROVED_HYPERPARAMS['model_layers']}\")\n",
    "    if \"improved_model\" in globals():\n",
    "        actual_params = sum(p.numel() for p in improved_model.parameters())\n",
    "        print(f\"  Actual Parameters: {actual_params:,}\")\n",
    "    print(f\"  Beta End: {IMPROVED_HYPERPARAMS['beta_end']} (conservative)\")\n",
    "    print(f\"  Learning Rate: {IMPROVED_HYPERPARAMS['learning_rate']} (with OneCycle)\")\n",
    "\n",
    "    print(f\"\\nKey Improvements:\")\n",
    "    print(f\"  🚀 {IMPROVED_HYPERPARAMS['vocab_size'] / original_vocab:.1f}x larger vocabulary\")\n",
    "    print(f\"  📏 {IMPROVED_HYPERPARAMS['seq_len'] / original_seq_len:.1f}x longer sequences\")\n",
    "    print(f\"  🧠 {IMPROVED_HYPERPARAMS['model_dim'] / original_dim:.1f}x more dimensions\")\n",
    "    print(f\"  ⚡ {IMPROVED_HYPERPARAMS['learning_rate'] / (1e-4):.1f}x higher learning rate\")\n",
    "    print(f\"  🎯 Proper loss masking for padding tokens\")\n",
    "    print(f\"  📊 Train/validation split for monitoring\")\n",
    "    print(f\"  🔄 Advanced learning rate scheduling\")\n",
    "\n",
    "\n",
    "def diagnostic_check():\n",
    "    \"\"\"Run diagnostic checks on the training setup\"\"\"\n",
    "    print(\"\\nDiagnostic Check:\")\n",
    "    print(\"=\" * 30)\n",
    "\n",
    "    # Check if models are initialized\n",
    "    models_ready = all(name in globals() for name in [\"improved_model\", \"improved_diffuser\", \"improved_hf_tokenizer\"])\n",
    "    print(f\"✓ Models initialized: {models_ready}\")\n",
    "\n",
    "    # Check data\n",
    "    data_ready = all(\n",
    "        name in globals() for name in [\"train_dataloader\", \"val_dataloader\", \"train_dataset\", \"val_dataset\"]\n",
    "    )\n",
    "    print(f\"✓ Data ready: {data_ready}\")\n",
    "\n",
    "    if data_ready:\n",
    "        print(f\"  - Training samples: {len(train_dataset):,}\")\n",
    "        print(f\"  - Validation samples: {len(val_dataset):,}\")\n",
    "        print(f\"  - Training batches: {len(train_dataloader):,}\")\n",
    "\n",
    "    # Check device\n",
    "    print(f\"✓ Device: {device}\")\n",
    "\n",
    "    # Check memory\n",
    "    if torch.cuda.is_available():\n",
    "        memory_gb = torch.cuda.get_device_properties(0).total_memory / (1024**3)\n",
    "        print(f\"✓ GPU Memory: {memory_gb:.1f} GB\")\n",
    "    elif torch.backends.mps.is_available():\n",
    "        print(f\"✓ Using Apple Metal Performance Shaders\")\n",
    "\n",
    "    print(f\"\\n🎯 Ready to train! Expected loss improvement: 4.7 → <2.0\")\n",
    "\n",
    "\n",
    "# Run diagnostics\n",
    "compare_models()\n",
    "diagnostic_check()"
   ]
  }
 ],
 "metadata": {
  "kernelspec": {
   "display_name": "transformer-implementations (3.12.8)",
   "language": "python",
   "name": "python3"
  },
  "language_info": {
   "codemirror_mode": {
    "name": "ipython",
    "version": 3
   },
   "file_extension": ".py",
   "mimetype": "text/x-python",
   "name": "python",
   "nbconvert_exporter": "python",
   "pygments_lexer": "ipython3",
   "version": "3.12.8"
  }
 },
 "nbformat": 4,
 "nbformat_minor": 5
}
