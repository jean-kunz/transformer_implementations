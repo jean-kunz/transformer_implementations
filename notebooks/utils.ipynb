{
 "cells": [
  {
   "cell_type": "code",
   "execution_count": null,
   "metadata": {},
   "outputs": [],
   "source": [
    "#| default_exp utils\n",
    "\n",
    "%load_ext autoreload\n",
    "%autoreload 2\n"
   ]
  },
  {
   "cell_type": "code",
   "execution_count": null,
   "metadata": {},
   "outputs": [],
   "source": [
    "#| export\n",
    "import os\n",
    "from pathlib import Path\n",
    "import torch\n",
    "\n",
    "\n",
    "def save_model(model, model_name,  model_version, iter):\n",
    "    model_path = Path(\"../models\")/f\"{model_name}-{model_version}-{iter}.pt\"\n",
    "    os.makedirs(\"../models/\", exist_ok=True)\n",
    "    torch.save(model, model_path)\n",
    "\n",
    "\n",
    "def load_model(model_name, model_version,iter):\n",
    "    model_path = Path(f\"../models\")/f\"{model_name}-{model_version}-{iter}.pt\"\n",
    "    return torch.load(model_path)"
   ]
  },
  {
   "cell_type": "code",
   "execution_count": null,
   "metadata": {},
   "outputs": [],
   "source": [
    "# | hide\n",
    "import nbdev\n",
    "\n",
    "nbdev.nbdev_export(\"./utils.ipynb\")\n"
   ]
  },
  {
   "cell_type": "code",
   "execution_count": null,
   "metadata": {},
   "outputs": [],
   "source": []
  }
 ],
 "metadata": {
  "kernelspec": {
   "display_name": "python3",
   "language": "python",
   "name": "python3"
  }
 },
 "nbformat": 4,
 "nbformat_minor": 2
}
