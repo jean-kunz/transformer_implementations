{
 "cells": [
  {
   "cell_type": "markdown",
   "metadata": {},
   "source": [
    "# transformer_implementations\n",
    "\n",
    "my implementation of transformer models based on https://arxiv.org/abs/2207.09238 and minGPT of https://github.com/karpathy/minGPT \n",
    "\n",
    "The project is developed using notebooks and nbdev to generate python from notebooks.\n",
    "\n",
    "- utils: utils functions\n",
    "- tokenizers: bpe implementation of tokenizer\n",
    "- pos_encoding: positional encoding as defined in first attention paper\n",
    "- attention: basic attention components (nn.Modules)\n",
    "- model: use of all components to build a gpt2 like model to predict next token with shakespeare books."
   ]
  },
  {
   "cell_type": "markdown",
   "metadata": {},
   "source": []
  }
 ],
 "metadata": {
  "kernelspec": {
   "display_name": "python3",
   "language": "python",
   "name": "python3"
  }
 },
 "nbformat": 4,
 "nbformat_minor": 4
}
