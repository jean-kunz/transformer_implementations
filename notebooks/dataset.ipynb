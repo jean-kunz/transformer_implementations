{
 "cells": [
  {
   "cell_type": "code",
   "execution_count": 1,
   "metadata": {},
   "outputs": [],
   "source": [
    "#| default_exp datasets\n",
    "%load_ext autoreload\n",
    "%autoreload 2\n"
   ]
  },
  {
   "cell_type": "code",
   "execution_count": 2,
   "metadata": {},
   "outputs": [],
   "source": [
    "#| export\n",
    "import torch\n",
    "from torch.utils.data import Dataset\n",
    "import pickle"
   ]
  },
  {
   "cell_type": "code",
   "execution_count": 18,
   "metadata": {},
   "outputs": [],
   "source": [
    "#| export\n",
    "\n",
    "class SortDataset(Dataset):\n",
    "    \"\"\" \n",
    "    Dataset for the Sort problem. E.g. for problem length 6:\n",
    "    Input: 0 0 2 1 0 1 -> Output: 0 0 0 1 1 2\n",
    "    Which will feed into the transformer concatenated as:\n",
    "    input:  0 0 2 1 0 1 0 0 0 1 1\n",
    "    output: I I I I I 0 0 0 1 1 2\n",
    "    where I is \"ignore\", as the transformer is reading the input sequence\n",
    "    \"\"\"\n",
    "\n",
    "    def __init__(self, split, length=6, num_digits=3):\n",
    "        assert split in {'train', 'test'}\n",
    "        self.split = split\n",
    "        self.length = length\n",
    "        self.num_digits = num_digits\n",
    "    \n",
    "    def __len__(self):\n",
    "        return 10000 # ...\n",
    "    \n",
    "    def get_vocab_size(self):\n",
    "        return self.num_digits\n",
    "    \n",
    "    def get_block_size(self):\n",
    "        # the length of the sequence that will feed into transformer, \n",
    "        # containing concatenated input and the output, but -1 because\n",
    "        # the transformer starts making predictions at the last input element\n",
    "        return self.length * 2 - 1\n",
    "\n",
    "    def __getitem__(self, idx):\n",
    "        \n",
    "        # use rejection sampling to generate an input example from the desired split\n",
    "        while True:\n",
    "            # generate some random integers but we need that no more than with 0.5 probability we have too many repeating numbers.\n",
    "            inp = torch.randint(self.num_digits, size=(self.length,), dtype=torch.long)\n",
    "            # half of the time let's try to boost the number of examples that \n",
    "            # have a large number of repeats, as this is what the model seems to struggle\n",
    "            # with later in training, and they are kind of rate\n",
    "            if torch.rand(1).item() < 0.5:\n",
    "                if inp.unique().nelement() > self.length // 2:\n",
    "                    # too many unqiue digits, re-sample and forget current suite.\n",
    "                    continue\n",
    "            # figure out if this generated example is train or test based on its hash\n",
    "            h = hash(pickle.dumps(inp.tolist()))\n",
    "            inp_split = 'test' if h % 4 == 0 else 'train' # designate 25% of examples as test\n",
    "            if inp_split == self.split:\n",
    "                break # ok\n",
    "        \n",
    "        # solve the task: i.e. sort\n",
    "        sol = torch.sort(inp)[0]\n",
    "\n",
    "        # concatenate the problem specification and the solution\n",
    "        cat = torch.cat((inp, sol), dim=0)\n",
    "        \n",
    "\n",
    "        # the inputs to the transformer will be the offset sequence\n",
    "        x = cat[:-1].clone()\n",
    "        y = cat[1:].clone()\n",
    "        # we only want to predict at output locations, mask out the loss at the input locations\n",
    "        y[:self.length-1] = -1\n",
    "        #print(\">\",cat, x, y)\n",
    "        return x, y \n",
    "    \n"
   ]
  },
  {
   "cell_type": "code",
   "execution_count": 19,
   "metadata": {},
   "outputs": [
    {
     "name": "stdout",
     "output_type": "stream",
     "text": [
      "0 : 0 -1\n",
      "1 : 1 -1\n",
      "2 : 3 -1\n",
      "3 : 1 -1\n",
      "4 : 3 -1\n",
      "5 : 3 0\n",
      "6 : 0 1\n",
      "7 : 1 1\n",
      "8 : 1 3\n",
      "9 : 3 3\n",
      "10 : 3 3\n"
     ]
    }
   ],
   "source": [
    "# print an example instance of the dataset\n",
    "input_length = 6\n",
    "num_digits = 4\n",
    "train_dataset = SortDataset('train', length=input_length, num_digits=num_digits)\n",
    "test_dataset = SortDataset('test', length=input_length, num_digits=num_digits)\n",
    "x, y = train_dataset[0]\n",
    "for i,(a, b) in enumerate(zip(x,y)):\n",
    "    print(i,\":\", int(a),int(b))"
   ]
  },
  {
   "cell_type": "code",
   "execution_count": 20,
   "metadata": {},
   "outputs": [
    {
     "name": "stdout",
     "output_type": "stream",
     "text": [
      "(tensor([3, 1, 2, 3, 0, 0, 0, 0, 1, 2, 3]), tensor([-1, -1, -1, -1, -1,  0,  0,  1,  2,  3,  3]))\n",
      "(tensor([1, 3, 2, 1, 1, 3, 1, 1, 1, 2, 3]), tensor([-1, -1, -1, -1, -1,  1,  1,  1,  2,  3,  3]))\n",
      "(tensor([2, 3, 0, 0, 1, 2, 0, 0, 1, 2, 2]), tensor([-1, -1, -1, -1, -1,  0,  0,  1,  2,  2,  3]))\n",
      "(tensor([3, 0, 1, 2, 3, 3, 0, 1, 2, 3, 3]), tensor([-1, -1, -1, -1, -1,  0,  1,  2,  3,  3,  3]))\n",
      "(tensor([1, 0, 1, 2, 2, 1, 0, 1, 1, 1, 2]), tensor([-1, -1, -1, -1, -1,  0,  1,  1,  1,  2,  2]))\n",
      "(tensor([2, 3, 1, 1, 3, 3, 1, 1, 2, 3, 3]), tensor([-1, -1, -1, -1, -1,  1,  1,  2,  3,  3,  3]))\n",
      "(tensor([2, 0, 1, 2, 1, 0, 0, 0, 1, 1, 2]), tensor([-1, -1, -1, -1, -1,  0,  0,  1,  1,  2,  2]))\n",
      "(tensor([1, 3, 0, 0, 1, 3, 0, 0, 1, 1, 3]), tensor([-1, -1, -1, -1, -1,  0,  0,  1,  1,  3,  3]))\n",
      "(tensor([0, 0, 2, 2, 1, 2, 0, 0, 1, 2, 2]), tensor([-1, -1, -1, -1, -1,  0,  0,  1,  2,  2,  2]))\n",
      "(tensor([3, 2, 0, 1, 0, 1, 0, 0, 1, 1, 2]), tensor([-1, -1, -1, -1, -1,  0,  0,  1,  1,  2,  3]))\n"
     ]
    }
   ],
   "source": [
    "for i, x in enumerate(train_dataset):\n",
    "    if i<10:\n",
    "        print(x)\n",
    "    else:\n",
    "        break        "
   ]
  },
  {
   "cell_type": "code",
   "execution_count": 22,
   "metadata": {},
   "outputs": [],
   "source": [
    "assert train_dataset.get_block_size()==input_length*2-1"
   ]
  },
  {
   "cell_type": "code",
   "execution_count": 23,
   "metadata": {},
   "outputs": [],
   "source": [
    "#| hide\n",
    "import nbdev; nbdev.nbdev_export()"
   ]
  },
  {
   "cell_type": "code",
   "execution_count": null,
   "metadata": {},
   "outputs": [],
   "source": []
  }
 ],
 "metadata": {
  "kernelspec": {
   "display_name": "Python 3.9.12 ('transformers')",
   "language": "python",
   "name": "python3"
  },
  "language_info": {
   "codemirror_mode": {
    "name": "ipython",
    "version": 3
   },
   "file_extension": ".py",
   "mimetype": "text/x-python",
   "name": "python",
   "nbconvert_exporter": "python",
   "pygments_lexer": "ipython3",
   "version": "3.9.13"
  },
  "orig_nbformat": 4,
  "vscode": {
   "interpreter": {
    "hash": "02e373710fe8ee5e4fefe94e05d12897bb1dce14bb31cd26162c8283164a7cc7"
   }
  }
 },
 "nbformat": 4,
 "nbformat_minor": 2
}
