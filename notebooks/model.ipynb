{
 "cells": [
  {
   "cell_type": "code",
   "execution_count": 16,
   "metadata": {},
   "outputs": [
    {
     "name": "stdout",
     "output_type": "stream",
     "text": [
      "The autoreload extension is already loaded. To reload it, use:\n",
      "  %reload_ext autoreload\n",
      "env: TOKENIZERS_PARALLELISM=false\n"
     ]
    }
   ],
   "source": [
    "# | default_exp model\n",
    "\n",
    "%load_ext autoreload\n",
    "%autoreload 2\n",
    "\n",
    "%env TOKENIZERS_PARALLELISM=false"
   ]
  },
  {
   "cell_type": "code",
   "execution_count": 17,
   "metadata": {},
   "outputs": [],
   "source": [
    "# | export\n",
    "import torch.nn as nn\n",
    "import torch\n",
    "from torch.utils.data import Dataset, DataLoader\n",
    "from tqdm import tqdm\n",
    "from torch.utils.tensorboard import SummaryWriter\n",
    "\n",
    "\n",
    "from torch.nn import functional as F\n",
    "from tokenizers import (\n",
    "    decoders,\n",
    "    models,\n",
    "    normalizers,\n",
    "    pre_tokenizers,\n",
    "    trainers,\n",
    "    Tokenizer,\n",
    ")\n",
    "from tokenizers import ByteLevelBPETokenizer\n",
    "\n",
    "\n",
    "from typing import Optional\n",
    "import math\n",
    "import os\n",
    "from transformers import GPT2TokenizerFast\n",
    "from my_transformer.attention import unidirectional_mask, MultiHeadAttention, LayerNormalization\n",
    "from my_transformer.utils import save_model, load_model"
   ]
  },
  {
   "cell_type": "code",
   "execution_count": 18,
   "metadata": {},
   "outputs": [],
   "source": [
    "from icecream import ic\n",
    "from matplotlib import pyplot as plt\n",
    "\n",
    "\n",
    "device = torch.device(\"mps\" if torch.backends.mps.is_available() else \"cpu\")"
   ]
  },
  {
   "cell_type": "markdown",
   "metadata": {},
   "source": [
    "## Model"
   ]
  },
  {
   "cell_type": "code",
   "execution_count": 19,
   "metadata": {},
   "outputs": [],
   "source": [
    "# | export\n",
    "\n",
    "\n",
    "class FeedForward(nn.Module):\n",
    "    def __init__(self, model_size: int, mlp_factor: int = 4, dropout: float = 0.1) -> None:\n",
    "        super().__init__()\n",
    "        self.net = nn.Sequential(\n",
    "            nn.Linear(model_size, mlp_factor * model_size),\n",
    "            nn.RELU(),\n",
    "            nn.Linear(mlp_factor * model_size, model_size),\n",
    "            nn.Dropout(dropout),\n",
    "        )\n",
    "\n",
    "        def forward(self, x):\n",
    "            return self.net(x)\n",
    "\n",
    "\n",
    "class DecoderLayer(nn.Module):\n",
    "    def __init__(\n",
    "        self, model_size: int, nb_heads: int = 1, dropout: float = 0.0, bias: bool = True, mlp_factor=4\n",
    "    ) -> None:\n",
    "        super().__init__()\n",
    "        self.layer_norm1 = LayerNormalization(model_size)  # LayerNormalization(model_size)\n",
    "        self.attn = MultiHeadAttention(d=model_size, h=nb_heads, dropout=dropout, bias=bias)\n",
    "        self.mlp1 = nn.Linear(model_size, mlp_factor * model_size, bias=bias)\n",
    "        self.mlp2 = nn.Linear(mlp_factor * model_size, model_size, bias=bias)\n",
    "        self.activation = nn.ReLU()\n",
    "        self.layer_norm2 = LayerNormalization(model_size)  # LayerNormalization(model_size)\n",
    "        self.dropout = nn.Dropout(dropout)\n",
    "\n",
    "    def forward(self, x: torch.Tensor, mask: Optional[torch.Tensor] = None) -> torch.Tensor:\n",
    "        b, l, d = x.size()\n",
    "        norm_x = self.layer_norm1(x)\n",
    "        attn_x = x + self.attn(norm_x, z=None, mask=mask)[0]\n",
    "\n",
    "        norm_attn_x = self.layer_norm2(attn_x)\n",
    "        lin1 = self.activation(self.mlp1(norm_attn_x))\n",
    "        x = x + self.dropout(self.mlp2(lin1))\n",
    "        return x"
   ]
  },
  {
   "cell_type": "code",
   "execution_count": 20,
   "metadata": {},
   "outputs": [
    {
     "data": {
      "image/png": "[encoded data removed]",
      "text/plain": [
       "<Figure size 640x480 with 2 Axes>"
      ]
     },
     "metadata": {},
     "output_type": "display_data"
    },
    {
     "data": {
      "image/png": "[encoded data removed]",
      "text/plain": [
       "<Figure size 640x480 with 2 Axes>"
      ]
     },
     "metadata": {},
     "output_type": "display_data"
    }
   ],
   "source": [
    "batch_size = 1\n",
    "seq_len = 10\n",
    "embedding_dim = 3\n",
    "x = torch.rand((batch_size, seq_len, embedding_dim)).to(device)\n",
    "dl = DecoderLayer(embedding_dim, nb_heads=1, dropout=0.1).to(device)\n",
    "mask = unidirectional_mask(seq_len=seq_len).to(device)\n",
    "dlo = dl(x, mask=mask)\n",
    "\n",
    "plt.imshow(x[0].cpu().detach())\n",
    "plt.colorbar()\n",
    "plt.show()\n",
    "\n",
    "plt.imshow(dlo[0].cpu().detach())\n",
    "plt.colorbar()\n",
    "plt.show()"
   ]
  },
  {
   "cell_type": "code",
   "execution_count": 21,
   "metadata": {},
   "outputs": [],
   "source": [
    "# | export\n",
    "\n",
    "\n",
    "class DecoderTransformer(nn.Module):\n",
    "    def __init__(\n",
    "        self,\n",
    "        vocab_size: int,\n",
    "        max_seq_len: int,\n",
    "        model_size: int,\n",
    "        nb_heads: int = 1,\n",
    "        nb_layers: int = 1,\n",
    "        dropout: float = 0.0,\n",
    "        bias: bool = True,\n",
    "    ) -> None:\n",
    "        super().__init__()\n",
    "        self.max_seq_len = max_seq_len\n",
    "        self.tok_emb = nn.Embedding(vocab_size, embedding_dim=model_size)\n",
    "        self.pos_emb = torch.nn.Embedding(max_seq_len, embedding_dim=model_size)\n",
    "\n",
    "        self.layers = nn.Sequential(\n",
    "            *[\n",
    "                DecoderLayer(model_size=model_size, nb_heads=nb_heads, dropout=dropout, bias=bias)\n",
    "                for i in range(nb_layers)\n",
    "            ]\n",
    "        )\n",
    "        self.layer_norm = LayerNormalization(model_size)\n",
    "        self.unembedding = nn.Linear(model_size, vocab_size)\n",
    "\n",
    "    def get_device(self):\n",
    "        # Check the device of parameters or buffers\n",
    "        if next(self.parameters(), None) is not None:\n",
    "            return next(self.parameters()).device\n",
    "        elif next(self.buffers(), None) is not None:\n",
    "            return next(self.buffers()).device\n",
    "        else:\n",
    "            return None  # No parameters or buffers in this module\n",
    "\n",
    "    def forward(self, x: torch.Tensor) -> torch.Tensor:\n",
    "        B, L = x.size()\n",
    "        tok_emb = self.tok_emb(x)\n",
    "        device = self.get_device()\n",
    "        pos_emb = self.pos_emb(torch.arange(L, device=device))\n",
    "        mask = unidirectional_mask(seq_len=L).to(device)\n",
    "        x = tok_emb + pos_emb\n",
    "        # x = self.layers(x, mask)\n",
    "        for layer in self.layers:\n",
    "            x = layer(x, mask)\n",
    "        x = self.layer_norm(x)\n",
    "        logits = self.unembedding(x)\n",
    "        return logits\n",
    "\n",
    "    def generate(self, x: torch.Tensor, max_new_tokens: int):\n",
    "        with torch.no_grad():\n",
    "            for i in range(max_new_tokens):\n",
    "                # we take at most max_seq_len tokens\n",
    "                x_block = x[:, -self.max_seq_len :]\n",
    "                logits = self(x_block)\n",
    "                # we take the logit for last token, used to predict token.\n",
    "                logits = logits[:, -1, :]\n",
    "                probs = F.softmax(logits, dim=-1)\n",
    "                tok_next = torch.multinomial(probs, num_samples=1)\n",
    "                x = torch.cat((x, tok_next), dim=1)\n",
    "        return x"
   ]
  },
  {
   "cell_type": "code",
   "execution_count": 22,
   "metadata": {},
   "outputs": [
    {
     "name": "stderr",
     "output_type": "stream",
     "text": [
      "ic| sum(p.numel() for p in model.parameters()) / 1e6: 0.001526\n",
      "    \"M parameters\": 'M parameters'\n",
      "ic| y_hat.shape: torch.Size([2, 5, 6])\n"
     ]
    },
    {
     "data": {
      "text/plain": [
       "tensor([[0, 1, 2, 5, 3, 0, 0]], device='mps:0')"
      ]
     },
     "execution_count": 22,
     "metadata": {},
     "output_type": "execute_result"
    }
   ],
   "source": [
    "def print_model_size(model: nn.Module):\n",
    "    ic(sum(p.numel() for p in model.parameters()) / 1e6, \"M parameters\")\n",
    "\n",
    "\n",
    "model = DecoderTransformer(vocab_size=6, max_seq_len=5, model_size=10, nb_heads=1).to(device)\n",
    "print_model_size(model)\n",
    "x = torch.tensor([[0, 1, 2, 3, 4], [1, 2, 3, 4, 5]], dtype=torch.int, device=device)\n",
    "y_hat = model(x)\n",
    "ic(y_hat.shape)\n",
    "model.generate(torch.tensor([[0, 1]], dtype=torch.long, device=device), max_new_tokens=5)"
   ]
  },
  {
   "cell_type": "markdown",
   "metadata": {},
   "source": [
    "## Dataset"
   ]
  },
  {
   "cell_type": "code",
   "execution_count": 23,
   "metadata": {},
   "outputs": [],
   "source": [
    "with open(\"../dataset/shakespeare.txt\") as f:\n",
    "    text = f.read()\n",
    "\n",
    "\n",
    "words = text.split(\" \")\n",
    "train_pos = math.ceil(len(words) * 0.8)\n",
    "train_words = words[:train_pos]\n",
    "test_words = words[train_pos:]\n",
    "train_txt = \" \".join(train_words[:])\n",
    "test_txt = \" \".join(test_words[:])"
   ]
  },
  {
   "cell_type": "markdown",
   "metadata": {},
   "source": [
    "## Tokenizer\n",
    "\n",
    "GPT2 use a byte-level BPE (byte pair encoding) tokenizer. First we train a tokenizer to create a vocabulary and merge file that is required by GPT2.\n",
    "GPT-2 expects:\n",
    "- A fixed vocabulary size (e.g., 50,257 tokens).\n",
    "- Specific special tokens (<|endoftext|>).\n",
    "- Byte-level encoding to handle all possible text inputs (including non-standard characters).\n",
    "\n",
    "So GPT2TokenizerFast enrich trained tokenizer"
   ]
  },
  {
   "cell_type": "code",
   "execution_count": 24,
   "metadata": {},
   "outputs": [
    {
     "name": "stdout",
     "output_type": "stream",
     "text": [
      "\n",
      "\n",
      "\n"
     ]
    },
    {
     "data": {
      "text/plain": [
       "GPT2TokenizerFast(name_or_path='./shakespare_tok', vocab_size=1000, model_max_length=1000000000000000019884624838656, is_fast=True, padding_side='right', truncation_side='right', special_tokens={'bos_token': '<|endoftext|>', 'eos_token': '<|endoftext|>', 'unk_token': '<|endoftext|>'}, clean_up_tokenization_spaces=False, added_tokens_decoder={\n",
       "\t1000: AddedToken(\"<|endoftext|>\", rstrip=False, lstrip=False, single_word=False, normalized=True, special=True),\n",
       "}\n",
       ")"
      ]
     },
     "execution_count": 24,
     "metadata": {},
     "output_type": "execute_result"
    }
   ],
   "source": [
    "trained_tokenizer = ByteLevelBPETokenizer()\n",
    "trained_tokenizer.train_from_iterator([train_txt], vocab_size=1000)\n",
    "tok_dir = \"./shakespare_tok\"\n",
    "os.makedirs(tok_dir, exist_ok=True)\n",
    "trained_tokenizer.save_model(tok_dir)\n",
    "tokenizer = GPT2TokenizerFast.from_pretrained(tok_dir)\n",
    "tokenizer"
   ]
  },
  {
   "cell_type": "code",
   "execution_count": 25,
   "metadata": {},
   "outputs": [
    {
     "name": "stderr",
     "output_type": "stream",
     "text": [
      "ic| len(tokenizer.encode(train_txt)) <= len(train_txt): True\n"
     ]
    },
    {
     "data": {
      "text/plain": [
       "[257, 273, 78]"
      ]
     },
     "execution_count": 25,
     "metadata": {},
     "output_type": "execute_result"
    }
   ],
   "source": [
    "ic(len(tokenizer.encode(train_txt)) <= len(train_txt))\n",
    "tokenizer.encode(\"hello\")"
   ]
  },
  {
   "cell_type": "code",
   "execution_count": 26,
   "metadata": {},
   "outputs": [],
   "source": [
    "class BPEDataset(Dataset):\n",
    "    def __init__(self, text: str, tokenizer: Tokenizer, seq_len: int = 20, device: str = \"cpu\"):\n",
    "        self.device = device\n",
    "        self.seq_len = seq_len\n",
    "        self.text = text\n",
    "        self.tokenizer = tokenizer\n",
    "\n",
    "        self.encoded = torch.tensor(self.tokenizer.encode(self.text), dtype=torch.long, device=device)\n",
    "\n",
    "    def __len__(self):\n",
    "        return len(self.encoded) // self.seq_len\n",
    "\n",
    "    def __getitem__(self, idx):\n",
    "        data_len = len(self.encoded)\n",
    "        i = idx * self.seq_len\n",
    "        if i >= data_len:\n",
    "            raise ValueError(f\"idx {idx} bigger than data length {data_len}\")\n",
    "        x = self.encoded[i : i + self.seq_len]\n",
    "        y = self.encoded[i + 1 : i + self.seq_len + 1]\n",
    "        return x, y"
   ]
  },
  {
   "cell_type": "code",
   "execution_count": 27,
   "metadata": {},
   "outputs": [],
   "source": [
    "train_ds = BPEDataset(train_txt, tokenizer=tokenizer, seq_len=10, device=device)\n",
    "train_dl = DataLoader(train_ds, batch_size=5)\n",
    "assert next(iter(train_dl))[0].size() == (5, 10)"
   ]
  },
  {
   "cell_type": "code",
   "execution_count": 28,
   "metadata": {},
   "outputs": [
    {
     "name": "stderr",
     "output_type": "stream",
     "text": [
      "Epoch 1 times batch (45): 100%|██████████| 45/45 [00:07<00:00,  6.10batch/s, epoch=0, train_loss=8.6516, test_loss=8.6559]\n"
     ]
    }
   ],
   "source": [
    "# | export\n",
    "\n",
    "\n",
    "from datetime import datetime\n",
    "\n",
    "\n",
    "class EpochTrainer:\n",
    "    def __init__(\n",
    "        self,\n",
    "        # model: nn.Module,\n",
    "        get_new_model: callable,\n",
    "        optimizer: torch.optim.Optimizer,\n",
    "        train_dl: DataLoader,\n",
    "        test_dl: DataLoader,\n",
    "        model_version: str,\n",
    "        model_name: str,\n",
    "        nb_epochs: int = 100,\n",
    "        loss_fn=F.cross_entropy,\n",
    "        do_save_model: bool = True,\n",
    "        save_every_epoch_nb: int = 20,\n",
    "        device: str = \"cpu\",\n",
    "    ) -> None:\n",
    "        self.model = get_new_model()\n",
    "        self.optimizer = optimizer\n",
    "        self.loss_fn = loss_fn\n",
    "        self.train_dl = train_dl\n",
    "        self.test_dl = test_dl\n",
    "        self.nb_epochs = nb_epochs\n",
    "        self.do_save_model = do_save_model\n",
    "        self.save_every_epoch_nb = save_every_epoch_nb\n",
    "        self.model_name = model_name\n",
    "        self.model_version = model_version\n",
    "        self.device = device\n",
    "        self.writer = None\n",
    "\n",
    "    def compute_loss(self, logits: torch.Tensor, targets: torch.Tensor) -> torch.Tensor:\n",
    "        B, T, C = logits.shape\n",
    "        logits = logits.view(B * T, C)\n",
    "        targets = targets.view(B * T)\n",
    "        loss = self.loss_fn(logits, targets)\n",
    "        return loss\n",
    "\n",
    "    @torch.no_grad()\n",
    "    def estimate_loss(self, i: int):\n",
    "        out = {}\n",
    "        self.model.eval()\n",
    "        for split in [\"train\", \"test\"]:\n",
    "            dl = self.train_dl if split == \"train\" else self.test_dl\n",
    "            if dl is not None:\n",
    "                losses = []\n",
    "                for x, y in dl:\n",
    "                    logits = self.model(x)\n",
    "                    loss = self.compute_loss(logits, y)\n",
    "                    losses.append(loss.item())\n",
    "                loss_mean = torch.tensor(losses).mean()\n",
    "                out[split] = loss_mean\n",
    "                self.writer.add_scalar(f\"{split} loss\", loss_mean, i)\n",
    "        self.model.train()\n",
    "        return out\n",
    "\n",
    "    def train(self, from_epoch: int = 0):\n",
    "        self.writer = SummaryWriter(\n",
    "            f\"../runs/{self.model_name}_{self.model_version}/{datetime.now().strftime('%m-%d-%Y_%H:%M:%S')}\"\n",
    "        )\n",
    "        ex_x, ex_y = next(iter(self.train_dl))\n",
    "        self.writer.add_graph(self.model, (ex_x), use_strict_trace=False)\n",
    "        self.writer.flush()\n",
    "        if from_epoch > 0:\n",
    "            epoch_start_nb = from_epoch + 1\n",
    "        else:\n",
    "            epoch_start_nb = 0\n",
    "        nb_epochs_computed = self.nb_epochs - epoch_start_nb\n",
    "        with tqdm(\n",
    "            total=len(self.train_dl) * nb_epochs_computed,\n",
    "            desc=f\"Epoch {nb_epochs_computed} times batch ({len(self.train_dl)})\",\n",
    "            unit=\"batch\",\n",
    "        ) as pbar:\n",
    "            for curr_epoch in range(epoch_start_nb, self.nb_epochs):\n",
    "                for b, (xb, yb) in enumerate(self.train_dl):\n",
    "                    if device == \"mps\":\n",
    "                        logits = self.model(xb)\n",
    "                        loss = self.compute_loss(logits, yb)\n",
    "                    else:\n",
    "                        # use bf16 when possible based on autocast rules. bf16 is same range than float32, but less precision.\n",
    "                        with torch.autocast(device_type=\"cuda\", dtype=torch.bfloat16):\n",
    "                            logits = self.model(xb)\n",
    "                            loss = self.compute_loss(logits, yb)\n",
    "                    self.optimizer.zero_grad(set_to_none=True)\n",
    "                    loss.backward()\n",
    "                    self.optimizer.step()\n",
    "                    pbar.update(1)\n",
    "\n",
    "                losses = self.estimate_loss(curr_epoch)\n",
    "                pbar.set_postfix(\n",
    "                    {\n",
    "                        \"epoch\": curr_epoch,\n",
    "                        \"train_loss\": f\"{losses.get('train',torch.inf):.4f}\",\n",
    "                        \"test_loss\": f\"{losses.get('test', torch.inf):.4f}\",\n",
    "                    }\n",
    "                )\n",
    "                # print(f\"epoch {curr_epoch}: train loss {losses.get('train',torch.inf):.4f}, val loss {losses.get('test', torch.inf):.4f}\")\n",
    "                for name, weight in self.model.named_parameters():\n",
    "                    self.writer.add_histogram(name, weight, curr_epoch)\n",
    "\n",
    "                # every once in a while evaluate the loss on train and val sets\n",
    "                if self.do_save_model:\n",
    "                    if curr_epoch % self.save_every_epoch_nb == 0:\n",
    "                        save_model(self.model, self.model_name, self.model_version, curr_epoch)\n",
    "\n",
    "        if self.do_save_model:\n",
    "            save_model(self.model, self.model_name, self.model_version, curr_epoch)\n",
    "\n",
    "\n",
    "torch.manual_seed(42)\n",
    "\n",
    "batch_size = 64  # how many independent sequences will we process in parallel?\n",
    "seq_len = 128  # what is the maximum context length for predictions?\n",
    "vocab_size = 5000\n",
    "model_size = 384\n",
    "num_heads = 1\n",
    "num_layers = 2\n",
    "dropout = 0.2\n",
    "nb_epoch = 1\n",
    "last_epoch_nb = 0\n",
    "model_name = \"gpt2\"\n",
    "model_version = f\"t{vocab_size}_0.1\"\n",
    "\n",
    "train_ds = BPEDataset(train_txt, tokenizer=tokenizer, seq_len=seq_len, device=device)\n",
    "train_dl = DataLoader(train_ds, batch_size=batch_size)\n",
    "test_ds = BPEDataset(test_txt, tokenizer=tokenizer, seq_len=seq_len, device=device)\n",
    "test_dl = DataLoader(test_ds, batch_size=batch_size)\n",
    "\n",
    "\n",
    "tr = EpochTrainer(\n",
    "    get_new_model=lambda: DecoderTransformer(\n",
    "        vocab_size=vocab_size,\n",
    "        max_seq_len=seq_len,\n",
    "        model_size=model_size,\n",
    "        nb_heads=num_heads,\n",
    "        nb_layers=num_layers,\n",
    "        dropout=dropout,\n",
    "    ).to(device),\n",
    "    optimizer=torch.optim.AdamW(model.parameters(), lr=3e-4),\n",
    "    train_dl=train_dl,\n",
    "    test_dl=test_dl,\n",
    "    loss_fn=F.cross_entropy,\n",
    "    nb_epochs=nb_epoch,\n",
    "    do_save_model=True,\n",
    "    save_every_epoch_nb=20,\n",
    "    model_name=model_name,\n",
    "    model_version=model_version,\n",
    "    device=device,\n",
    ")\n",
    "tr.train(from_epoch=last_epoch_nb)"
   ]
  },
  {
   "cell_type": "code",
   "execution_count": null,
   "metadata": {},
   "outputs": [],
   "source": []
  }
 ],
 "metadata": {
  "kernelspec": {
   "display_name": "transformer-implementations-urBBcPaT-py3.12",
   "language": "python",
   "name": "python3"
  },
  "language_info": {
   "codemirror_mode": {
    "name": "ipython",
    "version": 3
   },
   "file_extension": ".py",
   "mimetype": "text/x-python",
   "name": "python",
   "nbconvert_exporter": "python",
   "pygments_lexer": "ipython3",
   "version": "3.12.8"
  }
 },
 "nbformat": 4,
 "nbformat_minor": 2
}
